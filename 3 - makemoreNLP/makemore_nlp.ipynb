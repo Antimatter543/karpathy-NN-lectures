{
 "cells": [
  {
   "cell_type": "code",
   "execution_count": 25,
   "metadata": {},
   "outputs": [],
   "source": [
    "import torch\n",
    "import torch.nn.functional as F\n",
    "import matplotlib.pyplot as plt\n",
    "%matplotlib inline"
   ]
  },
  {
   "attachments": {},
   "cell_type": "markdown",
   "metadata": {},
   "source": [
    "![](Capture.PNG)\n",
    "\n",
    "Although we won't do the part where C's go directly into the final layer too because we're here for educational content, not minmaxing :flushed:"
   ]
  },
  {
   "cell_type": "code",
   "execution_count": 26,
   "metadata": {},
   "outputs": [
    {
     "data": {
      "text/plain": [
       "['emma', 'olivia', 'ava', 'isabella', 'sophia', 'charlotte', 'mia', 'amelia']"
      ]
     },
     "execution_count": 26,
     "metadata": {},
     "output_type": "execute_result"
    }
   ],
   "source": [
    "# read in words\n",
    "words = open('../2 - makemore/names.txt', 'r').read().splitlines()\n",
    "words[:8]"
   ]
  },
  {
   "cell_type": "code",
   "execution_count": 27,
   "metadata": {},
   "outputs": [
    {
     "data": {
      "text/plain": [
       "32033"
      ]
     },
     "execution_count": 27,
     "metadata": {},
     "output_type": "execute_result"
    }
   ],
   "source": [
    "len(words)"
   ]
  },
  {
   "cell_type": "code",
   "execution_count": 28,
   "metadata": {},
   "outputs": [
    {
     "name": "stdout",
     "output_type": "stream",
     "text": [
      "{1: 'a', 2: 'b', 3: 'c', 4: 'd', 5: 'e', 6: 'f', 7: 'g', 8: 'h', 9: 'i', 10: 'j', 11: 'k', 12: 'l', 13: 'm', 14: 'n', 15: 'o', 16: 'p', 17: 'q', 18: 'r', 19: 's', 20: 't', 21: 'u', 22: 'v', 23: 'w', 24: 'x', 25: 'y', 26: 'z', 0: '.'} \n",
      " {'a': 1, 'b': 2, 'c': 3, 'd': 4, 'e': 5, 'f': 6, 'g': 7, 'h': 8, 'i': 9, 'j': 10, 'k': 11, 'l': 12, 'm': 13, 'n': 14, 'o': 15, 'p': 16, 'q': 17, 'r': 18, 's': 19, 't': 20, 'u': 21, 'v': 22, 'w': 23, 'x': 24, 'y': 25, 'z': 26, '.': 0}\n"
     ]
    }
   ],
   "source": [
    "# Build the vocab of characters and mappings of char <-> ints\n",
    "chars = sorted(list(set(''.join(words))))\n",
    "stoi = {s:i+1 for i, s in enumerate(chars)} # string to integer\n",
    "stoi['.'] = 0\n",
    "itos = {i: s for s, i in stoi.items()} # int to string\n",
    "print(itos, '\\n', stoi)"
   ]
  },
  {
   "cell_type": "code",
   "execution_count": 79,
   "metadata": {},
   "outputs": [
    {
     "name": "stdout",
     "output_type": "stream",
     "text": [
      "ebrima\n",
      "... ------> e\n",
      "..e ------> b\n",
      ".eb ------> r\n",
      "ebr ------> i\n",
      "bri ------> m\n",
      "rim ------> a\n",
      "ima ------> .\n",
      "hilton\n",
      "... ------> h\n",
      "..h ------> i\n",
      ".hi ------> l\n",
      "hil ------> t\n",
      "ilt ------> o\n",
      "lto ------> n\n",
      "ton ------> .\n",
      "jhene\n",
      "... ------> j\n",
      "..j ------> h\n",
      ".jh ------> e\n",
      "jhe ------> n\n",
      "hen ------> e\n",
      "ene ------> .\n",
      "manahil\n",
      "... ------> m\n",
      "..m ------> a\n",
      ".ma ------> n\n",
      "man ------> a\n",
      "ana ------> h\n",
      "nah ------> i\n",
      "ahi ------> l\n",
      "hil ------> .\n",
      "naiah\n",
      "... ------> n\n",
      "..n ------> a\n",
      ".na ------> i\n",
      "nai ------> a\n",
      "aia ------> h\n",
      "iah ------> .\n",
      "torch.Size([34, 3]) torch.Size([34])\n"
     ]
    }
   ],
   "source": [
    "# Building the dataset\n",
    "\n",
    "def generate_dataset(words, block_size, doprint=False):\n",
    "\t\"returns X, Y datasets based on words list\"\n",
    "\t#block_size: context length: how many characters do we take to predict the next one?\n",
    "\n",
    "\tX, Y = [], []\n",
    "\n",
    "\tfor w in words:\n",
    "\t\tif doprint:\n",
    "\t\t\tprint(w)\t\n",
    "\t\tcontext = [0] * block_size # this would make [0, 0, ...] based on block_size\n",
    "\n",
    "\t\tfor ch in w + '.': \n",
    "\t\t\tix = stoi[ch] # index of char\n",
    "\t\t\tX.append(context)\n",
    "\t\t\tY.append(ix)\n",
    "\t\t\t\n",
    "\t\t\tif doprint:\n",
    "\t\t\t\tprint(''.join(itos[i] for i in context), '------>', itos[ix])\n",
    "\t\t\tcontext = context[1:] + [ix] # [0,0,0] -> [0,0, ix] like a rolling effect\n",
    "\n",
    "\tX = torch.tensor(X)\n",
    "\tY = torch.tensor(Y)\n",
    "\tprint(X.shape, Y.shape)\n",
    "\treturn X, Y\n",
    "X, Y = generate_dataset(words[:5], 3, True)\n"
   ]
  },
  {
   "cell_type": "code",
   "execution_count": 30,
   "metadata": {},
   "outputs": [
    {
     "name": "stdout",
     "output_type": "stream",
     "text": [
      "torch.Size([32, 3]) torch.int64 torch.Size([32]) torch.int64\n"
     ]
    },
    {
     "data": {
      "text/plain": [
       "(tensor([[ 0,  0,  0],\n",
       "         [ 0,  0,  5],\n",
       "         [ 0,  5, 13],\n",
       "         [ 5, 13, 13],\n",
       "         [13, 13,  1],\n",
       "         [ 0,  0,  0],\n",
       "         [ 0,  0, 15],\n",
       "         [ 0, 15, 12],\n",
       "         [15, 12,  9],\n",
       "         [12,  9, 22],\n",
       "         [ 9, 22,  9],\n",
       "         [22,  9,  1],\n",
       "         [ 0,  0,  0],\n",
       "         [ 0,  0,  1],\n",
       "         [ 0,  1, 22],\n",
       "         [ 1, 22,  1],\n",
       "         [ 0,  0,  0],\n",
       "         [ 0,  0,  9],\n",
       "         [ 0,  9, 19],\n",
       "         [ 9, 19,  1],\n",
       "         [19,  1,  2],\n",
       "         [ 1,  2,  5],\n",
       "         [ 2,  5, 12],\n",
       "         [ 5, 12, 12],\n",
       "         [12, 12,  1],\n",
       "         [ 0,  0,  0],\n",
       "         [ 0,  0, 19],\n",
       "         [ 0, 19, 15],\n",
       "         [19, 15, 16],\n",
       "         [15, 16,  8],\n",
       "         [16,  8,  9],\n",
       "         [ 8,  9,  1]]),\n",
       " tensor([ 5, 13, 13,  1,  0, 15, 12,  9, 22,  9,  1,  0,  1, 22,  1,  0,  9, 19,\n",
       "          1,  2,  5, 12, 12,  1,  0, 19, 15, 16,  8,  9,  1,  0]))"
      ]
     },
     "execution_count": 30,
     "metadata": {},
     "output_type": "execute_result"
    }
   ],
   "source": [
    "print(X.shape, X.dtype, Y.shape, Y.dtype)\n",
    "X, Y # Each X[n] maps to a Y[n], that's a training example. So you wanna take the X, predict the Y (via NN once again)."
   ]
  },
  {
   "attachments": {},
   "cell_type": "markdown",
   "metadata": {},
   "source": [
    "### Embedding our inputs\n",
    "This is the first step of the NN -- basically, converting our indexes to some embedding.\n"
   ]
  },
  {
   "cell_type": "code",
   "execution_count": 31,
   "metadata": {},
   "outputs": [
    {
     "data": {
      "text/plain": [
       "tensor([-0.4761, -0.6478])"
      ]
     },
     "execution_count": 31,
     "metadata": {},
     "output_type": "execute_result"
    }
   ],
   "source": [
    "C = torch.randn((27, 2)) # long chocolate bar \n",
    "C[5]"
   ]
  },
  {
   "cell_type": "code",
   "execution_count": 32,
   "metadata": {},
   "outputs": [
    {
     "data": {
      "text/plain": [
       "tensor([-0.4761, -0.6478])"
      ]
     },
     "execution_count": 32,
     "metadata": {},
     "output_type": "execute_result"
    }
   ],
   "source": [
    "F.one_hot(torch.tensor(5), num_classes=27).float() @ C # It's the same thing as indexing, because that's how matrix mult works, and how one hot encodes (remember, just, a vector of 0s  except for the 1 at index 5.) So there's multiple ways you can interpret this. For now, we'll use indexing because it's faster."
   ]
  },
  {
   "cell_type": "code",
   "execution_count": 33,
   "metadata": {},
   "outputs": [
    {
     "data": {
      "text/plain": [
       "tensor([[-0.4761, -0.6478],\n",
       "        [-1.6218, -0.2315],\n",
       "        [-0.4473,  1.0223]])"
      ]
     },
     "execution_count": 33,
     "metadata": {},
     "output_type": "execute_result"
    }
   ],
   "source": [
    "C[[5,6,7]] # We can index multiple things at once, X here we come!!"
   ]
  },
  {
   "cell_type": "code",
   "execution_count": 34,
   "metadata": {},
   "outputs": [
    {
     "name": "stdout",
     "output_type": "stream",
     "text": [
      "torch.Size([32, 3, 2])\n",
      "Ex: For example 13, the 2nd char index is 1, and that has an embedding of tensor([ 0.0536, -0.5210]), and we can see it's the same as C[1]=tensor([ 0.0536, -0.5210])\n"
     ]
    }
   ],
   "source": [
    "emb = C[X] # Can even do multidimensional indexing\n",
    "print(emb.shape)\n",
    "\"\"\"\n",
    "This gives us the embedding for every example of X (of which, each example has 3 inputs).\n",
    "\"\"\"\n",
    "print(f\"Ex: For example 13, the 2nd char index is {X[13, 2]}, and that has an embedding of {emb[13, 2]}, and we can see it's the same as {C[1]=}\")"
   ]
  },
  {
   "attachments": {},
   "cell_type": "markdown",
   "metadata": {},
   "source": [
    "### Weights and Layers\n",
    "Look at the picture. This is the layer that'll get tanh'd -- the above embedding stuff is the look into C and embedding which, which will be our inputs to the NN "
   ]
  },
  {
   "cell_type": "code",
   "execution_count": 35,
   "metadata": {},
   "outputs": [
    {
     "ename": "RuntimeError",
     "evalue": "mat1 and mat2 shapes cannot be multiplied (96x2 and 6x100)",
     "output_type": "error",
     "traceback": [
      "\u001b[1;31m---------------------------------------------------------------------------\u001b[0m",
      "\u001b[1;31mRuntimeError\u001b[0m                              Traceback (most recent call last)",
      "Cell \u001b[1;32mIn[35], line 5\u001b[0m\n\u001b[0;32m      2\u001b[0m b1 \u001b[39m=\u001b[39m torch\u001b[39m.\u001b[39mrandn(\u001b[39m100\u001b[39m)\n\u001b[0;32m      4\u001b[0m \u001b[39m# However!\u001b[39;00m\n\u001b[1;32m----> 5\u001b[0m emb \u001b[39m@\u001b[39;49m W1 \u001b[39m+\u001b[39m b1 \u001b[39m# Gives error since we can't multiply (32,3,2) by (6,100)! We have to convert the embed to a (32, 6) matrix.\u001b[39;00m\n",
      "\u001b[1;31mRuntimeError\u001b[0m: mat1 and mat2 shapes cannot be multiplied (96x2 and 6x100)"
     ]
    }
   ],
   "source": [
    "W1 = torch.randn((6, 100)) # as you can see from the embedding, we'll have 6 inputs per example. (3 chars and each char embedded to 2 things).\n",
    "b1 = torch.randn(100)\n",
    "\n",
    "# However!\n",
    "emb @ W1 + b1 # Gives error since we can't multiply (32,3,2) by (6,100)! We have to convert the embed to a (32, 6) matrix."
   ]
  },
  {
   "cell_type": "code",
   "execution_count": null,
   "metadata": {},
   "outputs": [
    {
     "name": "stdout",
     "output_type": "stream",
     "text": [
      "torch.Size([32, 2])\n"
     ]
    },
    {
     "data": {
      "text/plain": [
       "torch.Size([32, 6])"
      ]
     },
     "execution_count": 47,
     "metadata": {},
     "output_type": "execute_result"
    }
   ],
   "source": [
    "print(emb[:, 0, :].shape) # This'll get embedding of all the first character examples. \n",
    "\"\"\" Now, we'll get all of them in a sequence, and then concat their columns together.\"\"\"\n",
    "\n",
    "torch.cat([emb[:, 0, :], emb[:, 1, :], emb[:, 2, :]], 1).shape # And we want to concatenate along the '1' dimension (i.e column wise here). But it's not easily generalisable if we wanted more code blocks. So:\n",
    "\"\"\"OH SHIT! I JUST REALISED WHAT WAY THE DIMENSION NUMBER WORKS. LOL. FUCK ME.\n",
    "It's just, say you have a torch.Size([a,b,c,d]). a is dim 0, b is dim 1, c is dim 2...\n",
    "\"\"\""
   ]
  },
  {
   "cell_type": "code",
   "execution_count": null,
   "metadata": {},
   "outputs": [
    {
     "name": "stdout",
     "output_type": "stream",
     "text": [
      "torch.Size([32, 3, 2])\n",
      "3\n"
     ]
    },
    {
     "data": {
      "text/plain": [
       "torch.Size([32, 6])"
      ]
     },
     "execution_count": 54,
     "metadata": {},
     "output_type": "execute_result"
    }
   ],
   "source": [
    "print(emb.shape) # we unbind along index 1 to combine the way we want to.\n",
    "print(len(torch.unbind(emb, 1)))\n",
    "\n",
    "torch.cat(torch.unbind(emb, 1), 1).shape # Unbind here does the same thing as our whole emb sequence above"
   ]
  },
  {
   "cell_type": "code",
   "execution_count": null,
   "metadata": {},
   "outputs": [
    {
     "data": {
      "text/plain": [
       "tensor([ 0,  1,  2,  3,  4,  5,  6,  7,  8,  9, 10, 11, 12, 13, 14, 15, 16, 17])"
      ]
     },
     "execution_count": 56,
     "metadata": {},
     "output_type": "execute_result"
    }
   ],
   "source": [
    "# ----- Education ------\n",
    "# # However, we have more efficient way! :o view!\n",
    "a = torch.arange(18)\n",
    "a"
   ]
  },
  {
   "cell_type": "code",
   "execution_count": null,
   "metadata": {},
   "outputs": [
    {
     "data": {
      "text/plain": [
       "(tensor([ 0,  1,  2,  3,  4,  5,  6,  7,  8,  9, 10, 11, 12, 13, 14, 15, 16, 17]),\n",
       " tensor([[ 0,  1,  2,  3,  4,  5,  6,  7,  8],\n",
       "         [ 9, 10, 11, 12, 13, 14, 15, 16, 17]]),\n",
       " tensor([[ 0,  1],\n",
       "         [ 2,  3],\n",
       "         [ 4,  5],\n",
       "         [ 6,  7],\n",
       "         [ 8,  9],\n",
       "         [10, 11],\n",
       "         [12, 13],\n",
       "         [14, 15],\n",
       "         [16, 17]]),\n",
       " tensor([[[ 0,  1],\n",
       "          [ 2,  3],\n",
       "          [ 4,  5]],\n",
       " \n",
       "         [[ 6,  7],\n",
       "          [ 8,  9],\n",
       "          [10, 11]],\n",
       " \n",
       "         [[12, 13],\n",
       "          [14, 15],\n",
       "          [16, 17]]]))"
      ]
     },
     "execution_count": 62,
     "metadata": {},
     "output_type": "execute_result"
    }
   ],
   "source": [
    "a.view(18), a.view(2,9), a.view(9,2), a.view(3,3,2) # They all work, and super quick! Just gotta be a*b*... = num of elements total."
   ]
  },
  {
   "cell_type": "code",
   "execution_count": null,
   "metadata": {},
   "outputs": [
    {
     "name": "stdout",
     "output_type": "stream",
     "text": [
      "torch.Size([32, 3, 2])\n",
      "tensor([[True, True, True, True, True, True],\n",
      "        [True, True, True, True, True, True],\n",
      "        [True, True, True, True, True, True],\n",
      "        [True, True, True, True, True, True],\n",
      "        [True, True, True, True, True, True],\n",
      "        [True, True, True, True, True, True],\n",
      "        [True, True, True, True, True, True],\n",
      "        [True, True, True, True, True, True],\n",
      "        [True, True, True, True, True, True],\n",
      "        [True, True, True, True, True, True],\n",
      "        [True, True, True, True, True, True],\n",
      "        [True, True, True, True, True, True],\n",
      "        [True, True, True, True, True, True],\n",
      "        [True, True, True, True, True, True],\n",
      "        [True, True, True, True, True, True],\n",
      "        [True, True, True, True, True, True],\n",
      "        [True, True, True, True, True, True],\n",
      "        [True, True, True, True, True, True],\n",
      "        [True, True, True, True, True, True],\n",
      "        [True, True, True, True, True, True],\n",
      "        [True, True, True, True, True, True],\n",
      "        [True, True, True, True, True, True],\n",
      "        [True, True, True, True, True, True],\n",
      "        [True, True, True, True, True, True],\n",
      "        [True, True, True, True, True, True],\n",
      "        [True, True, True, True, True, True],\n",
      "        [True, True, True, True, True, True],\n",
      "        [True, True, True, True, True, True],\n",
      "        [True, True, True, True, True, True],\n",
      "        [True, True, True, True, True, True],\n",
      "        [True, True, True, True, True, True],\n",
      "        [True, True, True, True, True, True]])\n"
     ]
    },
    {
     "data": {
      "text/plain": [
       "tensor([[ 2.7268, -3.0981,  3.1197,  ...,  6.5318, -7.7704,  0.0571],\n",
       "        [ 2.2707, -2.2964,  4.6629,  ...,  5.1119, -7.6003, -0.6592],\n",
       "        [ 2.6195, -1.4434,  3.9820,  ...,  3.0401, -6.1684, -1.0681],\n",
       "        ...,\n",
       "        [-2.2184,  0.0373,  0.8352,  ...,  0.4229,  3.6632, -1.0233],\n",
       "        [-1.2713,  1.4442,  5.6576,  ..., -2.1889, -1.2700, -1.3892],\n",
       "        [ 1.2163,  0.8004,  1.0746,  ..., -2.6963,  4.0367, -1.6649]])"
      ]
     },
     "execution_count": 66,
     "metadata": {},
     "output_type": "execute_result"
    }
   ],
   "source": [
    "print(emb.shape)\n",
    "print(emb.view(32, 6) ==  torch.cat(torch.unbind(emb, 1), 1)) # It 'views' it in the same way :o\n",
    "h = emb.view(32, 6) @ W1 + b1\n",
    "h\n",
    "\n",
    "####### --------------- Back to main ------------- ############ \n"
   ]
  },
  {
   "cell_type": "code",
   "execution_count": null,
   "metadata": {},
   "outputs": [
    {
     "name": "stdout",
     "output_type": "stream",
     "text": [
      "tensor([[ 0.9915, -0.9959,  0.9961,  ...,  1.0000, -1.0000,  0.0571],\n",
      "        [ 0.9789, -0.9800,  0.9998,  ...,  0.9999, -1.0000, -0.5779],\n",
      "        [ 0.9894, -0.8944,  0.9993,  ...,  0.9954, -1.0000, -0.7887],\n",
      "        ...,\n",
      "        [-0.9766,  0.0373,  0.6833,  ...,  0.3993,  0.9987, -0.7712],\n",
      "        [-0.8541,  0.8945,  1.0000,  ..., -0.9752, -0.8538, -0.8830],\n",
      "        [ 0.8386,  0.6642,  0.7912,  ..., -0.9909,  0.9994, -0.9309]])\n",
      "torch.Size([32, 100])\n"
     ]
    }
   ],
   "source": [
    "h = torch.tanh(emb.view(-1, 6) @ W1 + b1) # -1 same as emb.shape[0] (infers shit pytorch chad mode) just so we don't hardcode num of examples\n",
    "print(h)  # nums between -1, 1\n",
    "print(h.shape)"
   ]
  },
  {
   "attachments": {},
   "cell_type": "markdown",
   "metadata": {},
   "source": [
    "----- Educational\n",
    "just to make sure we  broadcasting right! https://pytorch.org/docs/stable/notes/broadcasting.html\n",
    "\n",
    "Two tensors are “broadcastable” if the following rules hold:\n",
    "\n",
    "Each tensor has at least one dimension.\n",
    "\n",
    "When iterating over the dimension sizes, starting at the trailing dimension, the dimension sizes must either be equal, one of them is 1, or one of them does not exist."
   ]
  },
  {
   "cell_type": "code",
   "execution_count": null,
   "metadata": {},
   "outputs": [
    {
     "data": {
      "text/plain": [
       "(torch.Size([32, 100]), torch.Size([100]))"
      ]
     },
     "execution_count": 73,
     "metadata": {},
     "output_type": "execute_result"
    }
   ],
   "source": [
    "(emb.view(-1, 6) @ W1).shape, b1.shape\n",
    "# 32, 100\n",
    "#  1 , 100 so it'll make this a row vector (it puts the 1 there), and then element wise additions over all 32 examples. We want this in this case -- same bias vector added to all rows of the matrix.\n",
    "# Good practice to make sure!!!!!"
   ]
  },
  {
   "attachments": {},
   "cell_type": "markdown",
   "metadata": {},
   "source": [
    " Back to main!!\n"
   ]
  },
  {
   "cell_type": "code",
   "execution_count": 36,
   "metadata": {},
   "outputs": [],
   "source": [
    "# Second set of weights -- our final layer in this case!\n",
    "W2 = torch.randn((100, 27)) # 100 inputs, converts to 27 outputs (27 chars that come next)\n",
    "b2 = torch.randn(27)"
   ]
  },
  {
   "cell_type": "code",
   "execution_count": 37,
   "metadata": {},
   "outputs": [
    {
     "ename": "NameError",
     "evalue": "name 'h' is not defined",
     "output_type": "error",
     "traceback": [
      "\u001b[1;31m---------------------------------------------------------------------------\u001b[0m",
      "\u001b[1;31mNameError\u001b[0m                                 Traceback (most recent call last)",
      "Cell \u001b[1;32mIn[37], line 1\u001b[0m\n\u001b[1;32m----> 1\u001b[0m logits \u001b[39m=\u001b[39m h \u001b[39m@\u001b[39m W2 \u001b[39m+\u001b[39m b2 \n\u001b[0;32m      2\u001b[0m logits\u001b[39m.\u001b[39mshape\n",
      "\u001b[1;31mNameError\u001b[0m: name 'h' is not defined"
     ]
    }
   ],
   "source": [
    "logits = h @ W2 + b2 \n",
    "logits.shape"
   ]
  },
  {
   "cell_type": "code",
   "execution_count": 38,
   "metadata": {},
   "outputs": [
    {
     "ename": "NameError",
     "evalue": "name 'logits' is not defined",
     "output_type": "error",
     "traceback": [
      "\u001b[1;31m---------------------------------------------------------------------------\u001b[0m",
      "\u001b[1;31mNameError\u001b[0m                                 Traceback (most recent call last)",
      "Cell \u001b[1;32mIn[38], line 1\u001b[0m\n\u001b[1;32m----> 1\u001b[0m counts \u001b[39m=\u001b[39m logits\u001b[39m.\u001b[39mexp() \n\u001b[0;32m      2\u001b[0m probs \u001b[39m=\u001b[39m counts \u001b[39m/\u001b[39m counts\u001b[39m.\u001b[39msum(\u001b[39m1\u001b[39m, keepdim\u001b[39m=\u001b[39m\u001b[39mTrue\u001b[39;00m)\n\u001b[0;32m      3\u001b[0m \u001b[39mprint\u001b[39m(probs\u001b[39m.\u001b[39mshape,  probs[\u001b[39m0\u001b[39m]\u001b[39m.\u001b[39msum()) \u001b[39m# Sanity check, sum of each row should equal 1 -- each row is prob dist of next word.\u001b[39;00m\n",
      "\u001b[1;31mNameError\u001b[0m: name 'logits' is not defined"
     ]
    }
   ],
   "source": [
    "counts = logits.exp() \n",
    "probs = counts / counts.sum(1, keepdim=True)\n",
    "print(probs.shape,  probs[0].sum()) # Sanity check, sum of each row should equal 1 -- each row is prob dist of next word."
   ]
  },
  {
   "attachments": {},
   "cell_type": "markdown",
   "metadata": {},
   "source": [
    "Now we'll get our loss function, simple simple"
   ]
  },
  {
   "cell_type": "code",
   "execution_count": 39,
   "metadata": {},
   "outputs": [
    {
     "ename": "NameError",
     "evalue": "name 'probs' is not defined",
     "output_type": "error",
     "traceback": [
      "\u001b[1;31m---------------------------------------------------------------------------\u001b[0m",
      "\u001b[1;31mNameError\u001b[0m                                 Traceback (most recent call last)",
      "Cell \u001b[1;32mIn[39], line 1\u001b[0m\n\u001b[1;32m----> 1\u001b[0m \u001b[39mprint\u001b[39m(Y, \u001b[39m'\u001b[39m\u001b[39m\\n\u001b[39;00m\u001b[39m'\u001b[39m, probs[torch\u001b[39m.\u001b[39marange(\u001b[39m32\u001b[39m), Y]) \u001b[39m# The arange goes 0-31, so it'll return the 0-31st row of probs, and Y makes it so we index to the *correct* index, and get the probability of it. Some arw good like a 3.54e-01, but a lot are awful! Let's get the loss now.\u001b[39;00m\n\u001b[0;32m      3\u001b[0m loss \u001b[39m=\u001b[39m \u001b[39m-\u001b[39mprobs[torch\u001b[39m.\u001b[39marange(\u001b[39m32\u001b[39m), Y]\u001b[39m.\u001b[39mlog()\u001b[39m.\u001b[39mmean() \u001b[39m# hardcoded 32 :(\u001b[39;00m\n\u001b[0;32m      4\u001b[0m \u001b[39mprint\u001b[39m(\u001b[39mf\u001b[39m\u001b[39m'\u001b[39m\u001b[39m{\u001b[39;00mloss\u001b[39m=}\u001b[39;00m\u001b[39m'\u001b[39m)\n",
      "\u001b[1;31mNameError\u001b[0m: name 'probs' is not defined"
     ]
    }
   ],
   "source": [
    "print(Y, '\\n', probs[torch.arange(32), Y]) # The arange goes 0-31, so it'll return the 0-31st row of probs, and Y makes it so we index to the *correct* index, and get the probability of it. Some arw good like a 3.54e-01, but a lot are awful! Let's get the loss now.\n",
    "\n",
    "loss = -probs[torch.arange(32), Y].log().mean() # hardcoded 32 :(\n",
    "print(f'{loss=}')"
   ]
  },
  {
   "attachments": {},
   "cell_type": "markdown",
   "metadata": {},
   "source": [
    "### Sum up of everything above, but respectably"
   ]
  },
  {
   "cell_type": "code",
   "execution_count": 40,
   "metadata": {},
   "outputs": [
    {
     "data": {
      "text/plain": [
       "(torch.Size([228146, 3]), torch.Size([228146]))"
      ]
     },
     "execution_count": 40,
     "metadata": {},
     "output_type": "execute_result"
    }
   ],
   "source": [
    "X, Y = generate_dataset(words, 3)\n",
    "X.shape, Y.shape # dataset"
   ]
  },
  {
   "cell_type": "code",
   "execution_count": 103,
   "metadata": {},
   "outputs": [
    {
     "name": "stdout",
     "output_type": "stream",
     "text": [
      "3481\n"
     ]
    }
   ],
   "source": [
    "g = torch.Generator().manual_seed(2147483647)\n",
    "def generate_parameters():\n",
    "\tC = torch.randn(27, 2, generator=g) # le embedding index thingy \n",
    "\tW1 = torch.randn((6, 100), generator=g)\n",
    "\tb1 = torch.randn(100, generator=g)\n",
    "\tW2 = torch.randn((100, 27), generator=g)\n",
    "\tb2 = torch.randn(27, generator=g)\n",
    "\tparameters = [C, W1, b1, W2, b2] # for easy summing parameters\n",
    "\n",
    "\tfor p in parameters:  # Turn on requires grad for our parameter matrices\n",
    "\t\tp.requires_grad = True\n",
    "\t\t\n",
    "\tprint(sum(p.nelement() for p in parameters)) # num of parameters in total\n",
    "\n",
    "\treturn parameters\n",
    "parameters = generate_parameters()"
   ]
  },
  {
   "cell_type": "code",
   "execution_count": 42,
   "metadata": {},
   "outputs": [
    {
     "data": {
      "text/plain": [
       "3481"
      ]
     },
     "execution_count": 42,
     "metadata": {},
     "output_type": "execute_result"
    }
   ],
   "source": []
  },
  {
   "attachments": {},
   "cell_type": "markdown",
   "metadata": {},
   "source": [
    "Educational moment!\n",
    "So, with cross entropy, the forward pass can be much more efficient, the backward pass can be much more efficient, and can be numerically well behaved\n",
    "```\n",
    "logits = torch.tensor([-50, 2, 3, 100])\n",
    "counts = logits.exp() # poggers time to convert logits to prob distrs!\n",
    "probs = counts / counts.sum()\n",
    "probs -> tensor([0., 0., 0., nan])\n",
    "```\n",
    "Uh oh! Basically, it goes way over our max positive limit (via exp, literally doing e^100). Small numbers are fine, and since you can +- any arbitrary constant to logits and get the same prob outputs due to the normalisation, cross_entropy basically does a thing where it picks out the max value number in the logits tensor, and subtracts it away so we don't get any sussy baka nans.\n",
    "\n",
    "Okay, I'm removing the code below and replacing it with F.cross_entropy now :( \n",
    "```\n",
    "\tcounts = logits.exp() # poggers time to convert logits to prob distrs!\n",
    "\tprobs = counts / counts.sum(1, keepdims=True)\n",
    "\tloss = -probs[torch.arange(32), Y].log().mean() # hardcoded 32 :(\n",
    "```"
   ]
  },
  {
   "cell_type": "code",
   "execution_count": 43,
   "metadata": {},
   "outputs": [],
   "source": [
    "def forward_pass(params, X):\n",
    "\tC, W1, b1, W2, b2 = params\n",
    "\t# Construct minibatch (of size 32)\n",
    "\tix = torch.randint(0, X.shape[0], (32,)) # 32 random ints from size of 0- training set\n",
    "\t\n",
    "\t# forward pass\n",
    "\temb = C[X[ix]] # (32,3,2) here\n",
    "\th = torch.tanh(emb.view(-1, 6) @ W1 + b1) # (32, 100)\n",
    "\tlogits = h @ W2 + b2 # (32, 27)\n",
    "\n",
    "\tloss = F.cross_entropy(logits, Y[ix]) # Does the epic normalisation stuff\n",
    "\t# print(f'{loss=}')\n",
    "\treturn logits, loss\n",
    "\n",
    "def train_model(parameters, X, Y):\n",
    "\t\"\"\" \n",
    "\tTHIS IS MINIBATCHED UP BTW!!!\n",
    "\tThe training section of your parameters -- you gradient descent down this mofo!\n",
    "\tThis changed a lot over the course of the video. Like, we have cross entropy instead of the default inefficient normalising way, minibatches, ...\n",
    "\tYeah.\n",
    "\n",
    "\tArgs:\n",
    "\t\tparameters (_type_): From generate_parameters()\n",
    "\t\t\"\"\"\n",
    "\tC, W1, b1, W2, b2 = parameters\n",
    "\tfor _ in range(10):\n",
    "\n",
    "\t\t# Forward pass -- this is minibatched!\n",
    "\t\tlogits, loss = forward_pass(parameters, X)\n",
    "\n",
    "\t\t# backward pass - zero grad, backprop\n",
    "\t\tfor p in parameters:\n",
    "\t\t\tp.grad = None\n",
    "\t\tloss.backward()\n",
    "\n",
    "\t\t# update\n",
    "\t\tfor p in parameters:\n",
    "\t\t\tp.data += -0.1 * p.grad\n",
    "\tprint(f'{loss=}') # This is the loss for the minibatch rn.\n",
    "\treturn parameters\n"
   ]
  },
  {
   "cell_type": "code",
   "execution_count": 44,
   "metadata": {},
   "outputs": [
    {
     "name": "stdout",
     "output_type": "stream",
     "text": [
      "loss=tensor(8.0479, grad_fn=<NllLossBackward0>)\n"
     ]
    }
   ],
   "source": [
    "parameters = train_model(parameters, X, Y)\n",
    "C, W1, b1, W2, b2 = parameters # Just so we can get some fkin 'niceness' between karpathy's going through stuff lecture and us modularising it"
   ]
  },
  {
   "cell_type": "code",
   "execution_count": 45,
   "metadata": {},
   "outputs": [
    {
     "name": "stdout",
     "output_type": "stream",
     "text": [
      "loss=tensor(10.6975, grad_fn=<NllLossBackward0>)\n"
     ]
    }
   ],
   "source": [
    "# This is just a bit so we can see the whole training set loss and not just the training batch loss\n",
    "emb = C[X] # (X.shape[0],3,2) here -- whole set in this case\n",
    "h = torch.tanh(emb.view(-1, 6) @ W1 + b1) # (32, 100)\n",
    "logits = h @ W2 + b2 # (32, 27)\n",
    "\n",
    "loss = F.cross_entropy(logits, Y) # Does the epic normalisation stuff\n",
    "print(f'{loss=}')"
   ]
  },
  {
   "attachments": {},
   "cell_type": "markdown",
   "metadata": {},
   "source": [
    "#### Educational time! Minibatches\n",
    "At the core -- even though minibatches only approximate the gradient (i.e not as reliable as the full training set), you can take a lot more steps, and it's worth it over the full training set that gets the gradient but you tkae a lot less steps.\n",
    "\n",
    "Basically, the way you minibatch is you make a range of numbers (of your minibatch size, like 32) between 0-training set size. And then you run the gradient descent on that batch as your 'training set' basically. And you just keep doing that.\n",
    "~44:00 mins in.\n",
    "```\n",
    "ix = torch.randint(0, 5, (32,)) # generates 32 numbers from 0-5. We'll use this idea for minibatches.\n",
    "```"
   ]
  },
  {
   "attachments": {},
   "cell_type": "markdown",
   "metadata": {},
   "source": [
    "### Trying to find the best learning rate\n",
    "This shit's gotta be so confusing for onlookers lmaooo. Okay, anyways. ~46 mins in. Wait. 46???? DUDE. IT'S BEEN LIKE HALF A FUCKING HOUR. GAAAAAAAH\n",
    "We'll see what learning rates are the best. Time to dismantle the code again :o\n"
   ]
  },
  {
   "cell_type": "code",
   "execution_count": 67,
   "metadata": {},
   "outputs": [],
   "source": [
    "X, Y = generate_dataset(words, 3)\n",
    "parameters = generate_parameters()\n"
   ]
  },
  {
   "cell_type": "code",
   "execution_count": 68,
   "metadata": {},
   "outputs": [],
   "source": [
    "lre = torch.linspace(-3, 0, 1000) # generates 1000 points equally distanced between -3, 0. But these will act as the exponentials of the actual things we're gonna plot.count\n",
    "lrs = 10**lre # exponential spacing :o \n",
    "\n",
    "## Gah, I reput everything here because it was bugging out but I just forgot to do -lr instead of lr when I deleted the hardcoded learning rate @.@\n",
    "# Okay i changed it back fuck me! I gotta use commitign"
   ]
  },
  {
   "cell_type": "code",
   "execution_count": 73,
   "metadata": {},
   "outputs": [],
   "source": [
    "lri = []  # learning rates we used\n",
    "lossi = [] # losses due to that learning rate.\n",
    "C, W1, b1, W2, b2 = parameters\n",
    "for i in range(10000):\n",
    "\t# Forward pass -- this is minibatched!\n",
    "\t\n",
    "\t# Construct minibatch (of size 32)\n",
    "\tix = torch.randint(0, X.shape[0], (32,)) # 32 random ints from size of 0- training set\n",
    "\t\n",
    "\t# forward pass\n",
    "\temb = C[X[ix]] # (32,3,2) here\n",
    "\th = torch.tanh(emb.view(-1, 6) @ W1 + b1) # (32, 100)\n",
    "\tlogits = h @ W2 + b2 # (32, 27)\n",
    "\n",
    "\tloss = F.cross_entropy(logits, Y[ix]) # Does the epic normalisation stuff\n",
    "\t# print(f'{loss=}')\n",
    "\n",
    "\t# backward pass - zero grad, backprop\n",
    "\tfor p in parameters:\n",
    "\t\tp.grad = None\n",
    "\tloss.backward()\n",
    "\n",
    "\t# update\n",
    "\t# lr = lrs[i]\n",
    "\tlr = 0.1\n",
    "\tfor p in parameters:\n",
    "\t\tp.data += -lr * p.grad\n",
    "\n",
    "\t# # track stats\n",
    "\t# lri.append(lr)\n",
    "\t# lossi.append(loss.item())\n",
    "\n",
    "\n",
    "# print(f'{loss=}') # This is the loss for the minibatch rn."
   ]
  },
  {
   "cell_type": "code",
   "execution_count": 59,
   "metadata": {},
   "outputs": [
    {
     "data": {
      "text/plain": [
       "[<matplotlib.lines.Line2D at 0x23db4642850>]"
      ]
     },
     "execution_count": 59,
     "metadata": {},
     "output_type": "execute_result"
    },
    {
     "data": {
      "image/png": "[encoded data removed]",
      "text/plain": [
       "<Figure size 640x480 with 1 Axes>"
      ]
     },
     "metadata": {},
     "output_type": "display_data"
    }
   ],
   "source": [
    "plt.plot(lri, lossi) # Looks like 0.1 is a pretty good learning rate"
   ]
  },
  {
   "cell_type": "code",
   "execution_count": 76,
   "metadata": {},
   "outputs": [
    {
     "name": "stdout",
     "output_type": "stream",
     "text": [
      "torch.Size([228146, 100])\n",
      "loss=tensor(2.4532, grad_fn=<NllLossBackward0>)\n"
     ]
    }
   ],
   "source": [
    "# Eval the loss on the entire training set\n",
    "emb = C[X] # (X.shape[0],3,2) here -- whole set in this case\n",
    "h = torch.tanh(emb.view(-1, 6) @ W1 + b1) # (blah, 100)\n",
    "\n",
    "logits = h @ W2 + b2 # (32, 27)\n",
    "\n",
    "loss = F.cross_entropy(logits, Y) # Does the epic normalisation stuff\n",
    "print(f'{loss=}')\n",
    "# Bigram model surpassed, gigachad.\n",
    "# And now we can start lowering the lr to like 0.01, etc.. so we can getting closer to the min instead of jumping around it."
   ]
  },
  {
   "attachments": {},
   "cell_type": "markdown",
   "metadata": {},
   "source": [
    "### Training split, dev/validation split, test split.\n",
    "80%, 10%, 10%.\n",
    "- So training split is for the initial training stage; the gradient descent stuff you just saw above.\n",
    "- Dev/validation split is for finetuning hyperparameters (number of weights, size of embedding, size of hidden layer, ...)\n",
    "- test split is for your final evaluation basically -- be careful for overusing this, because, every time you learn something from the test split, you risk overfitting it (because it's info from a split that shouldn't be 'known' to you :o)\n",
    "\n"
   ]
  },
  {
   "cell_type": "code",
   "execution_count": 80,
   "metadata": {},
   "outputs": [
    {
     "name": "stdout",
     "output_type": "stream",
     "text": [
      "torch.Size([182437, 3]) torch.Size([182437])\n",
      "torch.Size([22781, 3]) torch.Size([22781])\n",
      "torch.Size([22928, 3]) torch.Size([22928])\n"
     ]
    }
   ],
   "source": [
    "import random\n",
    "random.seed(42)\n",
    "random.shuffle(words)\n",
    "n1 = int(0.8*len(words))\n",
    "n2 = int(0.9*len(words))\n",
    "\n",
    "Xtr, Ytr = generate_dataset(words[:n1], 3)\n",
    "Xdev, Ydev = generate_dataset(words[n1:n2], 3)\n",
    "Xte, Yte = generate_dataset(words[n2:], 3)\n",
    "# Of course, the sizes are way more massive than # word examples because these are the examples from the words (char stuff), not the words themselves."
   ]
  },
  {
   "cell_type": "code",
   "execution_count": 86,
   "metadata": {},
   "outputs": [
    {
     "name": "stdout",
     "output_type": "stream",
     "text": [
      "32033\n",
      "index n1=25626, index n2=28829, so you'd get 25626 training words, 3203 dev words, and 3204 test examples\n"
     ]
    },
    {
     "data": {
      "text/plain": [
       "(25626, 28829)"
      ]
     },
     "execution_count": 86,
     "metadata": {},
     "output_type": "execute_result"
    }
   ],
   "source": [
    "print(len(words))\n",
    "print(f\"index {n1=}, index {n2=}, so you'd get {n1} training words, {n2-n1} dev words, and {len(words)-n2} test examples\")\n",
    "n1, n2,  # This would be how many training sets, "
   ]
  },
  {
   "cell_type": "code",
   "execution_count": 176,
   "metadata": {},
   "outputs": [],
   "source": [
    "g = torch.Generator().manual_seed(2147483647)\n",
    "def generate_BIG_parameters():\n",
    "\t# We booosting our hidden layer size\n",
    "\tC = torch.randn(27, 10, generator=g) # le embedding index thingy \n",
    "\tW1 = torch.randn((30, 200), generator=g)\n",
    "\tb1 = torch.randn(200, generator=g)\n",
    "\tW2 = torch.randn((200, 27), generator=g)\n",
    "\tb2 = torch.randn(27, generator=g)\n",
    "\tparameters = [C, W1, b1, W2, b2] # for easy summing parameters\n",
    "\n",
    "\tfor p in parameters:  # Turn on requires grad for our parameter matrices\n",
    "\t\tp.requires_grad = True\n",
    "\t\t\n",
    "\tprint(sum(p.nelement() for p in parameters)) # num of parameters in total\n",
    "\n",
    "\treturn parameters"
   ]
  },
  {
   "cell_type": "code",
   "execution_count": 177,
   "metadata": {},
   "outputs": [
    {
     "name": "stdout",
     "output_type": "stream",
     "text": [
      "torch.Size([228146, 3]) torch.Size([228146])\n",
      "11897\n"
     ]
    }
   ],
   "source": [
    "## Okay, so again, but now we'll train on training set only\n",
    "X, Y = generate_dataset(words, 3)\n",
    "# parameters = generate_parameters()\n",
    "parameters = generate_BIG_parameters()\n",
    "C = torch.randn(27, 10, generator=g) # 1:08:00 basically final bit of video\n",
    "\n",
    "lre = torch.linspace(-3, 0, 1000) # generates 1000 points equally distanced between -3, 0\n",
    "lrs = 10**lre # exponential spacing :o "
   ]
  },
  {
   "cell_type": "code",
   "execution_count": 178,
   "metadata": {},
   "outputs": [],
   "source": [
    "# lri = []  # learning rates we used\n",
    "lossi = [] # losses due to that learning rate.\n",
    "stepi = []"
   ]
  },
  {
   "cell_type": "code",
   "execution_count": 183,
   "metadata": {},
   "outputs": [],
   "source": [
    "C, W1, b1, W2, b2 = parameters\n",
    "for i in range(50000):\n",
    "\t# Forward pass -- this is minibatched!\n",
    "\t\n",
    "\t# Construct minibatch (of size 32)\n",
    "\tix = torch.randint(0, Xtr.shape[0], (32,)) # 32 random ints from size of 0- training set\n",
    "\t\n",
    "\t# forward pass\n",
    "\temb = C[Xtr[ix]] # (32,3,2) here\n",
    "\th = torch.tanh(emb.view(-1, 30) @ W1 + b1) # (32, 100). Hardedcoded af 3*embedding size :flushed:\n",
    "\tlogits = h @ W2 + b2 # (32, 27)\n",
    "\n",
    "\tloss = F.cross_entropy(logits, Ytr[ix]) # Does the epic normalisation stuff\n",
    "\t# print(f'{loss=}')\n",
    "\n",
    "\t# backward pass - zero grad, backprop\n",
    "\tfor p in parameters:\n",
    "\t\tp.grad = None\n",
    "\tloss.backward()\n",
    "\n",
    "\t# update\n",
    "\t# lr = lrs[i]\n",
    "\tlr = 0.1 if i < 20000 else 0.01\n",
    "\tfor p in parameters:\n",
    "\t\tp.data += -lr * p.grad\n",
    "\n",
    "\t# # track stats\n",
    "\t# lri.append(lr)\n",
    "\tstepi.append(i)\n",
    "\tlossi.append(loss.log10().item())\n",
    "\n",
    "\n",
    "# print(f'{loss=}') # This is the loss for the minibatch rn."
   ]
  },
  {
   "cell_type": "code",
   "execution_count": 185,
   "metadata": {},
   "outputs": [
    {
     "data": {
      "text/plain": [
       "[<matplotlib.lines.Line2D at 0x23db913d550>]"
      ]
     },
     "execution_count": 185,
     "metadata": {},
     "output_type": "execute_result"
    },
    {
     "data": {
      "image/png": "[encoded data removed]",
      "text/plain": [
       "<Figure size 640x480 with 1 Axes>"
      ]
     },
     "metadata": {},
     "output_type": "display_data"
    }
   ],
   "source": [
    "plt.plot(stepi, lossi) # the minibatches are what is creating that bit of noises of look OOOOO EEEEEE OOOOO EEEE fluctuation\n",
    "# # It could be an idea to increase batchsize so the fluctuation isn't so boobobdobol"
   ]
  },
  {
   "cell_type": "code",
   "execution_count": 184,
   "metadata": {},
   "outputs": [
    {
     "name": "stdout",
     "output_type": "stream",
     "text": [
      "2.2210326194763184\n"
     ]
    }
   ],
   "source": [
    "print(loss.item()) "
   ]
  },
  {
   "cell_type": "code",
   "execution_count": 186,
   "metadata": {},
   "outputs": [
    {
     "name": "stdout",
     "output_type": "stream",
     "text": [
      "loss=tensor(2.1711, grad_fn=<NllLossBackward0>)\n",
      "loss=tensor(2.2166, grad_fn=<NllLossBackward0>)\n"
     ]
    }
   ],
   "source": [
    "# Evaluating with our dev set\n",
    "# Eval the loss on the entire training set\n",
    "def evaluate_loss(X, Y):\n",
    "\temb = C[X] # (X.shape[0],3,2) here -- whole set in this case\n",
    "\th = torch.tanh(emb.view(-1, 30) @ W1 + b1) # (blah, 100)\n",
    "\n",
    "\tlogits = h @ W2 + b2 # (32, 27)\n",
    "\n",
    "\tloss = F.cross_entropy(logits, Y) # Does the epic normalisation stuff\n",
    "\tprint(f'{loss=}')\n",
    "\treturn loss\n",
    "\n",
    "train_loss = evaluate_loss(Xtr, Ytr)\n",
    "dev_loss = evaluate_loss(Xdev, Ydev) # Our train and dev losses are about equal, so we aren't overfitting :D (our model isn't powerful enough to just memorise our training set)\n",
    "\n",
    "# Actually, since they're almost the same, it indicates our model is underfitting --> indicates our model might be too small. Easiest way to do it is to just increase our hidden layer size, add some more neurons.\n",
    "\n",
    "### 1:10:000 ooooh our train loss and dev loss is beginning to grow apart!! this is an incidication we're  beginning to overfiit\n"
   ]
  },
  {
   "cell_type": "code",
   "execution_count": 155,
   "metadata": {},
   "outputs": [
    {
     "data": {
      "image/png": "[encoded data removed]",
      "text/plain": [
       "<Figure size 800x800 with 1 Axes>"
      ]
     },
     "metadata": {},
     "output_type": "display_data"
    }
   ],
   "source": [
    "### We can visualise our embeddings rn because it's just 2 dimensions:\n",
    "# visualize dimensions 0 and 1 of the embedding matrix C for all characters\n",
    "plt.figure(figsize=(8,8))\n",
    "plt.scatter(C[:,0].data, C[:,1].data, s=200)\n",
    "for i in range(C.shape[0]):\n",
    "    plt.text(C[i,0].item(), C[i,1].item(), itos[i], ha=\"center\", va=\"center\", color='white')\n",
    "plt.grid('minor')"
   ]
  },
  {
   "attachments": {},
   "cell_type": "markdown",
   "metadata": {},
   "source": [
    "How fuckin cool is that! The embeddings show that it 'sees' the vowels as similar; they are often interchangeable and/or have similar properties. This is learnt!!!! It's a bit different to what karpathy had (in terms of pure numbers), but the clusters are similar -- there's our vowel cluster, '.' is in its little spot because it's not similar to anything, and g is in the fuckin woods -- it's doesn't seem to share similar properties at all!\n",
    "\n",
    "#### Hmmm, what could be stopping our loss from reducing?\n",
    "Well, the line of thinking is that -- we're underfitting, and we made the layer size a lot bigger but that didn't really decrease the loss, so it might be due to the embedding size. Let's try improving it. Pog. Changed embedding size.\n",
    "\n",
    "\n",
    "### Last bit, sampling!!"
   ]
  },
  {
   "cell_type": "code",
   "execution_count": 187,
   "metadata": {},
   "outputs": [
    {
     "data": {
      "text/plain": [
       "torch.Size([1, 3, 10])"
      ]
     },
     "execution_count": 187,
     "metadata": {},
     "output_type": "execute_result"
    }
   ],
   "source": [
    "block_size = 3\n",
    "context = [0] * block_size\n",
    "C[torch.tensor([context])].shape # Shape of (1, block_size, embedding_size) yep makes sense!!! # Since it's like, block size is # of chars we're using to predict the next one, embedding size is the... well, embedding size of each char."
   ]
  },
  {
   "cell_type": "code",
   "execution_count": 189,
   "metadata": {},
   "outputs": [
    {
     "name": "stdout",
     "output_type": "stream",
     "text": [
      "carpavela.\n",
      "jhavi.\n",
      "kimlyn.\n",
      "tatyah.\n",
      "cassie.\n",
      "mahuen.\n",
      "delyah.\n",
      "jareei.\n",
      "nermara.\n",
      "chaiir.\n",
      "kaleigh.\n",
      "ham.\n",
      "jory.\n",
      "quinn.\n",
      "sulin.\n",
      "alianni.\n",
      "wanelo.\n",
      "dearynix.\n",
      "kael.\n",
      "durat.\n"
     ]
    }
   ],
   "source": [
    "# sample from the model\n",
    "g = torch.Generator().manual_seed(2147483647 + 10)\n",
    "\n",
    "for _ in range(20):\n",
    "    \n",
    "    out = []\n",
    "    context = [0] * block_size # initialize with all ...\n",
    "    while True:\n",
    "      emb = C[torch.tensor([context])] # (1,block_size, embedding_size)\n",
    "      h = torch.tanh(emb.view(1, -1) @ W1 + b1)\n",
    "      logits = h @ W2 + b2\n",
    "      probs = F.softmax(logits, dim=1) # exponentiates, normalises (sum to one). It's like entropy, but goes from logits -> prob distr, instead of logits -> loss\n",
    "      ix = torch.multinomial(probs, num_samples=1, generator=g).item()\n",
    "      context = context[1:] + [ix]\n",
    "      out.append(ix)\n",
    "      if ix == 0:\n",
    "        break\n",
    "    \n",
    "    print(''.join(itos[i] for i in out))"
   ]
  },
  {
   "cell_type": "code",
   "execution_count": null,
   "metadata": {},
   "outputs": [],
   "source": []
  }
 ],
 "metadata": {
  "kernelspec": {
   "display_name": "venv",
   "language": "python",
   "name": "python3"
  },
  "language_info": {
   "codemirror_mode": {
    "name": "ipython",
    "version": 3
   },
   "file_extension": ".py",
   "mimetype": "text/x-python",
   "name": "python",
   "nbconvert_exporter": "python",
   "pygments_lexer": "ipython3",
   "version": "3.9.5 (tags/v3.9.5:0a7dcbd, May  3 2021, 17:27:52) [MSC v.1928 64 bit (AMD64)]"
  },
  "orig_nbformat": 4,
  "vscode": {
   "interpreter": {
    "hash": "c8a31c3d3c58cfe49314f156da5c5377d35db16854b5a4a4800d645f76ea86e2"
   }
  }
 },
 "nbformat": 4,
 "nbformat_minor": 2
}
