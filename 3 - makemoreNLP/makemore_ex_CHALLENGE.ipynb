{
 "cells": [
  {
   "attachments": {},
   "cell_type": "markdown",
   "metadata": {},
   "source": [
    "Karpathy has CHALLENGED US TO BEAT HIS VALIDATION LOSS OF 2.2 (dev set loss).\n",
    "WE MUST!!! ONWARDS!!!! (We'll change the hyperparameters hbehehe)\n",
    "Also, he said we should be able to read a good chunk of the paper by now, so let's try that too :D\n",
    "\n",
    "Anyways, for this, let's make nice functions where we can change all the hyperparameters.\n",
    "Batch size, # neurons, C embedding size, lr, ... \n"
   ]
  },
  {
   "cell_type": "code",
   "execution_count": 6,
   "metadata": {},
   "outputs": [],
   "source": [
    "import torch\n",
    "import torch.nn.functional as F\n",
    "import matplotlib.pyplot as plt\n",
    "%matplotlib inline"
   ]
  },
  {
   "cell_type": "code",
   "execution_count": 7,
   "metadata": {},
   "outputs": [
    {
     "data": {
      "text/plain": [
       "['emma', 'olivia', 'ava', 'isabella', 'sophia', 'charlotte', 'mia', 'amelia']"
      ]
     },
     "execution_count": 7,
     "metadata": {},
     "output_type": "execute_result"
    }
   ],
   "source": [
    "# Read words and generate our char <-> int functions\n",
    "words = open('../2 - makemore/names.txt', 'r').read().splitlines() # Read everything\n",
    "chars = sorted(list(set(''.join(words))))\n",
    "stoi = {s:i+1 for i, s in enumerate(chars)} # string to integer\n",
    "stoi['.'] = 0\n",
    "itos = {i: s for s, i in stoi.items()} # int to string\n",
    "\n",
    "words[:8] # woo\n"
   ]
  },
  {
   "attachments": {},
   "cell_type": "markdown",
   "metadata": {},
   "source": [
    "Making our dataset splits"
   ]
  },
  {
   "cell_type": "code",
   "execution_count": 286,
   "metadata": {},
   "outputs": [],
   "source": [
    "def generate_dataset(words, block_size, doprint=False):\n",
    "\t\"\"\"returns X, Y datasets based on words list\n",
    "\tblock_size: context length: how many characters do we take to predict the next one?\n",
    "\t\"\"\"\n",
    "\tX, Y = [], []\n",
    "\n",
    "\tfor w in words:\n",
    "\t\tif doprint:\n",
    "\t\t\tprint(w)\t\n",
    "\t\tcontext = [0] * block_size # this would make [0, 0, ...] based on block_size\n",
    "\n",
    "\t\tfor ch in w + '.': \n",
    "\t\t\tix = stoi[ch] # index of char\n",
    "\t\t\tX.append(context)\n",
    "\t\t\tY.append(ix)\n",
    "\t\t\t\n",
    "\t\t\tif doprint:\n",
    "\t\t\t\tprint(''.join(itos[i] for i in context), '------>', itos[ix])\n",
    "\t\t\tcontext = context[1:] + [ix] # [0,0,0] -> [0,0, ix] like a rolling effect\n",
    "\n",
    "\tX = torch.tensor(X)\n",
    "\tY = torch.tensor(Y)\n",
    "\tprint(X.shape, Y.shape)\n",
    "\treturn X, Y"
   ]
  },
  {
   "cell_type": "code",
   "execution_count": 307,
   "metadata": {},
   "outputs": [],
   "source": [
    "### Hyperparameters!!! CHANGE STUFF HERE\n",
    "block_size = 3 # num of past chars to use to predict next char\n",
    "embedding_size = 10\n",
    "num_neurons = 250 # for layer 1 \n",
    "batch_size = 48"
   ]
  },
  {
   "cell_type": "code",
   "execution_count": 318,
   "metadata": {},
   "outputs": [
    {
     "name": "stdout",
     "output_type": "stream",
     "text": [
      "number of words: 32033\n",
      "torch.Size([182552, 3]) torch.Size([182552])\n",
      "torch.Size([22797, 3]) torch.Size([22797])\n",
      "torch.Size([22797, 3]) torch.Size([22797])\n"
     ]
    }
   ],
   "source": [
    "# Generate our train, dev, and test loss. We'll be trying to get dev loss < 2.2\n",
    "import random\n",
    "random.seed(42)\n",
    "random.shuffle(words)\n",
    "n1 = int(0.8*len(words))\n",
    "n2 = int(0.9*len(words))\n",
    "print(f'number of words: {len(words)}')\n",
    "\n",
    "Xtr, Ytr = generate_dataset(words[:n1], block_size)\n",
    "Xdev, Ydev = generate_dataset(words[n1:n2], block_size)\n",
    "Xte, Yte = generate_dataset(words[n2:], block_size)\n",
    "# Of course, the sizes are way more massive than # word examples because these are the examples from the words (char stuff), not the words themselves."
   ]
  },
  {
   "attachments": {},
   "cell_type": "markdown",
   "metadata": {},
   "source": [
    "Next up, initialisation of our model! I.e, we'll initialise the weights."
   ]
  },
  {
   "cell_type": "code",
   "execution_count": 326,
   "metadata": {},
   "outputs": [
    {
     "name": "stdout",
     "output_type": "stream",
     "text": [
      "Number of parameters in total: 14797\n"
     ]
    },
    {
     "data": {
      "text/plain": [
       "(torch.Size([27, 10]), torch.Size([30, 250]))"
      ]
     },
     "execution_count": 326,
     "metadata": {},
     "output_type": "execute_result"
    }
   ],
   "source": [
    "g = torch.Generator().manual_seed(2147483647) # This will be a 'global' generator\n",
    "def generate_parameters(block_size, embedding_size, num_neurons):\n",
    "\t# We booosting our hidden layer size\n",
    "\tC = torch.randn(27, embedding_size, generator=g) # Generate embedding of characters, e.g (27,10)\n",
    "\n",
    "\tW1 = torch.randn((embedding_size * block_size, num_neurons), generator=g) # first weights takes input from \n",
    "\tb1 = torch.randn(num_neurons, generator=g)\n",
    "\tW2 = torch.randn((num_neurons, 27), generator=g)\n",
    "\tb2 = torch.randn(27, generator=g)\n",
    "\tparameters = [C, W1, b1, W2, b2] # for easy summing parameters\n",
    "\n",
    "\tfor p in parameters:  # Turn on requires grad for our parameter matrices\n",
    "\t\tp.requires_grad = True\n",
    "\t\t\n",
    "\tprint(\"Number of parameters in total:\", sum(p.nelement() for p in parameters)) # num of parameters in total\n",
    "\n",
    "\treturn parameters\n",
    "parameters = generate_parameters(block_size, embedding_size, num_neurons)\n",
    "C, W1, b1, W2, b2 = parameters\n",
    "C.shape, W1.shape\n"
   ]
  },
  {
   "cell_type": "markdown",
   "metadata": {},
   "source": [
    "Just as a consolidation bit, we'd be wanting to do this to push it through the first layer\n",
    "```\n",
    "C[Xtr] @ W1 + b1 # -> doesn't work, as C[Xtr].shape -> torch.Size([182484, 3, 10]) || Each example has 3 inputs, and each char input has an embedding size of 10.\n",
    "W1 -> torch.Size([30, 200]). \n",
    "```\n",
    "We want to flatten the embedded stuff so each example just reads as a 30 length vector (or w.e the size of the thingy is), i.e ([# examples, block*embedding sizes ]). We do this via: \n",
    "```\n",
    "C[Xtr].view((-1, block_size*embedding_size)).shape -> torch.Size([182484, 30])\n",
    "C[Xtr].view((-1, block_size*embedding_size)) @ W1 + b1 # works! -> torch.Size([182484, 200]). Yay!\n",
    "```"
   ]
  },
  {
   "attachments": {},
   "cell_type": "markdown",
   "metadata": {},
   "source": [
    "## And now we'll have to do gradient descent on the model. \n",
    "\n",
    "(this is called the training loop or whatever)\n",
    "If I remember well,\n",
    "\n",
    "0th step; we can minibatch! To make the mfer run faster, even at some loss of accuracy of the gradient to descend, it's still much better overall.\n",
    "\n",
    "#### First step, is forward passing.\n",
    " We get the training data (specifically, training data from minibatch). We embed it, and flatten that embedding (using the efficient .view(..)), and then 'run it through' the layers by doing our activation on it. Then we run it through the second layer (our final one), giving us the logits.\n",
    "\n",
    "We can get the loss straight up by doing F.cross_entropy, or we can get the probability dist. by softmaxing it. (And then you could work out loss. Remember, these functions are doing very simple things we've already done!! -- they just exp, normalise weights, and then get the negative loss likelihood).\n",
    "\n",
    "#### The backwards pass\n",
    "Make sure to set all our grads to 0.\n",
    "Then we just  loss.backward(), propagating through every operation done and getting it's gradient w.r.t loss\n",
    "\n",
    "#### Updating weights\n",
    "And we just update the weights now :D \n"
   ]
  },
  {
   "cell_type": "code",
   "execution_count": 327,
   "metadata": {},
   "outputs": [],
   "source": [
    "# Implemented hardcode first\n",
    "\n",
    "def train(X: torch.Tensor, Y: torch.Tensor, num_steps: int, block_size: int, embedding_size: int, batch_size:int,  parameters, doTrack = False): \n",
    "\t\"\"\"_summary_\n",
    "\n",
    "\tArgs:\n",
    "\t\tX (torch.Tensor): X dataset to train on (train with our Xtr!)\n",
    "\t\tY (torch.Tensor): Y dataset for labels\n",
    "\t\tnum_steps (int): Number of times to go through loop\n",
    "\t\tblock_size (int): Context length; # characters used to predict next one\n",
    "\t\tembedding_size (int): Size of embedding for the characters\n",
    "\t\tparameters (_type_): param\n",
    "\n",
    "\n",
    "\t\"\"\"\n",
    "\tC, W1, b1, W2, b2 = parameters\n",
    "\t# track stats (optional)\n",
    "\tstepi, lossi = [], []\n",
    "\n",
    "\t# Main training loop\n",
    "\tfor i in range(num_steps):\n",
    "\t\tix = torch.randint(0, X.shape[0], (32,)) # We get {minibatch_size} random ints from size of 0- training set\n",
    "\t\t\n",
    "\t\t# forward pass -- on our minibatch :o !!!!\n",
    "\t\temb = C[X[ix]] # (32,3,2) here || (minibatch_size, block_size, embed size))\n",
    "\t\t# print(f'{emb.shape=}')\n",
    "\t\th = torch.tanh(emb.view(-1, block_size*embedding_size) @ W1 + b1) # We do the whole embed flatten, push it through layer 1, and tanh activation on it. All elements of h is between [-1, 1]\n",
    "\t\tlogits = h @ W2 + b2 # (32, 27)\n",
    "\n",
    "\n",
    "\t\tloss = F.cross_entropy(logits, Y[ix]) # Does the epic normalisation stuff for us \n",
    "\t\t# print(f'Loss during this minibatch loop: {loss=}')\n",
    "\n",
    "\t\t# backward pass - zero grad, backprop\n",
    "\t\tfor p in parameters:\n",
    "\t\t\tp.grad = None\n",
    "\t\tloss.backward()\n",
    "\n",
    "\t\t# update\n",
    "\t\t# lr = lrs[i]\n",
    "\t\tlr = 0.1 if i < 100000 else 0.01\n",
    "\t\tfor p in parameters:\n",
    "\t\t\tp.data += -lr * p.grad\n",
    "\n",
    "\t\t# track stats (optional part)\n",
    "\t\tif doTrack:\n",
    "\t\t\tstepi.append(i)\n",
    "\t\t\tlossi.append(loss.log10().item())\n",
    "\n",
    "\treturn loss, [stepi, lossi] # Not needed, I'm just putting it here because why not"
   ]
  },
  {
   "cell_type": "code",
   "execution_count": 328,
   "metadata": {},
   "outputs": [
    {
     "name": "stdout",
     "output_type": "stream",
     "text": [
      "tensor(1.9919, grad_fn=<NllLossBackward0>)\n"
     ]
    }
   ],
   "source": [
    "train_loss, track_stats = train(Xtr, Ytr, 2*10**5, block_size, embedding_size, batch_size, parameters, doTrack=False) \n",
    "print(train_loss)"
   ]
  },
  {
   "cell_type": "code",
   "execution_count": 329,
   "metadata": {},
   "outputs": [
    {
     "data": {
      "text/plain": [
       "[<matplotlib.lines.Line2D at 0x24b8ca77940>]"
      ]
     },
     "execution_count": 329,
     "metadata": {},
     "output_type": "execute_result"
    },
    {
     "data": {
      "image/png": "[encoded data removed]",
      "text/plain": [
       "<Figure size 640x480 with 1 Axes>"
      ]
     },
     "metadata": {},
     "output_type": "display_data"
    }
   ],
   "source": [
    "plt.plot(track_stats[0], track_stats[1]) # stepi, lossi"
   ]
  },
  {
   "attachments": {},
   "cell_type": "markdown",
   "metadata": {},
   "source": [
    "### Great! Now let's evaluate our model!\n",
    "(Our model is our parameters :ooooo)\n",
    "It also comes to my attention now that maybe setting the hyperparametrs as constants  would be better so I didn't have to feed in every goddamn thing into every function"
   ]
  },
  {
   "cell_type": "code",
   "execution_count": 330,
   "metadata": {},
   "outputs": [],
   "source": [
    "def evaluate_loss(X, Y, block_size, embedding_size, parameters):\n",
    "\tC, W1, b1, W2, b2 = parameters\n",
    "\temb = C[X] # (X.shape[0],3,2) here -- whole set in this case\n",
    "\th = torch.tanh(emb.view(-1, block_size*embedding_size) @ W1 + b1) # (blah, 100)\n",
    "\n",
    "\tlogits = h @ W2 + b2 # (32, 27)\n",
    "\n",
    "\tloss = F.cross_entropy(logits, Y) # Does the epic normalisation stuff\n",
    "\tprint(f'{loss=}')\n",
    "\treturn loss"
   ]
  },
  {
   "cell_type": "code",
   "execution_count": 331,
   "metadata": {},
   "outputs": [
    {
     "name": "stdout",
     "output_type": "stream",
     "text": [
      "loss=tensor(2.1148, grad_fn=<NllLossBackward0>)\n",
      "loss=tensor(2.1817, grad_fn=<NllLossBackward0>)\n"
     ]
    }
   ],
   "source": [
    "train_loss = evaluate_loss(Xtr, Ytr, block_size, embedding_size, parameters)\n",
    "dev_loss = evaluate_loss(Xdev, Ydev, block_size, embedding_size, parameters)  ### YOOOOO 2.18 POOOOOG\n"
   ]
  },
  {
   "cell_type": "code",
   "execution_count": 333,
   "metadata": {},
   "outputs": [
    {
     "name": "stdout",
     "output_type": "stream",
     "text": [
      "loss=tensor(2.1931, grad_fn=<NllLossBackward0>)\n"
     ]
    }
   ],
   "source": [
    "test_loss = evaluate_loss(Xte, Yte, block_size, embedding_size, parameters) ## POGGING RN\n"
   ]
  },
  {
   "cell_type": "code",
   "execution_count": 332,
   "metadata": {},
   "outputs": [
    {
     "data": {
      "image/png": "[encoded data removed]",
      "text/plain": [
       "<Figure size 800x800 with 1 Axes>"
      ]
     },
     "metadata": {},
     "output_type": "display_data"
    }
   ],
   "source": [
    "plt.figure(figsize=(8,8))\n",
    "plt.scatter(C[:,0].data, C[:,1].data, s=200)\n",
    "for i in range(C.shape[0]):\n",
    "    plt.text(C[i,0].item(), C[i,1].item(), itos[i], ha=\"center\", va=\"center\", color='white')\n",
    "plt.grid('minor')"
   ]
  },
  {
   "attachments": {},
   "cell_type": "markdown",
   "metadata": {},
   "source": [
    "### Sampling!"
   ]
  },
  {
   "cell_type": "code",
   "execution_count": null,
   "metadata": {},
   "outputs": [],
   "source": [
    "def sample(num_words):\n",
    "\t# sample from the model\n",
    "\tg = torch.Generator().manual_seed(2147483647 + 10)\n",
    "\n",
    "\tfor _ in range(num_words):\n",
    "\t\t\n",
    "\t\tout = []\n",
    "\t\tcontext = [0] * block_size # initialize with all ...\n",
    "\t\twhile True:\n",
    "\t\t\temb = C[torch.tensor([context])] # (1,block_size, embedding_size)\n",
    "\t\t\th = torch.tanh(emb.view(1, -1) @ W1 + b1)\n",
    "\t\t\tlogits = h @ W2 + b2\n",
    "\t\t\tprobs = F.softmax(logits, dim=1) # exponentiates, normalises (sum to one). It's like entropy, but goes from logits -> prob distr, instead of logits -> loss\n",
    "\t\t\tix = torch.multinomial(probs, num_samples=1, generator=g).item()\n",
    "\t\t\tcontext = context[1:] + [ix]\n",
    "\t\t\tout.append(ix)\n",
    "\t\t\tif ix == 0:\n",
    "\t\t\t\tbreak\n",
    "\t\t\t\n",
    "\t\t\tprint(''.join(itos[i] for i in out))"
   ]
  },
  {
   "attachments": {},
   "cell_type": "markdown",
   "metadata": {},
   "source": [
    "#### Random stuff below"
   ]
  },
  {
   "cell_type": "code",
   "execution_count": 351,
   "metadata": {},
   "outputs": [
    {
     "data": {
      "text/plain": [
       "tensor([[[-1.2419,  1.9950, -0.5194,  0.7543],\n",
       "         [ 0.9557,  1.2228, -1.4321,  1.2710],\n",
       "         [ 0.6241, -1.0976, -0.2452,  0.0348],\n",
       "         [-0.2208, -0.5528,  0.6361, -1.6822]],\n",
       "\n",
       "        [[-0.1176, -0.3506, -0.7198,  0.4625],\n",
       "         [-1.7337,  0.5604, -0.0159,  0.1220],\n",
       "         [ 1.1446,  0.8176, -0.7176, -0.7839],\n",
       "         [-0.0259, -0.1683, -0.4539, -0.8585]],\n",
       "\n",
       "        [[ 0.0715, -0.7243,  1.4483,  0.3764],\n",
       "         [-1.0240,  0.3515, -0.2983,  1.2547],\n",
       "         [-0.3179, -1.5586, -0.4075, -0.1756],\n",
       "         [ 0.7895,  0.2053,  0.5485, -0.0113]],\n",
       "\n",
       "        [[ 0.7984,  2.8780,  1.0751,  0.6130],\n",
       "         [-0.5121, -1.1834, -1.2107,  0.0802],\n",
       "         [-0.4703, -0.7577,  0.4917, -0.0939],\n",
       "         [ 0.8774,  1.1043, -0.7095,  0.2016]]])"
      ]
     },
     "execution_count": 351,
     "metadata": {},
     "output_type": "execute_result"
    }
   ],
   "source": [
    "testing = torch.randn((4,4,4 ))\n",
    "testing"
   ]
  },
  {
   "cell_type": "code",
   "execution_count": 356,
   "metadata": {},
   "outputs": [
    {
     "data": {
      "text/plain": [
       "tensor([[[-0.4895,  3.7981,  1.2842,  2.2062],\n",
       "         [-2.3141,  0.9513, -2.9570,  2.7279],\n",
       "         [ 0.9806, -2.5963, -0.8786, -1.0186],\n",
       "         [ 1.4202,  0.5884,  0.0212, -2.3504]]])"
      ]
     },
     "execution_count": 356,
     "metadata": {},
     "output_type": "execute_result"
    }
   ],
   "source": [
    "# See below:\n",
    "\"\"\"\n",
    "| |\n",
    "| |\n",
    "| |\n",
    "| |\n",
    "\n",
    "\n",
    "Dim 0 sums in the direction of that. Move your hand in the direction of | and compress.\n",
    "\n",
    "Dim 1 sums in this direction:\n",
    "-----------\n",
    "-----------\n",
    "-----------\n",
    "\n",
    "Moved your hands in the direction of --- and clap them together. That's how it sums.\n",
    "\n",
    "Ask yourself -- in which way does that dim propagate? like is it\n",
    "row\n",
    "row\n",
    "row\n",
    "row,\n",
    "\n",
    "or is it:\n",
    "col col col col.\n",
    "\n",
    "etc...\n",
    "That's the way you sum.\n",
    "\n",
    "Remember, broadcasting is import to take int oaccount too!!!!!\n",
    "https://www.youtube.com/watch?v=PaCmpygFfXo 43:00\n",
    "\"\"\"\n",
    "\n",
    "testing.sum(0, keepdims=True) ##REMEMBERT KIDS: SUMMING BY THAT DIMENSION (e.g dim 0, the row dimension) means that row IS SUMMED!!!. So for a (27, 27), summing by dim 0 would become (1,27). The rows (downwards) are summed together!\n"
   ]
  },
  {
   "cell_type": "code",
   "execution_count": null,
   "metadata": {},
   "outputs": [],
   "source": []
  }
 ],
 "metadata": {
  "kernelspec": {
   "display_name": "venv",
   "language": "python",
   "name": "python3"
  },
  "language_info": {
   "codemirror_mode": {
    "name": "ipython",
    "version": 3
   },
   "file_extension": ".py",
   "mimetype": "text/x-python",
   "name": "python",
   "nbconvert_exporter": "python",
   "pygments_lexer": "ipython3",
   "version": "3.9.5"
  },
  "orig_nbformat": 4,
  "vscode": {
   "interpreter": {
    "hash": "c8a31c3d3c58cfe49314f156da5c5377d35db16854b5a4a4800d645f76ea86e2"
   }
  }
 },
 "nbformat": 4,
 "nbformat_minor": 2
}
