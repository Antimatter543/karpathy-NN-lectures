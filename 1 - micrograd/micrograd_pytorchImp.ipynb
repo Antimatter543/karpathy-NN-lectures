{
 "cells": [
  {
   "cell_type": "code",
   "execution_count": 2,
   "metadata": {},
   "outputs": [],
   "source": [
    "import torch\n"
   ]
  },
  {
   "cell_type": "code",
   "execution_count": 15,
   "metadata": {},
   "outputs": [],
   "source": [
    "def inspect(tensor: torch.Tensor):\n",
    "    # Just gives some properties on a given tensor - made for myself\n",
    "    print(f\"Type: {type(tensor)}, {tensor.type()}\")\n",
    "    print(f\"Size: {tensor.shape}, {tensor.size()}\") # Omg but there's torch.size()??\n",
    "    print(tensor)\n"
   ]
  },
  {
   "cell_type": "code",
   "execution_count": 26,
   "metadata": {},
   "outputs": [
    {
     "name": "stdout",
     "output_type": "stream",
     "text": [
      "Type: <class 'torch.Tensor'>, torch.FloatTensor\n",
      "Size: torch.Size([2, 4]), torch.Size([2, 4])\n",
      "tensor([[1., 2., 3., 4.],\n",
      "        [1., 2., 3., 4.]])\n"
     ]
    }
   ],
   "source": [
    "# Playing with torch\n",
    "test = torch.Tensor([[1,2,3,4],\n",
    "                    [1,2,3,4]]\n",
    "                    )\n",
    "inspect(test)"
   ]
  },
  {
   "cell_type": "code",
   "execution_count": 21,
   "metadata": {},
   "outputs": [
    {
     "name": "stdout",
     "output_type": "stream",
     "text": [
      "0.7071066904050358\n",
      "---\n",
      "x2 0.5000001283844369\n",
      "w2 0.0\n",
      "x1 -1.5000003851533106\n",
      "w1 1.0000002567688737\n"
     ]
    }
   ],
   "source": [
    "# https://discuss.pytorch.org/t/difference-between-torch-tensor-and-torch-tensor/30786 torch.Tensor vs torch.tensor.\n",
    "\n",
    "# Basically our values are just scalar so Tensor([2.0]) is how we do that in tensors( and torch likes tensors)\n",
    "# # Double to change from default 32bit to 64 bit.\n",
    "#  You set the requires grad to true because pytorch does efficiency on leaf nodes, as usuallly\n",
    "# we only do leaf nodes for inputs/outputs, which don't need grads. But here we use them as actual nodes so yeah.\n",
    "x1 = torch.Tensor([2.0]).double()                ; x1.requires_grad = True\n",
    "x2 = torch.Tensor([0.0]).double()                ; x2.requires_grad = True\n",
    "w1 = torch.Tensor([-3.0]).double()               ; w1.requires_grad = True\n",
    "w2 = torch.Tensor([1.0]).double()                ; w2.requires_grad = True\n",
    "b = torch.Tensor([6.8813735870195432]).double()  ; b.requires_grad = True\n",
    "n = x1*w1 + x2*w2 + b\n",
    "o = torch.tanh(n)\n",
    "\n",
    "print(o.data.item()) # Data is the single scalar tensor, .item() just rips it out of the tensor.\n",
    "o.backward()\n",
    "\n",
    "print('---')\n",
    "print('x2', x2.grad.item())\n",
    "print('w2', w2.grad.item())\n",
    "print('x1', x1.grad.item())\n",
    "print('w1', w1.grad.item())"
   ]
  },
  {
   "cell_type": "code",
   "execution_count": 33,
   "metadata": {},
   "outputs": [
    {
     "name": "stdout",
     "output_type": "stream",
     "text": [
      "0.7071066904050358\n"
     ]
    },
    {
     "ename": "ValueError",
     "evalue": "only one element tensors can be converted to Python scalars",
     "output_type": "error",
     "traceback": [
      "\u001b[1;31m---------------------------------------------------------------------------\u001b[0m",
      "\u001b[1;31mValueError\u001b[0m                                Traceback (most recent call last)",
      "Cell \u001b[1;32mIn[33], line 5\u001b[0m\n\u001b[0;32m      2\u001b[0m \u001b[39m## HOOO I JUST SET KEYBIND CTRL+Shift+P ENCASES THING WITH PRINT\u001b[39;00m\n\u001b[0;32m      4\u001b[0m test2 \u001b[39m=\u001b[39m torch\u001b[39m.\u001b[39mTensor([\u001b[39m1\u001b[39m,\u001b[39m2\u001b[39m,\u001b[39m3\u001b[39m])\n\u001b[1;32m----> 5\u001b[0m \u001b[39mprint\u001b[39m(test2\u001b[39m.\u001b[39;49mdata\u001b[39m.\u001b[39;49mitem())\n",
      "\u001b[1;31mValueError\u001b[0m: only one element tensors can be converted to Python scalars"
     ]
    }
   ],
   "source": [
    "print(o.data.item()) # Get o.data and rip it out of the tensor \n",
    "## HOOO I JUST SET KEYBIND CTRL+Shift+P ENCASES THING WITH PRINT\n",
    "\n",
    "test2 = torch.Tensor([1,2,3])"
   ]
  },
  {
   "cell_type": "markdown",
   "metadata": {},
   "source": []
  },
  {
   "cell_type": "code",
   "execution_count": 5,
   "metadata": {},
   "outputs": [
    {
     "name": "stdout",
     "output_type": "stream",
     "text": [
      "Type: <built-in method type of Tensor object at 0x0000027D166A3720>\n",
      "Size: torch.Size([1]), torch.Size([1])\n",
      "tensor([2.], dtype=torch.float64, requires_grad=True)\n"
     ]
    }
   ],
   "source": [
    "\n",
    "\n",
    "inspect(x1)``"
   ]
  },
  {
   "cell_type": "code",
   "execution_count": null,
   "metadata": {},
   "outputs": [],
   "source": []
  }
 ],
 "metadata": {
  "kernelspec": {
   "display_name": "venv",
   "language": "python",
   "name": "python3"
  },
  "language_info": {
   "codemirror_mode": {
    "name": "ipython",
    "version": 3
   },
   "file_extension": ".py",
   "mimetype": "text/x-python",
   "name": "python",
   "nbconvert_exporter": "python",
   "pygments_lexer": "ipython3",
   "version": "3.9.12"
  },
  "orig_nbformat": 4,
  "vscode": {
   "interpreter": {
    "hash": "4349609680b636f6f1aec8f5bbab8dfd3f910b00ce3be52e62ba311f0016c5a2"
   }
  }
 },
 "nbformat": 4,
 "nbformat_minor": 2
}
