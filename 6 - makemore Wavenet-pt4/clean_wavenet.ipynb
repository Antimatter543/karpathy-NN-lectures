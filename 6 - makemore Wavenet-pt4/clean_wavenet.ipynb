{
 "cells": [
  {
   "cell_type": "code",
   "execution_count": 1,
   "metadata": {},
   "outputs": [],
   "source": [
    "import torch\n",
    "import torch.nn.functional as F\n",
    "import matplotlib.pyplot as plt # for making figures\n",
    "%matplotlib inline"
   ]
  },
  {
   "cell_type": "code",
   "execution_count": 3,
   "metadata": {},
   "outputs": [
    {
     "data": {
      "text/plain": [
       "32033"
      ]
     },
     "execution_count": 3,
     "metadata": {},
     "output_type": "execute_result"
    }
   ],
   "source": [
    "# read in all the words\n",
    "words = open('../2 - makemore/names.txt', 'r').read().splitlines()\n",
    "words[:8]\n",
    "['emma', 'olivia', 'ava', 'isabella', 'sophia', 'charlotte', 'mia', 'amelia']\n",
    "len(words)"
   ]
  },
  {
   "cell_type": "code",
   "execution_count": 4,
   "metadata": {},
   "outputs": [
    {
     "name": "stdout",
     "output_type": "stream",
     "text": [
      "{1: 'a', 2: 'b', 3: 'c', 4: 'd', 5: 'e', 6: 'f', 7: 'g', 8: 'h', 9: 'i', 10: 'j', 11: 'k', 12: 'l', 13: 'm', 14: 'n', 15: 'o', 16: 'p', 17: 'q', 18: 'r', 19: 's', 20: 't', 21: 'u', 22: 'v', 23: 'w', 24: 'x', 25: 'y', 26: 'z', 0: '.'}\n",
      "27\n"
     ]
    }
   ],
   "source": [
    "# build the vocabulary of characters and mappings to/from integers\n",
    "chars = sorted(list(set(''.join(words))))\n",
    "stoi = {s:i+1 for i,s in enumerate(chars)}\n",
    "stoi['.'] = 0\n",
    "itos = {i:s for s,i in stoi.items()}\n",
    "vocab_size = len(itos)\n",
    "print(itos)\n",
    "print(vocab_size)"
   ]
  },
  {
   "attachments": {},
   "cell_type": "markdown",
   "metadata": {},
   "source": [
    "# Build dataset\n"
   ]
  },
  {
   "cell_type": "code",
   "execution_count": 6,
   "metadata": {},
   "outputs": [
    {
     "name": "stdout",
     "output_type": "stream",
     "text": [
      "torch.Size([182580, 8]) torch.Size([182580])\n",
      "torch.Size([22767, 8]) torch.Size([22767])\n",
      "torch.Size([22799, 8]) torch.Size([22799])\n",
      "........ ---> e\n",
      ".......e ---> b\n",
      "......eb ---> r\n",
      ".....ebr ---> i\n",
      "....ebri ---> m\n",
      "...ebrim ---> a\n",
      "..ebrima ---> .\n",
      "........ ---> h\n",
      ".......h ---> i\n",
      "......hi ---> l\n",
      ".....hil ---> t\n",
      "....hilt ---> o\n",
      "...hilto ---> n\n",
      "..hilton ---> .\n",
      "........ ---> j\n",
      ".......j ---> h\n",
      "......jh ---> e\n",
      ".....jhe ---> n\n",
      "....jhen ---> e\n",
      "...jhene ---> .\n"
     ]
    }
   ],
   "source": [
    "# build the dataset\n",
    "block_size = 8 # context length: how many characters do we take to predict the next one?\n",
    "\n",
    "def build_dataset(words):  \n",
    "  X, Y = [], []\n",
    "  \n",
    "  for w in words:\n",
    "    context = [0] * block_size\n",
    "    for ch in w + '.':\n",
    "      ix = stoi[ch]\n",
    "      X.append(context)\n",
    "      Y.append(ix)\n",
    "      context = context[1:] + [ix] # crop and append\n",
    "\n",
    "  X = torch.tensor(X)\n",
    "  Y = torch.tensor(Y)\n",
    "  print(X.shape, Y.shape)\n",
    "  return X, Y\n",
    "\n",
    "import random\n",
    "random.seed(42)\n",
    "random.shuffle(words)\n",
    "n1 = int(0.8*len(words))\n",
    "n2 = int(0.9*len(words))\n",
    "\n",
    "Xtr,  Ytr  = build_dataset(words[:n1])     # 80%\n",
    "Xdev, Ydev = build_dataset(words[n1:n2])   # 10%\n",
    "Xte,  Yte  = build_dataset(words[n2:])     # 10%\n",
    "\n",
    "for x, y in zip(Xtr[:20], Ytr[:20]):\n",
    "\t# print(x,y)\n",
    "\tprint(''.join(itos[ix.item()] for ix in x), '--->', itos[y.item()])\n",
    "## Mmm tasty x -> y examples (we got 182625 training examples hehe)"
   ]
  },
  {
   "attachments": {},
   "cell_type": "markdown",
   "metadata": {},
   "source": [
    "# NN classes and model "
   ]
  },
  {
   "cell_type": "code",
   "execution_count": 8,
   "metadata": {},
   "outputs": [],
   "source": [
    "### Network stuff\n",
    "# Near copy paste of the layers we have developed in Part 3\n",
    "\n",
    "# -----------------------------------------------------------------------------------------------\n",
    "class Linear:\n",
    "  \n",
    "  def __init__(self, fan_in, fan_out, bias=True):\n",
    "    self.weight = torch.randn((fan_in, fan_out)) / fan_in**0.5 # note: kaiming init\n",
    "    self.bias = torch.zeros(fan_out) if bias else None\n",
    "  \n",
    "  def __call__(self, x):\n",
    "    self.out = x @ self.weight\n",
    "    if self.bias is not None:\n",
    "      self.out += self.bias\n",
    "    return self.out\n",
    "  \n",
    "  def parameters(self):\n",
    "    return [self.weight] + ([] if self.bias is None else [self.bias])\n",
    "\n",
    "# -----------------------------------------------------------------------------------------------\n",
    "\n",
    "class BatchNorm1d:\n",
    "# With the fixed bug ofc (i.e considers 2 batch dimensions aswell)\n",
    "  def __init__(self, dim, eps=1e-5, momentum=0.1):\n",
    "    self.eps = eps\n",
    "    self.momentum = momentum\n",
    "    self.training = True\n",
    "    # parameters (trained with backprop)\n",
    "    self.gamma = torch.ones(dim)\n",
    "    self.beta = torch.zeros(dim)\n",
    "    # buffers (trained with a running 'momentum update')\n",
    "    self.running_mean = torch.zeros(dim)\n",
    "    self.running_var = torch.ones(dim)\n",
    "  \n",
    "  def __call__(self, x):\n",
    "    # calculate the forward pass\n",
    "    if self.training: # checks 2d/3d. Bit different from pytorch implementation: We assume the last dim is what we want, it assumes first dim (dim 1) is what we want.\n",
    "      if x.ndim == 2:\n",
    "        dim = 0\n",
    "      elif x.ndim == 3:\n",
    "        dim = (0,1)\n",
    "      xmean = x.mean(dim, keepdim=True) # batch mean\n",
    "      xvar = x.var(dim, keepdim=True) # batch variance\n",
    "    else:\n",
    "      xmean = self.running_mean\n",
    "      xvar = self.running_var\n",
    "    xhat = (x - xmean) / torch.sqrt(xvar + self.eps) # normalize to unit variance\n",
    "    self.out = self.gamma * xhat + self.beta\n",
    "    # update the buffers\n",
    "    if self.training:\n",
    "      with torch.no_grad():\n",
    "        self.running_mean = (1 - self.momentum) * self.running_mean + self.momentum * xmean\n",
    "        self.running_var = (1 - self.momentum) * self.running_var + self.momentum * xvar\n",
    "    return self.out\n",
    "  \n",
    "  def parameters(self):\n",
    "    return [self.gamma, self.beta]\n",
    "\n",
    "# -----------------------------------------------------------------------------------------------\n",
    "class Tanh:\n",
    "  def __call__(self, x):\n",
    "    self.out = torch.tanh(x)\n",
    "    return self.out\n",
    "  def parameters(self):\n",
    "    return []\n",
    "\n",
    "class Embedding:\n",
    "\tdef __init__(self, num_embeddings, embedding_dim) -> None:\n",
    "\t\t\"\"\" Embedding class for generating one in the forward pass\n",
    "\n",
    "\t\tArgs:\n",
    "\t\t\tnum_embeddings: number of embeddings you want to have (like vocab size -- the alphabet -- how many items do you want in a vector representation)\n",
    "\t\t\tembedding_dim: size of each embedding\n",
    "\t\t\"\"\"\n",
    "\t\t\n",
    "\t\tself.weight = torch.randn((num_embeddings, embedding_dim))\n",
    "\n",
    "\tdef __call__(self, IX):\n",
    "\t\t\"\"\"_summary_\n",
    "\n",
    "\t\tArgs:\n",
    "\t\t\tIX (_type_): Index of the embedding you want (e.g index 26 would be z, index 0 is '.')\n",
    "\n",
    "\t\tReturns:\n",
    "\t\t\t_type_: _description_\n",
    "\t\t\"\"\"\n",
    "\t\tself.out = self.weight[IX]\n",
    "\t\t# print(\"Hey, I'm in embedding!:\", self.out.shape)\n",
    "\t\treturn self.out\n",
    "\n",
    "\tdef parameters(self):\n",
    "\t\treturn [self.weight]\n",
    "# -----------------------------------------------------------------------------------------------\n",
    "class FlattenConsecutive:\n",
    "  # See the makemore-wavenet notebook for COMMENTS GALORE as to how this works.\n",
    "  # Tldr, it takes Embedding's output (or any layer output) -- say (4,8,10) -- and flattens into (4,4, 20). I.e, it concatenates 2 chars/superchars... together, and moves on with its life.\n",
    "\n",
    "  def __init__(self, n):\n",
    "    self.n = n\n",
    "    \n",
    "  def __call__(self, x):\n",
    "    B, T, C = x.shape\n",
    "    x = x.view(B, T//self.n, C*self.n)\n",
    "    if x.shape[1] == 1:\n",
    "      x = x.squeeze(1)\n",
    "    self.out = x\n",
    "    return self.out\n",
    "  \n",
    "  def parameters(self):\n",
    "    return []\n",
    "\n",
    "# -----------------------------------------------------------------------------------------------\n",
    "class Sequential:\n",
    "  # To make everything like lego blocks. Yay!\n",
    "  \n",
    "  def __init__(self, layers):\n",
    "    self.layers = layers\n",
    "  \n",
    "  def __call__(self, x):\n",
    "    # Call all layers sequentially given some input and return the output.\n",
    "    for layer in self.layers:\n",
    "      x = layer(x)\n",
    "    self.out = x\n",
    "    return self.out\n",
    "  \n",
    "  def parameters(self):\n",
    "    # get parameters of all layers and stretch them out into one list\n",
    "    return [p for layer in self.layers for p in layer.parameters()]"
   ]
  },
  {
   "cell_type": "markdown",
   "metadata": {},
   "source": [
    "### Network initialisation"
   ]
  },
  {
   "cell_type": "code",
   "execution_count": 9,
   "metadata": {},
   "outputs": [],
   "source": [
    "torch.manual_seed(42); # seed rng for reproducibility"
   ]
  },
  {
   "cell_type": "code",
   "execution_count": 16,
   "metadata": {},
   "outputs": [
    {
     "name": "stdout",
     "output_type": "stream",
     "text": [
      "76579\n"
     ]
    }
   ],
   "source": [
    "## Boooom! Yeah, we basically just increased our embed size to 24 haha\n",
    "n_embd = 24 \n",
    "n_hidden = 128 \n",
    "model =  Sequential([\n",
    "\tEmbedding(vocab_size, n_embd), \n",
    "\tFlattenConsecutive(2), Linear(n_embd * 2, n_hidden, bias=False), BatchNorm1d(n_hidden), Tanh(),\n",
    "\tFlattenConsecutive(2), Linear(n_hidden * 2, n_hidden, bias=False), BatchNorm1d(n_hidden), Tanh(),\n",
    "\tFlattenConsecutive(2), Linear(n_hidden * 2, n_hidden, bias=False), BatchNorm1d(n_hidden), Tanh(),\n",
    "\tLinear(n_hidden, vocab_size)\n",
    "])\n",
    "\n",
    "# parameter init\n",
    "# parameter init\n",
    "with torch.no_grad():\n",
    "  model.layers[-1].weight *= 0.1 # last layer make less confident\n",
    "  \n",
    "parameters = model.parameters() # boom!\n",
    "print(sum(p.nelement() for p in parameters)) # number of parameters in total\n",
    "for p in parameters:\n",
    "\tp.requires_grad = True"
   ]
  },
  {
   "attachments": {},
   "cell_type": "markdown",
   "metadata": {},
   "source": [
    "### Training the model"
   ]
  },
  {
   "cell_type": "code",
   "execution_count": 17,
   "metadata": {},
   "outputs": [],
   "source": [
    "# same optimization as last time\n",
    "\n",
    "def train_sequential_model(model, max_steps = 20000, batch_size = 32):\n",
    "\tlossi = []\n",
    "\tfor i in range(max_steps):\n",
    "\t\t# minibatch construct\n",
    "\t\tix = torch.randint(0, Xtr.shape[0], (batch_size,))\n",
    "\t\tXb, Yb = Xtr[ix], Ytr[ix] # batch X,Y\n",
    "\n",
    "\t\t# forward pass\n",
    "\t\tlogits = model(Xb) # Boom! Just call the model, inputting Xb, and viola! Your logits (by definition, the output of your NN after its layer processing) are here :D\n",
    "\t\tloss = F.cross_entropy(logits, Yb) # loss function\n",
    "\t\t\n",
    "\t\t# backward pass\n",
    "\t\tfor p in parameters:\n",
    "\t\t\tp.grad = None\n",
    "\t\tloss.backward()\n",
    "\t\t\n",
    "\t\t# update: simple SGD - could try adam if you want :o\n",
    "\t\tlr = 0.1 if i < 150000 else 0.01 # step learning rate decay\n",
    "\t\tfor p in parameters:\n",
    "\t\t\t# print(p.grad)\n",
    "\t\t\tp.data += -lr * p.grad\n",
    "\n",
    "\t\t# track stats\n",
    "\t\tif i % 1000 == 0: # print every once in a while\n",
    "\t\t\tprint(f'{i:7d}/{max_steps:7d}: {loss.item():.4f}')\n",
    "\t\tlossi.append(loss.log10().item())\n",
    "\treturn lossi # this is just for plotting loss :) etc. Not needed at all. \n",
    "# Tbh, I think having the lossi thing inside model might be better, so then when we rerun this function over and over, the model keeps the lossi, instead of having it reset here and get its loss graph messed up (since lossi resets here but ofc model keeps its learnt weights)."
   ]
  },
  {
   "cell_type": "code",
   "execution_count": 18,
   "metadata": {},
   "outputs": [
    {
     "name": "stdout",
     "output_type": "stream",
     "text": [
      "      0/  20000: 3.3144\n",
      "   1000/  20000: 2.4076\n",
      "   2000/  20000: 2.0531\n",
      "   3000/  20000: 2.3900\n",
      "   4000/  20000: 2.1555\n",
      "   5000/  20000: 1.9951\n",
      "   6000/  20000: 2.4052\n",
      "   7000/  20000: 1.8559\n",
      "   8000/  20000: 1.8668\n",
      "   9000/  20000: 2.1789\n",
      "  10000/  20000: 2.0881\n",
      "  11000/  20000: 2.1141\n",
      "  12000/  20000: 1.9266\n",
      "  13000/  20000: 2.4099\n",
      "  14000/  20000: 1.9859\n",
      "  15000/  20000: 2.0521\n",
      "  16000/  20000: 2.2231\n",
      "  17000/  20000: 2.0008\n",
      "  18000/  20000: 1.8211\n",
      "  19000/  20000: 2.0373\n"
     ]
    }
   ],
   "source": [
    "lossi = train_sequential_model(model)"
   ]
  },
  {
   "attachments": {},
   "cell_type": "markdown",
   "metadata": {},
   "source": [
    "# Evaluation and Sampling of model "
   ]
  },
  {
   "cell_type": "code",
   "execution_count": 24,
   "metadata": {},
   "outputs": [
    {
     "data": {
      "text/plain": [
       "[<matplotlib.lines.Line2D at 0x263f8b339a0>]"
      ]
     },
     "execution_count": 24,
     "metadata": {},
     "output_type": "execute_result"
    },
    {
     "data": {
      "image/png": "[encoded data removed]",
      "text/plain": [
       "<Figure size 640x480 with 1 Axes>"
      ]
     },
     "metadata": {},
     "output_type": "display_data"
    }
   ],
   "source": [
    "## Let's check out our loss graph\n",
    "plt.plot(torch.tensor(lossi).view(-1, 1000).mean(1)) "
   ]
  },
  {
   "attachments": {},
   "cell_type": "markdown",
   "metadata": {},
   "source": [
    "### Dev and test set evaluation "
   ]
  },
  {
   "cell_type": "code",
   "execution_count": 26,
   "metadata": {},
   "outputs": [
    {
     "name": "stdout",
     "output_type": "stream",
     "text": [
      "train 2.0384974479675293\n",
      "val 2.095392942428589\n",
      "test 2.0937764644622803\n"
     ]
    }
   ],
   "source": [
    "# put layers into eval mode (needed for batchnorm especially)\n",
    "for layer in model.layers:\n",
    "  layer.training = False\n",
    "\n",
    "# evaluate the loss\n",
    "@torch.no_grad() # this decorator disables gradient tracking inside pytorch\n",
    "def split_loss(split):\n",
    "  x,y = {\n",
    "    'train': (Xtr, Ytr),\n",
    "    'val': (Xdev, Ydev),\n",
    "    'test': (Xte, Yte),\n",
    "  }[split]\n",
    "  logits = model(x)\n",
    "  loss = F.cross_entropy(logits, y)\n",
    "  print(split, loss.item())\n",
    "\n",
    "split_loss('train')\n",
    "split_loss('val')\n",
    "split_loss('test')\n"
   ]
  },
  {
   "attachments": {},
   "cell_type": "markdown",
   "metadata": {},
   "source": [
    "### Sampling! Woohoo!"
   ]
  },
  {
   "cell_type": "code",
   "execution_count": 35,
   "metadata": {},
   "outputs": [
    {
     "name": "stdout",
     "output_type": "stream",
     "text": [
      "reigen.\n",
      "selina.\n",
      "denris.\n",
      "kinden.\n",
      "kinta.\n",
      "xyav.\n",
      "khaile.\n",
      "magaceah.\n",
      "kealene.\n",
      "karan.\n",
      "chartot.\n",
      "tylan.\n",
      "mirrick.\n",
      "kaaja.\n",
      "salyah.\n",
      "questin.\n",
      "joely.\n",
      "eyah.\n",
      "arterneld.\n",
      "josaly.\n"
     ]
    }
   ],
   "source": [
    "# sample from the model. 20 names here\n",
    "\n",
    "for _ in range(20):\n",
    "    \n",
    "    out = []\n",
    "    context = [0] * block_size # initialize with all '...'\n",
    "    while True:\n",
    "      # forward pass the neural net\n",
    "      logits = model(torch.tensor([context]))\n",
    "      probs = F.softmax(logits, dim=1)\n",
    "      # sample from the distribution\n",
    "      ix = torch.multinomial(probs, num_samples=1).item() # Returns index based on prob distr.\n",
    "      # shift the context window and track the samples\n",
    "      context = context[1:] + [ix]\n",
    "      out.append(ix)\n",
    "      # if we sample the special '.' token, break\n",
    "      if ix == 0:\n",
    "        break\n",
    "    \n",
    "    print(''.join(itos[i] for i in out)) # decode and print the generated word"
   ]
  },
  {
   "attachments": {},
   "cell_type": "markdown",
   "metadata": {},
   "source": [
    "From the comments of the above codeblock:\n",
    "Btw, if you didn't run the \"set self.training to false\" above, this code would still work but it's using the wrong variables -- like the batchnorm would be doin le stuff on the wrong vars (over whole training set inputted) instead of the running vars. \n",
    "\n",
    " And you could definitely tell if it's fucked in the sampling, because it would give an error: you can't get the variance of a single sample! (srs, it gives 'nan'. Also, it doesn't make sense to find spread of 1 sample) "
   ]
  }
 ],
 "metadata": {
  "kernelspec": {
   "display_name": "venv",
   "language": "python",
   "name": "python3"
  },
  "language_info": {
   "codemirror_mode": {
    "name": "ipython",
    "version": 3
   },
   "file_extension": ".py",
   "mimetype": "text/x-python",
   "name": "python",
   "nbconvert_exporter": "python",
   "pygments_lexer": "ipython3",
   "version": "3.9.5"
  },
  "orig_nbformat": 4,
  "vscode": {
   "interpreter": {
    "hash": "c8a31c3d3c58cfe49314f156da5c5377d35db16854b5a4a4800d645f76ea86e2"
   }
  }
 },
 "nbformat": 4,
 "nbformat_minor": 2
}
