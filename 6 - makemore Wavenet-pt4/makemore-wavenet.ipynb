{
 "cells": [
  {
   "attachments": {},
   "cell_type": "markdown",
   "metadata": {},
   "source": [
    "# Outline\n",
    "\n",
    "First, we'll be pytorchifying our code even more; we're basically building up the core parts of torch.nn from scratch lol. From tanh, to linear, to batchnorm, to embedding and flatten, and then the sequential class, etc... Cool!\n",
    "\n",
    "Then, we'll get to the cooooool RNNs and stuff!"
   ]
  },
  {
   "cell_type": "code",
   "execution_count": 45,
   "metadata": {},
   "outputs": [],
   "source": [
    "import torch\n",
    "import torch.nn.functional as F\n",
    "import matplotlib.pyplot as plt # for making figures\n",
    "%matplotlib inline\n"
   ]
  },
  {
   "cell_type": "code",
   "execution_count": 46,
   "metadata": {},
   "outputs": [
    {
     "data": {
      "text/plain": [
       "32033"
      ]
     },
     "execution_count": 46,
     "metadata": {},
     "output_type": "execute_result"
    }
   ],
   "source": [
    "# read in all the words\n",
    "words = open('../2 - makemore/names.txt', 'r').read().splitlines()\n",
    "words[:8]\n",
    "['emma', 'olivia', 'ava', 'isabella', 'sophia', 'charlotte', 'mia', 'amelia']\n",
    "len(words)"
   ]
  },
  {
   "cell_type": "code",
   "execution_count": 47,
   "metadata": {},
   "outputs": [
    {
     "name": "stdout",
     "output_type": "stream",
     "text": [
      "{1: 'a', 2: 'b', 3: 'c', 4: 'd', 5: 'e', 6: 'f', 7: 'g', 8: 'h', 9: 'i', 10: 'j', 11: 'k', 12: 'l', 13: 'm', 14: 'n', 15: 'o', 16: 'p', 17: 'q', 18: 'r', 19: 's', 20: 't', 21: 'u', 22: 'v', 23: 'w', 24: 'x', 25: 'y', 26: 'z', 0: '.'}\n",
      "27\n"
     ]
    }
   ],
   "source": [
    "# build the vocabulary of characters and mappings to/from integers\n",
    "chars = sorted(list(set(''.join(words))))\n",
    "stoi = {s:i+1 for i,s in enumerate(chars)}\n",
    "stoi['.'] = 0\n",
    "itos = {i:s for s,i in stoi.items()}\n",
    "vocab_size = len(itos)\n",
    "print(itos)\n",
    "print(vocab_size)"
   ]
  },
  {
   "cell_type": "code",
   "execution_count": 48,
   "metadata": {},
   "outputs": [
    {
     "name": "stdout",
     "output_type": "stream",
     "text": [
      "torch.Size([182625, 3]) torch.Size([182625])\n",
      "torch.Size([22655, 3]) torch.Size([22655])\n",
      "torch.Size([22866, 3]) torch.Size([22866])\n"
     ]
    }
   ],
   "source": [
    "# build the dataset\n",
    "block_size = 3 # context length: how many characters do we take to predict the next one?\n",
    "\n",
    "def build_dataset(words):  \n",
    "  X, Y = [], []\n",
    "  \n",
    "  for w in words:\n",
    "    context = [0] * block_size\n",
    "    for ch in w + '.':\n",
    "      ix = stoi[ch]\n",
    "      X.append(context)\n",
    "      Y.append(ix)\n",
    "      context = context[1:] + [ix] # crop and append\n",
    "\n",
    "  X = torch.tensor(X)\n",
    "  Y = torch.tensor(Y)\n",
    "  print(X.shape, Y.shape)\n",
    "  return X, Y\n",
    "\n",
    "import random\n",
    "random.seed(42)\n",
    "random.shuffle(words)\n",
    "n1 = int(0.8*len(words))\n",
    "n2 = int(0.9*len(words))\n",
    "\n",
    "Xtr,  Ytr  = build_dataset(words[:n1])     # 80%\n",
    "Xdev, Ydev = build_dataset(words[n1:n2])   # 10%\n",
    "Xte,  Yte  = build_dataset(words[n2:])     # 10%"
   ]
  },
  {
   "cell_type": "code",
   "execution_count": 49,
   "metadata": {},
   "outputs": [
    {
     "name": "stdout",
     "output_type": "stream",
     "text": [
      "... ---> y\n",
      "..y ---> u\n",
      ".yu ---> h\n",
      "yuh ---> e\n",
      "uhe ---> n\n",
      "hen ---> g\n",
      "eng ---> .\n",
      "... ---> d\n",
      "..d ---> i\n",
      ".di ---> o\n",
      "dio ---> n\n",
      "ion ---> d\n",
      "ond ---> r\n",
      "ndr ---> e\n",
      "dre ---> .\n",
      "... ---> x\n",
      "..x ---> a\n",
      ".xa ---> v\n",
      "xav ---> i\n",
      "avi ---> e\n"
     ]
    }
   ],
   "source": [
    "for x, y in zip(Xtr[:20], Ytr[:20]):\n",
    "\t# print(x,y)\n",
    "\tprint(''.join(itos[ix.item()] for ix in x), '--->', itos[y.item()])\n",
    "## Mmm tasty x -> y examples (we got 182625 training examples hehe)"
   ]
  },
  {
   "cell_type": "code",
   "execution_count": 120,
   "metadata": {},
   "outputs": [],
   "source": [
    "# Near copy paste of the layers we have developed in Part 3\n",
    "\n",
    "# -----------------------------------------------------------------------------------------------\n",
    "class Linear:\n",
    "  \n",
    "  def __init__(self, fan_in, fan_out, bias=True):\n",
    "    self.weight = torch.randn((fan_in, fan_out)) / fan_in**0.5 # note: kaiming init\n",
    "    self.bias = torch.zeros(fan_out) if bias else None\n",
    "  \n",
    "  def __call__(self, x):\n",
    "    self.out = x @ self.weight\n",
    "    if self.bias is not None:\n",
    "      self.out += self.bias\n",
    "    return self.out\n",
    "  \n",
    "  def parameters(self):\n",
    "    return [self.weight] + ([] if self.bias is None else [self.bias])\n",
    "\n",
    "# -----------------------------------------------------------------------------------------------\n",
    "class BatchNorm1d:\n",
    "  \n",
    "  def __init__(self, dim, eps=1e-5, momentum=0.1):\n",
    "    self.eps = eps\n",
    "    self.momentum = momentum\n",
    "    self.training = True\n",
    "    # parameters (trained with backprop)\n",
    "    self.gamma = torch.ones(dim)\n",
    "    self.beta = torch.zeros(dim)\n",
    "    # buffers (trained with a running 'momentum update')\n",
    "    self.running_mean = torch.zeros(dim)\n",
    "    self.running_var = torch.ones(dim)\n",
    "  \n",
    "  def __call__(self, x):\n",
    "    # calculate the forward pass.\n",
    "    if self.training:\n",
    "      xmean = x.mean(0, keepdim=True) # batch mean\n",
    "      xvar = x.var(0, keepdim=True) # batch variance\n",
    "    else:\n",
    "      xmean = self.running_mean\n",
    "      xvar = self.running_var\n",
    "    xhat = (x - xmean) / torch.sqrt(xvar + self.eps) # normalize to unit variance\n",
    "    self.out = self.gamma * xhat + self.beta\n",
    "    # update the buffers\n",
    "    if self.training:\n",
    "      with torch.no_grad():\n",
    "        self.running_mean = (1 - self.momentum) * self.running_mean + self.momentum * xmean\n",
    "        self.running_var = (1 - self.momentum) * self.running_var + self.momentum * xvar\n",
    "    return self.out\n",
    "  \n",
    "  def parameters(self):\n",
    "    return [self.gamma, self.beta]\n",
    "\n",
    "# -----------------------------------------------------------------------------------------------\n",
    "class Tanh:\n",
    "  def __call__(self, x):\n",
    "    self.out = torch.tanh(x)\n",
    "    return self.out\n",
    "  def parameters(self):\n",
    "    return []\n"
   ]
  },
  {
   "cell_type": "code",
   "execution_count": 51,
   "metadata": {},
   "outputs": [],
   "source": [
    "torch.manual_seed(42); # seed rng for reproducibility"
   ]
  },
  {
   "cell_type": "code",
   "execution_count": 52,
   "metadata": {},
   "outputs": [
    {
     "name": "stdout",
     "output_type": "stream",
     "text": [
      "12097\n"
     ]
    }
   ],
   "source": [
    "# original network\n",
    "n_embd = 10 # the dimensionality of the character embedding vectors\n",
    "n_hidden = 200 # the number of neurons in the hidden layer of the MLP\n",
    "\n",
    "C = torch.randn((vocab_size, n_embd)) # generate the embedding matrix\n",
    "\n",
    "layers = [\n",
    "\tLinear(n_embd * block_size, n_hidden, bias=False), BatchNorm1d(n_hidden), Tanh(),\n",
    "\tLinear(n_hidden, vocab_size),\n",
    "]\n",
    "\n",
    "# parameter init\n",
    "with torch.no_grad():\n",
    "\tlayers[-1].weight *= 0.1 # last layer make less confident for better softmax initialised. (makes initial closer to equal prob distr output)\n",
    "\n",
    "parameters = [C] + [p for layer in layers for p in layer.parameters()]\n",
    "print(sum(p.nelement() for p in parameters)) # number of parameters in total\n",
    "for p in parameters:\n",
    "\tp.requires_grad = True"
   ]
  },
  {
   "cell_type": "code",
   "execution_count": 53,
   "metadata": {},
   "outputs": [
    {
     "name": "stdout",
     "output_type": "stream",
     "text": [
      "      0/  20000: 3.2966\n",
      "  10000/  20000: 2.2322\n"
     ]
    }
   ],
   "source": [
    "# same optimization as last time\n",
    "max_steps = 20000\n",
    "batch_size = 32\n",
    "lossi = []\n",
    "\n",
    "for i in range(max_steps):\n",
    "  \n",
    "  # minibatch construct\n",
    "  ix = torch.randint(0, Xtr.shape[0], (batch_size,))\n",
    "  Xb, Yb = Xtr[ix], Ytr[ix] # batch X,Y\n",
    "  \n",
    "  # forward pass\n",
    "  emb = C[Xb] # embed the characters into the vectors || (batch_size, block_size, n_embd)\n",
    "  x = emb.view(emb.shape[0], -1) # concat each char vector for some i'th training example together, from a [3,10] into a [30]. || I.e Concat into (batch_size (32), block_size * n_embed)\n",
    "  ## OOOh, basically, the '-1' means \"figure out what this is, but my other dimension MUST BE THIS (emb.shape[0]) in this case\". So pog. And since we made it a 2d, yeah. It changed it to a 2D with [emb.shape[0], inferred value]\n",
    "  \n",
    "  for layer in layers:\n",
    "    x = layer(x)\n",
    "\n",
    "  loss = F.cross_entropy(x, Yb) # loss function\n",
    "  \n",
    "  # backward pass\n",
    "  for p in parameters:\n",
    "    p.grad = None\n",
    "  loss.backward()\n",
    "  \n",
    "  # update: simple SGD\n",
    "  lr = 0.1 if i < 150000 else 0.01 # step learning rate decay\n",
    "  for p in parameters:\n",
    "    p.data += -lr * p.grad\n",
    "\n",
    "  # track stats\n",
    "  if i % 10000 == 0: # print every once in a while\n",
    "    print(f'{i:7d}/{max_steps:7d}: {loss.item():.4f}')\n",
    "  lossi.append(loss.log10().item())"
   ]
  },
  {
   "cell_type": "code",
   "execution_count": 54,
   "metadata": {},
   "outputs": [
    {
     "data": {
      "text/plain": [
       "(torch.Size([32, 30]), torch.Size([32, 3, 10]))"
      ]
     },
     "execution_count": 54,
     "metadata": {},
     "output_type": "execute_result"
    }
   ],
   "source": [
    "emb.view(emb.shape[0], -1).shape, emb.shape\n"
   ]
  },
  {
   "cell_type": "code",
   "execution_count": 55,
   "metadata": {},
   "outputs": [
    {
     "data": {
      "text/plain": [
       "[<matplotlib.lines.Line2D at 0x233fd58ac10>]"
      ]
     },
     "execution_count": 55,
     "metadata": {},
     "output_type": "execute_result"
    },
    {
     "data": {
      "image/png": "[encoded data removed]",
      "text/plain": [
       "<Figure size 640x480 with 1 Axes>"
      ]
     },
     "metadata": {},
     "output_type": "display_data"
    }
   ],
   "source": [
    "plt.plot(lossi)"
   ]
  },
  {
   "cell_type": "code",
   "execution_count": 56,
   "metadata": {},
   "outputs": [],
   "source": [
    "# put layers into eval mode (for batchnorm)\n",
    "for layer in layers:\n",
    "\tlayer.training = False"
   ]
  },
  {
   "cell_type": "code",
   "execution_count": 57,
   "metadata": {},
   "outputs": [
    {
     "name": "stdout",
     "output_type": "stream",
     "text": [
      "train 2.214060068130493\n",
      "val 2.23262357711792\n"
     ]
    }
   ],
   "source": [
    "# evaluate the loss\n",
    "@torch.no_grad() # this decorator disables gradient tracking inside pytorch\n",
    "def split_loss(split):\n",
    "  x,y = {\n",
    "    'train': (Xtr, Ytr),\n",
    "    'val': (Xdev, Ydev),\n",
    "    'test': (Xte, Yte),\n",
    "  }[split]\n",
    "  \n",
    "  emb = C[x] # (N, block_size, n_embd)\n",
    "  x = emb.view(emb.shape[0], -1) # Concat into (N, block_size * n_embed)\n",
    "  \n",
    "  for layer in layers:\n",
    "    x = layer(x)\n",
    "  loss = F.cross_entropy(x, y)\n",
    "  print(split, loss.item())\n",
    "\n",
    "split_loss('train')\n",
    "split_loss('val')"
   ]
  },
  {
   "cell_type": "code",
   "execution_count": 58,
   "metadata": {},
   "outputs": [
    {
     "name": "stdout",
     "output_type": "stream",
     "text": [
      "ageor.\n",
      "kymanarura.\n",
      "nola.\n",
      "khadricton.\n",
      "nykh.\n",
      "makalizey.\n",
      "kash.\n",
      "jeney.\n",
      "zaulia.\n",
      "hadio.\n",
      "emh.\n",
      "terather.\n",
      "bhanth.\n",
      "avike.\n",
      "tin.\n",
      "leamora.\n",
      "naise.\n",
      "nekyae.\n",
      "lal.\n",
      "faitliyones.\n"
     ]
    }
   ],
   "source": [
    "# sample from the model\n",
    "for _ in range(20):\n",
    "    \n",
    "    out = []\n",
    "    context = [0] * block_size # initialize with all '...'\n",
    "    while True:\n",
    "      # forward pass the neural net\n",
    "      emb = C[torch.tensor([context])] # (N, block_size, n_embd) || get the embedding of our current tri-example like '...'. \n",
    "      x = emb.view(emb.shape[0], -1) # Concat into (N, block_size * n_embed)\n",
    "  \n",
    "      for layer in layers:\n",
    "        x = layer(x)\n",
    "      probs = F.softmax(x, dim=1)\n",
    "      # sample from the distribution\n",
    "      ix = torch.multinomial(probs, num_samples=1).item()\n",
    "      # shift the context window and track the samples\n",
    "      context = context[1:] + [ix]\n",
    "      out.append(ix)\n",
    "      # if we sample the special '.' token, break\n",
    "      if ix == 0:\n",
    "        break\n",
    "    \n",
    "    print(''.join(itos[i] for i in out)) # decode and print the generated word"
   ]
  },
  {
   "attachments": {},
   "cell_type": "markdown",
   "metadata": {},
   "source": [
    "# ----------------------------------------------\n",
    "Okay, now onto video.\n",
    "\n",
    "First, let's fix our awful loss plot lmao."
   ]
  },
  {
   "cell_type": "code",
   "execution_count": 59,
   "metadata": {},
   "outputs": [
    {
     "data": {
      "text/plain": [
       "[<matplotlib.lines.Line2D at 0x23385642880>]"
      ]
     },
     "execution_count": 59,
     "metadata": {},
     "output_type": "execute_result"
    },
    {
     "data": {
      "image/png": "[encoded data removed]",
      "text/plain": [
       "<Figure size 640x480 with 1 Axes>"
      ]
     },
     "metadata": {},
     "output_type": "display_data"
    }
   ],
   "source": [
    "torch.arange(27).view(3,3,3) # Tada! Magic.\n",
    "plt.plot(torch.tensor(lossi).view(-1, 100).mean(1)) # Convert lossi into a 2d matrix, 100 columns, and then mean up column wise\n",
    "# If you do the full 200k training steps, and use 1000 columns, you'll see it slow down like usual and then get a spike down, corresponding to our learning rate change"
   ]
  },
  {
   "attachments": {},
   "cell_type": "markdown",
   "metadata": {},
   "source": [
    "Cool!\n",
    "Now, let's go pytorchify/modularise our code a bit more. We see that we're looking into the C embedding matrix and then changing the view of it in the forward pass, instead of just having it act like a layer or something. Let's change that.\n"
   ]
  },
  {
   "cell_type": "code",
   "execution_count": 89,
   "metadata": {},
   "outputs": [],
   "source": [
    "class Embedding:\n",
    "\tdef __init__(self, num_embeddings, embedding_dim) -> None:\n",
    "\t\t\"\"\" Embedding class for generating one in the forward pass\n",
    "\n",
    "\t\tArgs:\n",
    "\t\t\tnum_embeddings: number of embeddings you want to have (like vocab size -- the alphabet -- how many items do you want in a vector representation)\n",
    "\t\t\tembedding_dim: size of each embedding\n",
    "\t\t\"\"\"\n",
    "\t\t\n",
    "\t\tself.weight = torch.randn((num_embeddings, embedding_dim))\n",
    "\n",
    "\tdef __call__(self, IX):\n",
    "\t\t\"\"\"_summary_\n",
    "\n",
    "\t\tArgs:\n",
    "\t\t\tIX (_type_): Index of the embedding you want (e.g index 26 would be z, index 0 is '.')\n",
    "\n",
    "\t\tReturns:\n",
    "\t\t\t_type_: _description_\n",
    "\t\t\"\"\"\n",
    "\t\tself.out = self.weight[IX]\n",
    "\t\t# print(\"Hey, I'm in embedding!:\", self.out.shape)\n",
    "\t\treturn self.out\n",
    "\n",
    "\tdef parameters(self):\n",
    "\t\treturn [self.weight]\n",
    "\n",
    "class Flatten:\n",
    "\t\"\"\"\n",
    "\tThe flattening operation of the embeddings so we can throw it through our NN\n",
    "\tand it can actually read it, instead of some wack 3D shape.\n",
    "\t\"\"\"\n",
    "\n",
    "\tdef __call__(self, x: torch.Tensor):\n",
    "\t\tself.out = x.view(x.shape[0], -1) # Force the x tensor into a 2D matrix, that must satisfy the 0th dim (# rows) being x.shape[0]. Basically, flattens 1st, 2nd dim into dim 1.\n",
    "\t\treturn self.out\n",
    "\n",
    "\tdef parameters(self):\n",
    "\t\treturn []"
   ]
  },
  {
   "cell_type": "code",
   "execution_count": 61,
   "metadata": {},
   "outputs": [
    {
     "data": {
      "text/plain": [
       "<torch._C.Generator at 0x233e2b08e30>"
      ]
     },
     "execution_count": 61,
     "metadata": {},
     "output_type": "execute_result"
    }
   ],
   "source": [
    "torch.manual_seed(42)"
   ]
  },
  {
   "cell_type": "code",
   "execution_count": 62,
   "metadata": {},
   "outputs": [
    {
     "name": "stdout",
     "output_type": "stream",
     "text": [
      "12097\n"
     ]
    }
   ],
   "source": [
    "# So now let's set up the new training loop with these in store!\n",
    "n_embd = 10 # the dimensionality of the character embedding vectors\n",
    "n_hidden = 200 # the number of neurons in the hidden layer of the MLP\n",
    "\n",
    "\n",
    "layers = [\n",
    "\tEmbedding(vocab_size, n_embd), \n",
    "\tFlatten(),\n",
    "\tLinear(n_embd * block_size, n_hidden, bias=False), BatchNorm1d(n_hidden), Tanh(),\n",
    "\tLinear(n_hidden, vocab_size),\n",
    "]\n",
    "\n",
    "# parameter init\n",
    "with torch.no_grad():\n",
    "\tlayers[-1].weight *= 0.1 # last layer make less confident for better softmax initialised. (makes initial closer to equal prob distr output)\n",
    "\n",
    "parameters = [p for layer in layers for p in layer.parameters()]\n",
    "print(sum(p.nelement() for p in parameters)) # number of parameters in total\n",
    "for p in parameters:\n",
    "\tp.requires_grad = True"
   ]
  },
  {
   "cell_type": "code",
   "execution_count": 63,
   "metadata": {},
   "outputs": [
    {
     "name": "stdout",
     "output_type": "stream",
     "text": [
      "Hey, I'm in embedding!: torch.Size([32, 3, 10])\n",
      "      0/  20000: 3.2966\n"
     ]
    }
   ],
   "source": [
    "# same optimization as last time\n",
    "max_steps = 20000\n",
    "batch_size = 32\n",
    "lossi = []\n",
    "\n",
    "for i in range(max_steps):\n",
    "  \n",
    "  # minibatch construct\n",
    "  ix = torch.randint(0, Xtr.shape[0], (batch_size,))\n",
    "  Xb, Yb = Xtr[ix], Ytr[ix] # batch X,Y\n",
    "\n",
    "  # forward pass\n",
    "  x = Xb # since we moved Embedding stuff to layers list, we want the first \n",
    "  # x to be the indexes that we'll be looking up in the embedding first. yay!\n",
    "  for layer in layers:\n",
    "    x = layer(x)\n",
    "  loss = F.cross_entropy(x, Yb) # loss function\n",
    "  \n",
    "  # backward pass\n",
    "  for p in parameters:\n",
    "    p.grad = None\n",
    "  loss.backward()\n",
    "  \n",
    "  # update: simple SGD\n",
    "  lr = 0.1 if i < 150000 else 0.01 # step learning rate decay\n",
    "  for p in parameters:\n",
    "    p.data += -lr * p.grad\n",
    "\n",
    "  # track stats\n",
    "  if i % 10000 == 0: # print every once in a while\n",
    "    print(f'{i:7d}/{max_steps:7d}: {loss.item():.4f}')\n",
    "  lossi.append(loss.log10().item())\n",
    "  break"
   ]
  },
  {
   "attachments": {},
   "cell_type": "markdown",
   "metadata": {},
   "source": [
    "Alright, instead of having a funky layers list, pytorch has a torch.nn.Sequential, where you basically store all the layers in a sequential order. Let's build that (at least the most important parts of it)"
   ]
  },
  {
   "cell_type": "code",
   "execution_count": 64,
   "metadata": {},
   "outputs": [],
   "source": [
    "class Sequential:\n",
    "\n",
    "\tdef __init__(self, layers) -> None:\n",
    "\t\tself.layers = layers\n",
    "\n",
    "\tdef __call__(self, x):\n",
    "\t\t# Given an input, call all the layers sequentially, then return that final output.\n",
    "\t\tfor layer in self.layers:\n",
    "\t\t\tx = layer(x)\n",
    "\t\tself.out = x\n",
    "\t\treturn self.out\n",
    "\tdef parameters(self):\n",
    "\t\t# Return number of parameters of everything in this sequential class\n",
    "\t\treturn [p for layer in self.layers for p in layer.parameters()]"
   ]
  },
  {
   "cell_type": "code",
   "execution_count": 65,
   "metadata": {},
   "outputs": [
    {
     "name": "stdout",
     "output_type": "stream",
     "text": [
      "12097\n"
     ]
    }
   ],
   "source": [
    "# So now let's set up the new training loop with these in store!\n",
    "n_embd = 10 # the dimensionality of the character embedding vectors\n",
    "n_hidden = 200 # the number of neurons in the hidden layer of the MLP\n",
    "\n",
    "\n",
    "model =  Sequential([\n",
    "\tEmbedding(vocab_size, n_embd), \n",
    "\tFlatten(),\n",
    "\tLinear(n_embd * block_size, n_hidden, bias=False), BatchNorm1d(n_hidden), Tanh(),\n",
    "\tLinear(n_hidden, vocab_size),\n",
    "])\n",
    "\n",
    "# parameter init\n",
    "with torch.no_grad():\n",
    "  model.layers[-1].weight *= 0.1 # last layer make less confident\n",
    "  \n",
    "parameters = model.parameters() # boom!\n",
    "print(sum(p.nelement() for p in parameters)) # number of parameters in total\n",
    "for p in parameters:\n",
    "\tp.requires_grad = True"
   ]
  },
  {
   "cell_type": "code",
   "execution_count": 153,
   "metadata": {},
   "outputs": [],
   "source": [
    "# same optimization as last time\n",
    "\n",
    "def train_sequential_model(model):\n",
    "\tmax_steps = 20000\n",
    "\tbatch_size = 32\n",
    "\tlossi = []\n",
    "\tfor i in range(max_steps):\n",
    "\t\t# minibatch construct\n",
    "\t\tix = torch.randint(0, Xtr.shape[0], (batch_size,))\n",
    "\t\tXb, Yb = Xtr[ix], Ytr[ix] # batch X,Y\n",
    "\n",
    "\t\t# forward pass\n",
    "\t\tlogits = model(Xb) # Boom! Just call the model, inputting Xb, and viola! Your logits (by definition, the output of your NN after its layer processing) are here :D\n",
    "\t\tloss = F.cross_entropy(logits, Yb) # loss function\n",
    "\t\t\n",
    "\t\t# backward pass\n",
    "\t\tfor p in parameters:\n",
    "\t\t\tp.grad = None\n",
    "\t\tloss.backward()\n",
    "\t\t\n",
    "\t\t# update: simple SGD\n",
    "\t\tlr = 0.1 if i < 150000 else 0.01 # step learning rate decay\n",
    "\t\tfor p in parameters:\n",
    "\t\t\t# print(p.grad)\n",
    "\t\t\tp.data += -lr * p.grad\n",
    "\n",
    "\t\t# track stats\n",
    "\t\tif i % 1000 == 0: # print every once in a while\n",
    "\t\t\tprint(f'{i:7d}/{max_steps:7d}: {loss.item():.4f}')\n",
    "\t\tlossi.append(loss.log10().item())"
   ]
  },
  {
   "cell_type": "code",
   "execution_count": null,
   "metadata": {},
   "outputs": [],
   "source": [
    "train_sequential_model(model)"
   ]
  },
  {
   "cell_type": "code",
   "execution_count": 67,
   "metadata": {},
   "outputs": [],
   "source": [
    "# COoool. Now let's set it into eval mode so we can do stuff again."
   ]
  },
  {
   "cell_type": "code",
   "execution_count": 68,
   "metadata": {},
   "outputs": [],
   "source": [
    "# put layers into eval mode (for batchnorm)\n",
    "for layer in model.layers:\n",
    "\tlayer.training = False"
   ]
  },
  {
   "cell_type": "code",
   "execution_count": 69,
   "metadata": {},
   "outputs": [
    {
     "name": "stdout",
     "output_type": "stream",
     "text": [
      "Hey, I'm in embedding!: torch.Size([182625, 3, 10])\n",
      "train 3.2867496013641357\n",
      "Hey, I'm in embedding!: torch.Size([22655, 3, 10])\n",
      "val 3.2875399589538574\n"
     ]
    }
   ],
   "source": [
    "# evaluate the loss\n",
    "@torch.no_grad() # this decorator disables gradient tracking inside pytorch\n",
    "def split_loss(split):\n",
    "  x,y = {\n",
    "    'train': (Xtr, Ytr),\n",
    "    'val': (Xdev, Ydev),\n",
    "    'test': (Xte, Yte),\n",
    "  }[split]\n",
    "  logits = model(x)\n",
    "  loss = F.cross_entropy(logits, y)\n",
    "  print(split, loss.item())\n",
    "\n",
    "split_loss('train')\n",
    "split_loss('val')\n"
   ]
  },
  {
   "cell_type": "code",
   "execution_count": 70,
   "metadata": {},
   "outputs": [
    {
     "name": "stdout",
     "output_type": "stream",
     "text": [
      "Hey, I'm in embedding!: torch.Size([1, 3, 10])\n",
      "Hey, I'm in embedding!: torch.Size([1, 3, 10])\n",
      "Hey, I'm in embedding!: torch.Size([1, 3, 10])\n",
      "Hey, I'm in embedding!: torch.Size([1, 3, 10])\n",
      "Hey, I'm in embedding!: torch.Size([1, 3, 10])\n",
      "gjoi.\n",
      "Hey, I'm in embedding!: torch.Size([1, 3, 10])\n",
      "Hey, I'm in embedding!: torch.Size([1, 3, 10])\n",
      "Hey, I'm in embedding!: torch.Size([1, 3, 10])\n",
      "Hey, I'm in embedding!: torch.Size([1, 3, 10])\n",
      "Hey, I'm in embedding!: torch.Size([1, 3, 10])\n",
      "Hey, I'm in embedding!: torch.Size([1, 3, 10])\n",
      "Hey, I'm in embedding!: torch.Size([1, 3, 10])\n",
      "Hey, I'm in embedding!: torch.Size([1, 3, 10])\n",
      "Hey, I'm in embedding!: torch.Size([1, 3, 10])\n",
      "Hey, I'm in embedding!: torch.Size([1, 3, 10])\n",
      "Hey, I'm in embedding!: torch.Size([1, 3, 10])\n",
      "Hey, I'm in embedding!: torch.Size([1, 3, 10])\n",
      "Hey, I'm in embedding!: torch.Size([1, 3, 10])\n",
      "Hey, I'm in embedding!: torch.Size([1, 3, 10])\n",
      "Hey, I'm in embedding!: torch.Size([1, 3, 10])\n",
      "tfqcwowpsbivyh.\n",
      "Hey, I'm in embedding!: torch.Size([1, 3, 10])\n",
      "Hey, I'm in embedding!: torch.Size([1, 3, 10])\n",
      "Hey, I'm in embedding!: torch.Size([1, 3, 10])\n",
      "Hey, I'm in embedding!: torch.Size([1, 3, 10])\n",
      "Hey, I'm in embedding!: torch.Size([1, 3, 10])\n",
      "Hey, I'm in embedding!: torch.Size([1, 3, 10])\n",
      "Hey, I'm in embedding!: torch.Size([1, 3, 10])\n",
      "Hey, I'm in embedding!: torch.Size([1, 3, 10])\n",
      "Hey, I'm in embedding!: torch.Size([1, 3, 10])\n",
      "Hey, I'm in embedding!: torch.Size([1, 3, 10])\n",
      "Hey, I'm in embedding!: torch.Size([1, 3, 10])\n",
      "Hey, I'm in embedding!: torch.Size([1, 3, 10])\n",
      "Hey, I'm in embedding!: torch.Size([1, 3, 10])\n",
      "Hey, I'm in embedding!: torch.Size([1, 3, 10])\n",
      "Hey, I'm in embedding!: torch.Size([1, 3, 10])\n",
      "Hey, I'm in embedding!: torch.Size([1, 3, 10])\n",
      "Hey, I'm in embedding!: torch.Size([1, 3, 10])\n",
      "Hey, I'm in embedding!: torch.Size([1, 3, 10])\n",
      "Hey, I'm in embedding!: torch.Size([1, 3, 10])\n",
      "Hey, I'm in embedding!: torch.Size([1, 3, 10])\n",
      "Hey, I'm in embedding!: torch.Size([1, 3, 10])\n",
      "Hey, I'm in embedding!: torch.Size([1, 3, 10])\n",
      "Hey, I'm in embedding!: torch.Size([1, 3, 10])\n",
      "Hey, I'm in embedding!: torch.Size([1, 3, 10])\n",
      "Hey, I'm in embedding!: torch.Size([1, 3, 10])\n",
      "Hey, I'm in embedding!: torch.Size([1, 3, 10])\n",
      "Hey, I'm in embedding!: torch.Size([1, 3, 10])\n",
      "Hey, I'm in embedding!: torch.Size([1, 3, 10])\n",
      "Hey, I'm in embedding!: torch.Size([1, 3, 10])\n",
      "Hey, I'm in embedding!: torch.Size([1, 3, 10])\n",
      "Hey, I'm in embedding!: torch.Size([1, 3, 10])\n",
      "Hey, I'm in embedding!: torch.Size([1, 3, 10])\n",
      "Hey, I'm in embedding!: torch.Size([1, 3, 10])\n",
      "Hey, I'm in embedding!: torch.Size([1, 3, 10])\n",
      "eqikofysqazhiwvfhmcdcpmojankkujkj.\n",
      "Hey, I'm in embedding!: torch.Size([1, 3, 10])\n",
      "Hey, I'm in embedding!: torch.Size([1, 3, 10])\n",
      "Hey, I'm in embedding!: torch.Size([1, 3, 10])\n",
      "Hey, I'm in embedding!: torch.Size([1, 3, 10])\n",
      "Hey, I'm in embedding!: torch.Size([1, 3, 10])\n",
      "Hey, I'm in embedding!: torch.Size([1, 3, 10])\n",
      "Hey, I'm in embedding!: torch.Size([1, 3, 10])\n",
      "Hey, I'm in embedding!: torch.Size([1, 3, 10])\n",
      "Hey, I'm in embedding!: torch.Size([1, 3, 10])\n",
      "Hey, I'm in embedding!: torch.Size([1, 3, 10])\n",
      "Hey, I'm in embedding!: torch.Size([1, 3, 10])\n",
      "Hey, I'm in embedding!: torch.Size([1, 3, 10])\n",
      "Hey, I'm in embedding!: torch.Size([1, 3, 10])\n",
      "Hey, I'm in embedding!: torch.Size([1, 3, 10])\n",
      "Hey, I'm in embedding!: torch.Size([1, 3, 10])\n",
      "Hey, I'm in embedding!: torch.Size([1, 3, 10])\n",
      "Hey, I'm in embedding!: torch.Size([1, 3, 10])\n",
      "Hey, I'm in embedding!: torch.Size([1, 3, 10])\n",
      "Hey, I'm in embedding!: torch.Size([1, 3, 10])\n",
      "osgdfqadwhzwbsmhhk.\n",
      "Hey, I'm in embedding!: torch.Size([1, 3, 10])\n",
      "Hey, I'm in embedding!: torch.Size([1, 3, 10])\n",
      "Hey, I'm in embedding!: torch.Size([1, 3, 10])\n",
      "Hey, I'm in embedding!: torch.Size([1, 3, 10])\n",
      "Hey, I'm in embedding!: torch.Size([1, 3, 10])\n",
      "Hey, I'm in embedding!: torch.Size([1, 3, 10])\n",
      "Hey, I'm in embedding!: torch.Size([1, 3, 10])\n",
      "Hey, I'm in embedding!: torch.Size([1, 3, 10])\n",
      "Hey, I'm in embedding!: torch.Size([1, 3, 10])\n",
      "Hey, I'm in embedding!: torch.Size([1, 3, 10])\n",
      "Hey, I'm in embedding!: torch.Size([1, 3, 10])\n",
      "Hey, I'm in embedding!: torch.Size([1, 3, 10])\n",
      "Hey, I'm in embedding!: torch.Size([1, 3, 10])\n",
      "Hey, I'm in embedding!: torch.Size([1, 3, 10])\n",
      "Hey, I'm in embedding!: torch.Size([1, 3, 10])\n",
      "Hey, I'm in embedding!: torch.Size([1, 3, 10])\n",
      "Hey, I'm in embedding!: torch.Size([1, 3, 10])\n",
      "vmvzvpxqgttyzgpl.\n",
      "Hey, I'm in embedding!: torch.Size([1, 3, 10])\n",
      "Hey, I'm in embedding!: torch.Size([1, 3, 10])\n",
      "Hey, I'm in embedding!: torch.Size([1, 3, 10])\n",
      "Hey, I'm in embedding!: torch.Size([1, 3, 10])\n",
      "Hey, I'm in embedding!: torch.Size([1, 3, 10])\n",
      "Hey, I'm in embedding!: torch.Size([1, 3, 10])\n",
      "Hey, I'm in embedding!: torch.Size([1, 3, 10])\n",
      "Hey, I'm in embedding!: torch.Size([1, 3, 10])\n",
      "Hey, I'm in embedding!: torch.Size([1, 3, 10])\n",
      "Hey, I'm in embedding!: torch.Size([1, 3, 10])\n",
      "Hey, I'm in embedding!: torch.Size([1, 3, 10])\n",
      "Hey, I'm in embedding!: torch.Size([1, 3, 10])\n",
      "Hey, I'm in embedding!: torch.Size([1, 3, 10])\n",
      "Hey, I'm in embedding!: torch.Size([1, 3, 10])\n",
      "Hey, I'm in embedding!: torch.Size([1, 3, 10])\n",
      "Hey, I'm in embedding!: torch.Size([1, 3, 10])\n",
      "Hey, I'm in embedding!: torch.Size([1, 3, 10])\n",
      "Hey, I'm in embedding!: torch.Size([1, 3, 10])\n",
      "Hey, I'm in embedding!: torch.Size([1, 3, 10])\n",
      "Hey, I'm in embedding!: torch.Size([1, 3, 10])\n",
      "Hey, I'm in embedding!: torch.Size([1, 3, 10])\n",
      "Hey, I'm in embedding!: torch.Size([1, 3, 10])\n",
      "Hey, I'm in embedding!: torch.Size([1, 3, 10])\n",
      "Hey, I'm in embedding!: torch.Size([1, 3, 10])\n",
      "Hey, I'm in embedding!: torch.Size([1, 3, 10])\n",
      "Hey, I'm in embedding!: torch.Size([1, 3, 10])\n",
      "Hey, I'm in embedding!: torch.Size([1, 3, 10])\n",
      "dothwsahlkphlfnbqqtulyrhmp.\n",
      "Hey, I'm in embedding!: torch.Size([1, 3, 10])\n",
      "Hey, I'm in embedding!: torch.Size([1, 3, 10])\n",
      "Hey, I'm in embedding!: torch.Size([1, 3, 10])\n",
      "Hey, I'm in embedding!: torch.Size([1, 3, 10])\n",
      "Hey, I'm in embedding!: torch.Size([1, 3, 10])\n",
      "Hey, I'm in embedding!: torch.Size([1, 3, 10])\n",
      "Hey, I'm in embedding!: torch.Size([1, 3, 10])\n",
      "Hey, I'm in embedding!: torch.Size([1, 3, 10])\n",
      "Hey, I'm in embedding!: torch.Size([1, 3, 10])\n",
      "Hey, I'm in embedding!: torch.Size([1, 3, 10])\n",
      "Hey, I'm in embedding!: torch.Size([1, 3, 10])\n",
      "Hey, I'm in embedding!: torch.Size([1, 3, 10])\n",
      "Hey, I'm in embedding!: torch.Size([1, 3, 10])\n",
      "Hey, I'm in embedding!: torch.Size([1, 3, 10])\n",
      "Hey, I'm in embedding!: torch.Size([1, 3, 10])\n",
      "Hey, I'm in embedding!: torch.Size([1, 3, 10])\n",
      "gqsuyxyavrqdtpq.\n",
      "Hey, I'm in embedding!: torch.Size([1, 3, 10])\n",
      "Hey, I'm in embedding!: torch.Size([1, 3, 10])\n",
      "Hey, I'm in embedding!: torch.Size([1, 3, 10])\n",
      "Hey, I'm in embedding!: torch.Size([1, 3, 10])\n",
      "Hey, I'm in embedding!: torch.Size([1, 3, 10])\n",
      "Hey, I'm in embedding!: torch.Size([1, 3, 10])\n",
      "Hey, I'm in embedding!: torch.Size([1, 3, 10])\n",
      "Hey, I'm in embedding!: torch.Size([1, 3, 10])\n",
      "Hey, I'm in embedding!: torch.Size([1, 3, 10])\n",
      "Hey, I'm in embedding!: torch.Size([1, 3, 10])\n",
      "Hey, I'm in embedding!: torch.Size([1, 3, 10])\n",
      "Hey, I'm in embedding!: torch.Size([1, 3, 10])\n",
      "Hey, I'm in embedding!: torch.Size([1, 3, 10])\n",
      "Hey, I'm in embedding!: torch.Size([1, 3, 10])\n",
      "Hey, I'm in embedding!: torch.Size([1, 3, 10])\n",
      "Hey, I'm in embedding!: torch.Size([1, 3, 10])\n",
      "Hey, I'm in embedding!: torch.Size([1, 3, 10])\n",
      "Hey, I'm in embedding!: torch.Size([1, 3, 10])\n",
      "Hey, I'm in embedding!: torch.Size([1, 3, 10])\n",
      "Hey, I'm in embedding!: torch.Size([1, 3, 10])\n",
      "Hey, I'm in embedding!: torch.Size([1, 3, 10])\n",
      "Hey, I'm in embedding!: torch.Size([1, 3, 10])\n",
      "Hey, I'm in embedding!: torch.Size([1, 3, 10])\n",
      "Hey, I'm in embedding!: torch.Size([1, 3, 10])\n",
      "Hey, I'm in embedding!: torch.Size([1, 3, 10])\n",
      "Hey, I'm in embedding!: torch.Size([1, 3, 10])\n",
      "edvigdakriesxurznkbmgbudd.\n",
      "Hey, I'm in embedding!: torch.Size([1, 3, 10])\n",
      "Hey, I'm in embedding!: torch.Size([1, 3, 10])\n",
      "Hey, I'm in embedding!: torch.Size([1, 3, 10])\n",
      "Hey, I'm in embedding!: torch.Size([1, 3, 10])\n",
      "Hey, I'm in embedding!: torch.Size([1, 3, 10])\n",
      "Hey, I'm in embedding!: torch.Size([1, 3, 10])\n",
      "Hey, I'm in embedding!: torch.Size([1, 3, 10])\n",
      "Hey, I'm in embedding!: torch.Size([1, 3, 10])\n",
      "Hey, I'm in embedding!: torch.Size([1, 3, 10])\n",
      "Hey, I'm in embedding!: torch.Size([1, 3, 10])\n",
      "Hey, I'm in embedding!: torch.Size([1, 3, 10])\n",
      "Hey, I'm in embedding!: torch.Size([1, 3, 10])\n",
      "Hey, I'm in embedding!: torch.Size([1, 3, 10])\n",
      "Hey, I'm in embedding!: torch.Size([1, 3, 10])\n",
      "Hey, I'm in embedding!: torch.Size([1, 3, 10])\n",
      "Hey, I'm in embedding!: torch.Size([1, 3, 10])\n",
      "Hey, I'm in embedding!: torch.Size([1, 3, 10])\n",
      "Hey, I'm in embedding!: torch.Size([1, 3, 10])\n",
      "Hey, I'm in embedding!: torch.Size([1, 3, 10])\n",
      "Hey, I'm in embedding!: torch.Size([1, 3, 10])\n",
      "Hey, I'm in embedding!: torch.Size([1, 3, 10])\n",
      "Hey, I'm in embedding!: torch.Size([1, 3, 10])\n",
      "Hey, I'm in embedding!: torch.Size([1, 3, 10])\n",
      "Hey, I'm in embedding!: torch.Size([1, 3, 10])\n",
      "Hey, I'm in embedding!: torch.Size([1, 3, 10])\n",
      "Hey, I'm in embedding!: torch.Size([1, 3, 10])\n",
      "Hey, I'm in embedding!: torch.Size([1, 3, 10])\n",
      "Hey, I'm in embedding!: torch.Size([1, 3, 10])\n",
      "ibbdjijuflpnbklrpcyspixqwtu.\n",
      "Hey, I'm in embedding!: torch.Size([1, 3, 10])\n",
      "Hey, I'm in embedding!: torch.Size([1, 3, 10])\n",
      "Hey, I'm in embedding!: torch.Size([1, 3, 10])\n",
      "Hey, I'm in embedding!: torch.Size([1, 3, 10])\n",
      "Hey, I'm in embedding!: torch.Size([1, 3, 10])\n",
      "Hey, I'm in embedding!: torch.Size([1, 3, 10])\n",
      "Hey, I'm in embedding!: torch.Size([1, 3, 10])\n",
      "Hey, I'm in embedding!: torch.Size([1, 3, 10])\n",
      "Hey, I'm in embedding!: torch.Size([1, 3, 10])\n",
      "Hey, I'm in embedding!: torch.Size([1, 3, 10])\n",
      "Hey, I'm in embedding!: torch.Size([1, 3, 10])\n",
      "Hey, I'm in embedding!: torch.Size([1, 3, 10])\n",
      "Hey, I'm in embedding!: torch.Size([1, 3, 10])\n",
      "kfcjcujjkepu.\n",
      "Hey, I'm in embedding!: torch.Size([1, 3, 10])\n",
      "Hey, I'm in embedding!: torch.Size([1, 3, 10])\n",
      "Hey, I'm in embedding!: torch.Size([1, 3, 10])\n",
      "Hey, I'm in embedding!: torch.Size([1, 3, 10])\n",
      "vqp.\n",
      "Hey, I'm in embedding!: torch.Size([1, 3, 10])\n",
      "Hey, I'm in embedding!: torch.Size([1, 3, 10])\n",
      "Hey, I'm in embedding!: torch.Size([1, 3, 10])\n",
      "Hey, I'm in embedding!: torch.Size([1, 3, 10])\n",
      "Hey, I'm in embedding!: torch.Size([1, 3, 10])\n",
      "Hey, I'm in embedding!: torch.Size([1, 3, 10])\n",
      "Hey, I'm in embedding!: torch.Size([1, 3, 10])\n",
      "Hey, I'm in embedding!: torch.Size([1, 3, 10])\n",
      "Hey, I'm in embedding!: torch.Size([1, 3, 10])\n",
      "Hey, I'm in embedding!: torch.Size([1, 3, 10])\n",
      "Hey, I'm in embedding!: torch.Size([1, 3, 10])\n",
      "Hey, I'm in embedding!: torch.Size([1, 3, 10])\n",
      "Hey, I'm in embedding!: torch.Size([1, 3, 10])\n",
      "Hey, I'm in embedding!: torch.Size([1, 3, 10])\n",
      "Hey, I'm in embedding!: torch.Size([1, 3, 10])\n",
      "Hey, I'm in embedding!: torch.Size([1, 3, 10])\n",
      "Hey, I'm in embedding!: torch.Size([1, 3, 10])\n",
      "Hey, I'm in embedding!: torch.Size([1, 3, 10])\n",
      "Hey, I'm in embedding!: torch.Size([1, 3, 10])\n",
      "Hey, I'm in embedding!: torch.Size([1, 3, 10])\n",
      "Hey, I'm in embedding!: torch.Size([1, 3, 10])\n",
      "Hey, I'm in embedding!: torch.Size([1, 3, 10])\n",
      "Hey, I'm in embedding!: torch.Size([1, 3, 10])\n",
      "Hey, I'm in embedding!: torch.Size([1, 3, 10])\n",
      "Hey, I'm in embedding!: torch.Size([1, 3, 10])\n",
      "Hey, I'm in embedding!: torch.Size([1, 3, 10])\n",
      "Hey, I'm in embedding!: torch.Size([1, 3, 10])\n",
      "Hey, I'm in embedding!: torch.Size([1, 3, 10])\n",
      "Hey, I'm in embedding!: torch.Size([1, 3, 10])\n",
      "Hey, I'm in embedding!: torch.Size([1, 3, 10])\n",
      "Hey, I'm in embedding!: torch.Size([1, 3, 10])\n",
      "Hey, I'm in embedding!: torch.Size([1, 3, 10])\n",
      "Hey, I'm in embedding!: torch.Size([1, 3, 10])\n",
      "Hey, I'm in embedding!: torch.Size([1, 3, 10])\n",
      "Hey, I'm in embedding!: torch.Size([1, 3, 10])\n",
      "Hey, I'm in embedding!: torch.Size([1, 3, 10])\n",
      "Hey, I'm in embedding!: torch.Size([1, 3, 10])\n",
      "Hey, I'm in embedding!: torch.Size([1, 3, 10])\n",
      "duebnfhkcguyilakasiqamvsuklipiubsjljn.\n",
      "Hey, I'm in embedding!: torch.Size([1, 3, 10])\n",
      "Hey, I'm in embedding!: torch.Size([1, 3, 10])\n",
      "Hey, I'm in embedding!: torch.Size([1, 3, 10])\n",
      "Hey, I'm in embedding!: torch.Size([1, 3, 10])\n",
      "Hey, I'm in embedding!: torch.Size([1, 3, 10])\n",
      "Hey, I'm in embedding!: torch.Size([1, 3, 10])\n",
      "Hey, I'm in embedding!: torch.Size([1, 3, 10])\n",
      "Hey, I'm in embedding!: torch.Size([1, 3, 10])\n",
      "Hey, I'm in embedding!: torch.Size([1, 3, 10])\n",
      "Hey, I'm in embedding!: torch.Size([1, 3, 10])\n",
      "Hey, I'm in embedding!: torch.Size([1, 3, 10])\n",
      "Hey, I'm in embedding!: torch.Size([1, 3, 10])\n",
      "Hey, I'm in embedding!: torch.Size([1, 3, 10])\n",
      "Hey, I'm in embedding!: torch.Size([1, 3, 10])\n",
      "Hey, I'm in embedding!: torch.Size([1, 3, 10])\n",
      "Hey, I'm in embedding!: torch.Size([1, 3, 10])\n",
      "Hey, I'm in embedding!: torch.Size([1, 3, 10])\n",
      "Hey, I'm in embedding!: torch.Size([1, 3, 10])\n",
      "Hey, I'm in embedding!: torch.Size([1, 3, 10])\n",
      "Hey, I'm in embedding!: torch.Size([1, 3, 10])\n",
      "Hey, I'm in embedding!: torch.Size([1, 3, 10])\n",
      "Hey, I'm in embedding!: torch.Size([1, 3, 10])\n",
      "Hey, I'm in embedding!: torch.Size([1, 3, 10])\n",
      "Hey, I'm in embedding!: torch.Size([1, 3, 10])\n",
      "Hey, I'm in embedding!: torch.Size([1, 3, 10])\n",
      "Hey, I'm in embedding!: torch.Size([1, 3, 10])\n",
      "Hey, I'm in embedding!: torch.Size([1, 3, 10])\n",
      "eumtftaapehvnbaauyfliknnhi.\n",
      "Hey, I'm in embedding!: torch.Size([1, 3, 10])\n",
      "Hey, I'm in embedding!: torch.Size([1, 3, 10])\n",
      "Hey, I'm in embedding!: torch.Size([1, 3, 10])\n",
      "Hey, I'm in embedding!: torch.Size([1, 3, 10])\n",
      "Hey, I'm in embedding!: torch.Size([1, 3, 10])\n",
      "Hey, I'm in embedding!: torch.Size([1, 3, 10])\n",
      "Hey, I'm in embedding!: torch.Size([1, 3, 10])\n",
      "Hey, I'm in embedding!: torch.Size([1, 3, 10])\n",
      "Hey, I'm in embedding!: torch.Size([1, 3, 10])\n",
      "yofjpowq.\n",
      "Hey, I'm in embedding!: torch.Size([1, 3, 10])\n",
      "Hey, I'm in embedding!: torch.Size([1, 3, 10])\n",
      "Hey, I'm in embedding!: torch.Size([1, 3, 10])\n",
      "Hey, I'm in embedding!: torch.Size([1, 3, 10])\n",
      "Hey, I'm in embedding!: torch.Size([1, 3, 10])\n",
      "Hey, I'm in embedding!: torch.Size([1, 3, 10])\n",
      "Hey, I'm in embedding!: torch.Size([1, 3, 10])\n",
      "Hey, I'm in embedding!: torch.Size([1, 3, 10])\n",
      "Hey, I'm in embedding!: torch.Size([1, 3, 10])\n",
      "Hey, I'm in embedding!: torch.Size([1, 3, 10])\n",
      "Hey, I'm in embedding!: torch.Size([1, 3, 10])\n",
      "Hey, I'm in embedding!: torch.Size([1, 3, 10])\n",
      "Hey, I'm in embedding!: torch.Size([1, 3, 10])\n",
      "Hey, I'm in embedding!: torch.Size([1, 3, 10])\n",
      "Hey, I'm in embedding!: torch.Size([1, 3, 10])\n",
      "Hey, I'm in embedding!: torch.Size([1, 3, 10])\n",
      "Hey, I'm in embedding!: torch.Size([1, 3, 10])\n",
      "Hey, I'm in embedding!: torch.Size([1, 3, 10])\n",
      "Hey, I'm in embedding!: torch.Size([1, 3, 10])\n",
      "Hey, I'm in embedding!: torch.Size([1, 3, 10])\n",
      "Hey, I'm in embedding!: torch.Size([1, 3, 10])\n",
      "Hey, I'm in embedding!: torch.Size([1, 3, 10])\n",
      "Hey, I'm in embedding!: torch.Size([1, 3, 10])\n",
      "Hey, I'm in embedding!: torch.Size([1, 3, 10])\n",
      "Hey, I'm in embedding!: torch.Size([1, 3, 10])\n",
      "Hey, I'm in embedding!: torch.Size([1, 3, 10])\n",
      "Hey, I'm in embedding!: torch.Size([1, 3, 10])\n",
      "Hey, I'm in embedding!: torch.Size([1, 3, 10])\n",
      "Hey, I'm in embedding!: torch.Size([1, 3, 10])\n",
      "Hey, I'm in embedding!: torch.Size([1, 3, 10])\n",
      "Hey, I'm in embedding!: torch.Size([1, 3, 10])\n",
      "Hey, I'm in embedding!: torch.Size([1, 3, 10])\n",
      "Hey, I'm in embedding!: torch.Size([1, 3, 10])\n",
      "Hey, I'm in embedding!: torch.Size([1, 3, 10])\n",
      "Hey, I'm in embedding!: torch.Size([1, 3, 10])\n",
      "Hey, I'm in embedding!: torch.Size([1, 3, 10])\n",
      "Hey, I'm in embedding!: torch.Size([1, 3, 10])\n",
      "Hey, I'm in embedding!: torch.Size([1, 3, 10])\n",
      "Hey, I'm in embedding!: torch.Size([1, 3, 10])\n",
      "Hey, I'm in embedding!: torch.Size([1, 3, 10])\n",
      "Hey, I'm in embedding!: torch.Size([1, 3, 10])\n",
      "Hey, I'm in embedding!: torch.Size([1, 3, 10])\n",
      "Hey, I'm in embedding!: torch.Size([1, 3, 10])\n",
      "Hey, I'm in embedding!: torch.Size([1, 3, 10])\n",
      "Hey, I'm in embedding!: torch.Size([1, 3, 10])\n",
      "Hey, I'm in embedding!: torch.Size([1, 3, 10])\n",
      "Hey, I'm in embedding!: torch.Size([1, 3, 10])\n",
      "Hey, I'm in embedding!: torch.Size([1, 3, 10])\n",
      "Hey, I'm in embedding!: torch.Size([1, 3, 10])\n",
      "Hey, I'm in embedding!: torch.Size([1, 3, 10])\n",
      "Hey, I'm in embedding!: torch.Size([1, 3, 10])\n",
      "Hey, I'm in embedding!: torch.Size([1, 3, 10])\n",
      "Hey, I'm in embedding!: torch.Size([1, 3, 10])\n",
      "Hey, I'm in embedding!: torch.Size([1, 3, 10])\n",
      "Hey, I'm in embedding!: torch.Size([1, 3, 10])\n",
      "Hey, I'm in embedding!: torch.Size([1, 3, 10])\n",
      "Hey, I'm in embedding!: torch.Size([1, 3, 10])\n",
      "Hey, I'm in embedding!: torch.Size([1, 3, 10])\n",
      "Hey, I'm in embedding!: torch.Size([1, 3, 10])\n",
      "Hey, I'm in embedding!: torch.Size([1, 3, 10])\n",
      "Hey, I'm in embedding!: torch.Size([1, 3, 10])\n",
      "Hey, I'm in embedding!: torch.Size([1, 3, 10])\n",
      "zrcpqchgandxhhbkaykhgsfvsqtnyuekxilyitxrumfzwqiwijonqbcjcivjd.\n",
      "Hey, I'm in embedding!: torch.Size([1, 3, 10])\n",
      "Hey, I'm in embedding!: torch.Size([1, 3, 10])\n",
      "Hey, I'm in embedding!: torch.Size([1, 3, 10])\n",
      "Hey, I'm in embedding!: torch.Size([1, 3, 10])\n",
      "Hey, I'm in embedding!: torch.Size([1, 3, 10])\n",
      "Hey, I'm in embedding!: torch.Size([1, 3, 10])\n",
      "Hey, I'm in embedding!: torch.Size([1, 3, 10])\n",
      "Hey, I'm in embedding!: torch.Size([1, 3, 10])\n",
      "Hey, I'm in embedding!: torch.Size([1, 3, 10])\n",
      "Hey, I'm in embedding!: torch.Size([1, 3, 10])\n",
      "Hey, I'm in embedding!: torch.Size([1, 3, 10])\n",
      "Hey, I'm in embedding!: torch.Size([1, 3, 10])\n",
      "Hey, I'm in embedding!: torch.Size([1, 3, 10])\n",
      "Hey, I'm in embedding!: torch.Size([1, 3, 10])\n",
      "Hey, I'm in embedding!: torch.Size([1, 3, 10])\n",
      "Hey, I'm in embedding!: torch.Size([1, 3, 10])\n",
      "Hey, I'm in embedding!: torch.Size([1, 3, 10])\n",
      "Hey, I'm in embedding!: torch.Size([1, 3, 10])\n",
      "Hey, I'm in embedding!: torch.Size([1, 3, 10])\n",
      "Hey, I'm in embedding!: torch.Size([1, 3, 10])\n",
      "djedpigqixhvpmwkagj.\n",
      "Hey, I'm in embedding!: torch.Size([1, 3, 10])\n",
      "Hey, I'm in embedding!: torch.Size([1, 3, 10])\n",
      "Hey, I'm in embedding!: torch.Size([1, 3, 10])\n",
      "Hey, I'm in embedding!: torch.Size([1, 3, 10])\n",
      "Hey, I'm in embedding!: torch.Size([1, 3, 10])\n",
      "Hey, I'm in embedding!: torch.Size([1, 3, 10])\n",
      "Hey, I'm in embedding!: torch.Size([1, 3, 10])\n",
      "Hey, I'm in embedding!: torch.Size([1, 3, 10])\n",
      "Hey, I'm in embedding!: torch.Size([1, 3, 10])\n",
      "Hey, I'm in embedding!: torch.Size([1, 3, 10])\n",
      "Hey, I'm in embedding!: torch.Size([1, 3, 10])\n",
      "Hey, I'm in embedding!: torch.Size([1, 3, 10])\n",
      "Hey, I'm in embedding!: torch.Size([1, 3, 10])\n",
      "Hey, I'm in embedding!: torch.Size([1, 3, 10])\n",
      "Hey, I'm in embedding!: torch.Size([1, 3, 10])\n",
      "Hey, I'm in embedding!: torch.Size([1, 3, 10])\n",
      "Hey, I'm in embedding!: torch.Size([1, 3, 10])\n",
      "Hey, I'm in embedding!: torch.Size([1, 3, 10])\n",
      "Hey, I'm in embedding!: torch.Size([1, 3, 10])\n",
      "Hey, I'm in embedding!: torch.Size([1, 3, 10])\n",
      "Hey, I'm in embedding!: torch.Size([1, 3, 10])\n",
      "Hey, I'm in embedding!: torch.Size([1, 3, 10])\n",
      "Hey, I'm in embedding!: torch.Size([1, 3, 10])\n",
      "Hey, I'm in embedding!: torch.Size([1, 3, 10])\n",
      "Hey, I'm in embedding!: torch.Size([1, 3, 10])\n",
      "Hey, I'm in embedding!: torch.Size([1, 3, 10])\n",
      "Hey, I'm in embedding!: torch.Size([1, 3, 10])\n",
      "Hey, I'm in embedding!: torch.Size([1, 3, 10])\n",
      "dodfgyjttbddxenyuetcqhwdjpp.\n",
      "Hey, I'm in embedding!: torch.Size([1, 3, 10])\n",
      "Hey, I'm in embedding!: torch.Size([1, 3, 10])\n",
      "Hey, I'm in embedding!: torch.Size([1, 3, 10])\n",
      "Hey, I'm in embedding!: torch.Size([1, 3, 10])\n",
      "Hey, I'm in embedding!: torch.Size([1, 3, 10])\n",
      "Hey, I'm in embedding!: torch.Size([1, 3, 10])\n",
      "Hey, I'm in embedding!: torch.Size([1, 3, 10])\n",
      "Hey, I'm in embedding!: torch.Size([1, 3, 10])\n",
      "Hey, I'm in embedding!: torch.Size([1, 3, 10])\n",
      "Hey, I'm in embedding!: torch.Size([1, 3, 10])\n",
      "Hey, I'm in embedding!: torch.Size([1, 3, 10])\n",
      "Hey, I'm in embedding!: torch.Size([1, 3, 10])\n",
      "Hey, I'm in embedding!: torch.Size([1, 3, 10])\n",
      "zeejunmzodxk.\n",
      "Hey, I'm in embedding!: torch.Size([1, 3, 10])\n",
      "Hey, I'm in embedding!: torch.Size([1, 3, 10])\n",
      "Hey, I'm in embedding!: torch.Size([1, 3, 10])\n",
      "Hey, I'm in embedding!: torch.Size([1, 3, 10])\n",
      "Hey, I'm in embedding!: torch.Size([1, 3, 10])\n",
      "Hey, I'm in embedding!: torch.Size([1, 3, 10])\n",
      "Hey, I'm in embedding!: torch.Size([1, 3, 10])\n",
      "Hey, I'm in embedding!: torch.Size([1, 3, 10])\n",
      "Hey, I'm in embedding!: torch.Size([1, 3, 10])\n",
      "Hey, I'm in embedding!: torch.Size([1, 3, 10])\n",
      "Hey, I'm in embedding!: torch.Size([1, 3, 10])\n",
      "Hey, I'm in embedding!: torch.Size([1, 3, 10])\n",
      "Hey, I'm in embedding!: torch.Size([1, 3, 10])\n",
      "Hey, I'm in embedding!: torch.Size([1, 3, 10])\n",
      "Hey, I'm in embedding!: torch.Size([1, 3, 10])\n",
      "Hey, I'm in embedding!: torch.Size([1, 3, 10])\n",
      "Hey, I'm in embedding!: torch.Size([1, 3, 10])\n",
      "Hey, I'm in embedding!: torch.Size([1, 3, 10])\n",
      "Hey, I'm in embedding!: torch.Size([1, 3, 10])\n",
      "Hey, I'm in embedding!: torch.Size([1, 3, 10])\n",
      "Hey, I'm in embedding!: torch.Size([1, 3, 10])\n",
      "Hey, I'm in embedding!: torch.Size([1, 3, 10])\n",
      "Hey, I'm in embedding!: torch.Size([1, 3, 10])\n",
      "Hey, I'm in embedding!: torch.Size([1, 3, 10])\n",
      "Hey, I'm in embedding!: torch.Size([1, 3, 10])\n",
      "Hey, I'm in embedding!: torch.Size([1, 3, 10])\n",
      "Hey, I'm in embedding!: torch.Size([1, 3, 10])\n",
      "Hey, I'm in embedding!: torch.Size([1, 3, 10])\n",
      "Hey, I'm in embedding!: torch.Size([1, 3, 10])\n",
      "Hey, I'm in embedding!: torch.Size([1, 3, 10])\n",
      "Hey, I'm in embedding!: torch.Size([1, 3, 10])\n",
      "Hey, I'm in embedding!: torch.Size([1, 3, 10])\n",
      "Hey, I'm in embedding!: torch.Size([1, 3, 10])\n",
      "Hey, I'm in embedding!: torch.Size([1, 3, 10])\n",
      "Hey, I'm in embedding!: torch.Size([1, 3, 10])\n",
      "Hey, I'm in embedding!: torch.Size([1, 3, 10])\n",
      "Hey, I'm in embedding!: torch.Size([1, 3, 10])\n",
      "Hey, I'm in embedding!: torch.Size([1, 3, 10])\n",
      "Hey, I'm in embedding!: torch.Size([1, 3, 10])\n",
      "Hey, I'm in embedding!: torch.Size([1, 3, 10])\n",
      "Hey, I'm in embedding!: torch.Size([1, 3, 10])\n",
      "Hey, I'm in embedding!: torch.Size([1, 3, 10])\n",
      "Hey, I'm in embedding!: torch.Size([1, 3, 10])\n",
      "Hey, I'm in embedding!: torch.Size([1, 3, 10])\n",
      "pewybtsuddzvrzmciogygsldurxmqtercespcxtboot.\n",
      "Hey, I'm in embedding!: torch.Size([1, 3, 10])\n",
      "Hey, I'm in embedding!: torch.Size([1, 3, 10])\n",
      "Hey, I'm in embedding!: torch.Size([1, 3, 10])\n",
      "Hey, I'm in embedding!: torch.Size([1, 3, 10])\n",
      "Hey, I'm in embedding!: torch.Size([1, 3, 10])\n",
      "Hey, I'm in embedding!: torch.Size([1, 3, 10])\n",
      "Hey, I'm in embedding!: torch.Size([1, 3, 10])\n",
      "Hey, I'm in embedding!: torch.Size([1, 3, 10])\n",
      "Hey, I'm in embedding!: torch.Size([1, 3, 10])\n",
      "Hey, I'm in embedding!: torch.Size([1, 3, 10])\n",
      "Hey, I'm in embedding!: torch.Size([1, 3, 10])\n",
      "Hey, I'm in embedding!: torch.Size([1, 3, 10])\n",
      "Hey, I'm in embedding!: torch.Size([1, 3, 10])\n",
      "Hey, I'm in embedding!: torch.Size([1, 3, 10])\n",
      "Hey, I'm in embedding!: torch.Size([1, 3, 10])\n",
      "Hey, I'm in embedding!: torch.Size([1, 3, 10])\n",
      "Hey, I'm in embedding!: torch.Size([1, 3, 10])\n",
      "Hey, I'm in embedding!: torch.Size([1, 3, 10])\n",
      "Hey, I'm in embedding!: torch.Size([1, 3, 10])\n",
      "Hey, I'm in embedding!: torch.Size([1, 3, 10])\n",
      "Hey, I'm in embedding!: torch.Size([1, 3, 10])\n",
      "Hey, I'm in embedding!: torch.Size([1, 3, 10])\n",
      "Hey, I'm in embedding!: torch.Size([1, 3, 10])\n",
      "Hey, I'm in embedding!: torch.Size([1, 3, 10])\n",
      "Hey, I'm in embedding!: torch.Size([1, 3, 10])\n",
      "Hey, I'm in embedding!: torch.Size([1, 3, 10])\n",
      "Hey, I'm in embedding!: torch.Size([1, 3, 10])\n",
      "Hey, I'm in embedding!: torch.Size([1, 3, 10])\n",
      "Hey, I'm in embedding!: torch.Size([1, 3, 10])\n",
      "Hey, I'm in embedding!: torch.Size([1, 3, 10])\n",
      "Hey, I'm in embedding!: torch.Size([1, 3, 10])\n",
      "Hey, I'm in embedding!: torch.Size([1, 3, 10])\n",
      "Hey, I'm in embedding!: torch.Size([1, 3, 10])\n",
      "Hey, I'm in embedding!: torch.Size([1, 3, 10])\n",
      "Hey, I'm in embedding!: torch.Size([1, 3, 10])\n",
      "Hey, I'm in embedding!: torch.Size([1, 3, 10])\n",
      "Hey, I'm in embedding!: torch.Size([1, 3, 10])\n",
      "Hey, I'm in embedding!: torch.Size([1, 3, 10])\n",
      "Hey, I'm in embedding!: torch.Size([1, 3, 10])\n",
      "Hey, I'm in embedding!: torch.Size([1, 3, 10])\n",
      "Hey, I'm in embedding!: torch.Size([1, 3, 10])\n",
      "Hey, I'm in embedding!: torch.Size([1, 3, 10])\n",
      "Hey, I'm in embedding!: torch.Size([1, 3, 10])\n",
      "Hey, I'm in embedding!: torch.Size([1, 3, 10])\n",
      "Hey, I'm in embedding!: torch.Size([1, 3, 10])\n",
      "Hey, I'm in embedding!: torch.Size([1, 3, 10])\n",
      "Hey, I'm in embedding!: torch.Size([1, 3, 10])\n",
      "Hey, I'm in embedding!: torch.Size([1, 3, 10])\n",
      "Hey, I'm in embedding!: torch.Size([1, 3, 10])\n",
      "Hey, I'm in embedding!: torch.Size([1, 3, 10])\n",
      "Hey, I'm in embedding!: torch.Size([1, 3, 10])\n",
      "Hey, I'm in embedding!: torch.Size([1, 3, 10])\n",
      "Hey, I'm in embedding!: torch.Size([1, 3, 10])\n",
      "Hey, I'm in embedding!: torch.Size([1, 3, 10])\n",
      "Hey, I'm in embedding!: torch.Size([1, 3, 10])\n",
      "Hey, I'm in embedding!: torch.Size([1, 3, 10])\n",
      "Hey, I'm in embedding!: torch.Size([1, 3, 10])\n",
      "Hey, I'm in embedding!: torch.Size([1, 3, 10])\n",
      "Hey, I'm in embedding!: torch.Size([1, 3, 10])\n",
      "Hey, I'm in embedding!: torch.Size([1, 3, 10])\n",
      "Hey, I'm in embedding!: torch.Size([1, 3, 10])\n",
      "Hey, I'm in embedding!: torch.Size([1, 3, 10])\n",
      "Hey, I'm in embedding!: torch.Size([1, 3, 10])\n",
      "Hey, I'm in embedding!: torch.Size([1, 3, 10])\n",
      "Hey, I'm in embedding!: torch.Size([1, 3, 10])\n",
      "Hey, I'm in embedding!: torch.Size([1, 3, 10])\n",
      "Hey, I'm in embedding!: torch.Size([1, 3, 10])\n",
      "Hey, I'm in embedding!: torch.Size([1, 3, 10])\n",
      "Hey, I'm in embedding!: torch.Size([1, 3, 10])\n",
      "Hey, I'm in embedding!: torch.Size([1, 3, 10])\n",
      "Hey, I'm in embedding!: torch.Size([1, 3, 10])\n",
      "Hey, I'm in embedding!: torch.Size([1, 3, 10])\n",
      "Hey, I'm in embedding!: torch.Size([1, 3, 10])\n",
      "Hey, I'm in embedding!: torch.Size([1, 3, 10])\n",
      "Hey, I'm in embedding!: torch.Size([1, 3, 10])\n",
      "Hey, I'm in embedding!: torch.Size([1, 3, 10])\n",
      "Hey, I'm in embedding!: torch.Size([1, 3, 10])\n",
      "Hey, I'm in embedding!: torch.Size([1, 3, 10])\n",
      "Hey, I'm in embedding!: torch.Size([1, 3, 10])\n",
      "Hey, I'm in embedding!: torch.Size([1, 3, 10])\n",
      "Hey, I'm in embedding!: torch.Size([1, 3, 10])\n",
      "Hey, I'm in embedding!: torch.Size([1, 3, 10])\n",
      "Hey, I'm in embedding!: torch.Size([1, 3, 10])\n",
      "Hey, I'm in embedding!: torch.Size([1, 3, 10])\n",
      "Hey, I'm in embedding!: torch.Size([1, 3, 10])\n",
      "Hey, I'm in embedding!: torch.Size([1, 3, 10])\n",
      "Hey, I'm in embedding!: torch.Size([1, 3, 10])\n",
      "Hey, I'm in embedding!: torch.Size([1, 3, 10])\n",
      "Hey, I'm in embedding!: torch.Size([1, 3, 10])\n",
      "Hey, I'm in embedding!: torch.Size([1, 3, 10])\n",
      "Hey, I'm in embedding!: torch.Size([1, 3, 10])\n",
      "Hey, I'm in embedding!: torch.Size([1, 3, 10])\n",
      "Hey, I'm in embedding!: torch.Size([1, 3, 10])\n",
      "Hey, I'm in embedding!: torch.Size([1, 3, 10])\n",
      "Hey, I'm in embedding!: torch.Size([1, 3, 10])\n",
      "Hey, I'm in embedding!: torch.Size([1, 3, 10])\n",
      "Hey, I'm in embedding!: torch.Size([1, 3, 10])\n",
      "druvselofrvajfjhjgneksynrnqogudhczocmxoxtbupknotebdegifstrtwpozgyjlsbkssauaylaoabmajjugntmvxybga.\n"
     ]
    }
   ],
   "source": [
    "# sample from the model\n",
    "for _ in range(20):\n",
    "    \n",
    "    out = []\n",
    "    context = [0] * block_size # initialize with all '...'\n",
    "    while True:\n",
    "      # forward pass the neural net\n",
    "      logits = model(torch.tensor([context]))\n",
    "      probs = F.softmax(logits, dim=1)\n",
    "      # sample from the distribution\n",
    "      ix = torch.multinomial(probs, num_samples=1).item()\n",
    "      # shift the context window and track the samples\n",
    "      context = context[1:] + [ix]\n",
    "      out.append(ix)\n",
    "      # if we sample the special '.' token, break\n",
    "      if ix == 0:\n",
    "        break\n",
    "    \n",
    "    print(''.join(itos[i] for i in out)) # decode and print the generated word\n",
    "# Btw, if you didn't run the \"set self.training to false\" above, this code would still work but it's using the wrong variables -- like the batchnorm would be doin le stuff on the wrong vars (over whole training set inputted) instead of the running vars. \n",
    "# And you could definitely tell if it's fucked in the sampling, because it would give an error: you can't get the variance of a single sample! (srs, it gives 'nan'. Also, it doesn't make sense to find spread of 1 sample) "
   ]
  },
  {
   "cell_type": "code",
   "execution_count": 71,
   "metadata": {},
   "outputs": [
    {
     "data": {
      "text/plain": [
       "(torch.Size([3]), torch.Size([1, 3]))"
      ]
     },
     "execution_count": 71,
     "metadata": {},
     "output_type": "execute_result"
    }
   ],
   "source": [
    "torch.tensor(context).shape, torch.tensor([context]).shape # That's why you wanna wrape context in another list -- to make it 2d."
   ]
  },
  {
   "attachments": {},
   "cell_type": "markdown",
   "metadata": {},
   "source": [
    "# WaveNet time!\n",
    "\n",
    "The general idea of this is to slowly diffuse the character information into the system, instead of getting the entire context and just CRUSHING IT straight up into a single layer with the embed. Like, we're losing stuff because how fast we're crushing it.\n",
    "\n",
    "The way this works is: basically we get 2 characters, it makes a bigram, get two bigrams, makes a four gram, .... \n",
    "This is so that we basically crush the information slowly, as the info gets deeper and deeper into the NN. And the bet is that we can learn better from it.\n",
    "https://www.youtube.com/watch?v=t3YJ5hKiMQ0 18:00"
   ]
  },
  {
   "attachments": {},
   "cell_type": "markdown",
   "metadata": {},
   "source": [
    "Since we're gonna be changing stuff, let's get a performance log. Like, look here for block size = 8: (when we're crushing 8 things at once :skull:)\n",
    "### Performance log\n",
    "original (3 character context + 200 hidden neurons, 12K params): train 2.058, val 2.105\n",
    "\n",
    "context: 3 -> 8 (22K params): train 1.918, val 2.027)\n",
    "\n",
    "flat -> hierarchical (22K params): train 1.941, val 2.029\n",
    "\n",
    "fix bug in batchnorm: train 1.912, val 2.022\n",
    "\n",
    "scale up the network: n_embd 24, n_hidden 128 (76K params): train 1.769, val 1.993\n",
    "\n",
    "\n"
   ]
  },
  {
   "cell_type": "code",
   "execution_count": 72,
   "metadata": {},
   "outputs": [
    {
     "name": "stdout",
     "output_type": "stream",
     "text": [
      "torch.Size([182580, 8]) torch.Size([182580])\n",
      "torch.Size([22767, 8]) torch.Size([22767])\n",
      "torch.Size([22799, 8]) torch.Size([22799])\n"
     ]
    }
   ],
   "source": [
    "# build the dataset\n",
    "block_size = 8 # context length: how many characters do we take to predict the next one?\n",
    "\n",
    "def build_dataset(words):  \n",
    "  X, Y = [], []\n",
    "  \n",
    "  for w in words:\n",
    "    context = [0] * block_size\n",
    "    for ch in w + '.':\n",
    "      ix = stoi[ch]\n",
    "      X.append(context)\n",
    "      Y.append(ix)\n",
    "      context = context[1:] + [ix] # crop and append\n",
    "\n",
    "  X = torch.tensor(X)\n",
    "  Y = torch.tensor(Y)\n",
    "  print(X.shape, Y.shape)\n",
    "  return X, Y\n",
    "\n",
    "import random\n",
    "random.seed(42)\n",
    "random.shuffle(words)\n",
    "n1 = int(0.8*len(words))\n",
    "n2 = int(0.9*len(words))\n",
    "\n",
    "Xtr,  Ytr  = build_dataset(words[:n1])     # 80%\n",
    "Xdev, Ydev = build_dataset(words[n1:n2])   # 10%\n",
    "Xte,  Yte  = build_dataset(words[n2:])     # 10%"
   ]
  },
  {
   "attachments": {},
   "cell_type": "markdown",
   "metadata": {},
   "source": [
    "## Beginning to explore slower embedding/flatten speeds to conserve information\n",
    "We're gonna implement stuff!!! Like first only concating each 2 consecutive embeds, and then pushing that through layers in parallel."
   ]
  },
  {
   "cell_type": "code",
   "execution_count": 73,
   "metadata": {},
   "outputs": [
    {
     "name": "stdout",
     "output_type": "stream",
     "text": [
      "........ ---> e\n",
      ".......e ---> b\n",
      "......eb ---> r\n",
      ".....ebr ---> i\n",
      "....ebri ---> m\n",
      "...ebrim ---> a\n",
      "..ebrima ---> .\n",
      "........ ---> h\n",
      ".......h ---> i\n",
      "......hi ---> l\n"
     ]
    }
   ],
   "source": [
    "# print first 10 examples in the training sets\n",
    "for x, y in zip(Xtr[:10], Ytr[:10]):\n",
    "\t# print(x,y)\n",
    "\tprint(''.join(itos[ix.item()] for ix in x), '--->', itos[y.item()])\n",
    "## Mmm tasty x -> y examples (we got 182625 training examples hehe)"
   ]
  },
  {
   "attachments": {},
   "cell_type": "markdown",
   "metadata": {},
   "source": [
    "### Scratch space for experimenting with batching pairs of characters"
   ]
  },
  {
   "cell_type": "code",
   "execution_count": 74,
   "metadata": {},
   "outputs": [
    {
     "name": "stdout",
     "output_type": "stream",
     "text": [
      "ix=tensor([ 48048, 179099, 152617,  69614])\n",
      "Hey, I'm in embedding!: torch.Size([4, 8, 10])\n"
     ]
    },
    {
     "ename": "RuntimeError",
     "evalue": "mat1 and mat2 shapes cannot be multiplied (4x80 and 30x200)",
     "output_type": "error",
     "traceback": [
      "\u001b[1;31m---------------------------------------------------------------------------\u001b[0m",
      "\u001b[1;31mRuntimeError\u001b[0m                              Traceback (most recent call last)",
      "Cell \u001b[1;32mIn[74], line 6\u001b[0m\n\u001b[0;32m      3\u001b[0m \u001b[39mprint\u001b[39m(\u001b[39mf\u001b[39m\u001b[39m'\u001b[39m\u001b[39m{\u001b[39;00mix\u001b[39m=}\u001b[39;00m\u001b[39m'\u001b[39m)\n\u001b[0;32m      4\u001b[0m Xb, Yb \u001b[39m=\u001b[39m Xtr[ix], Ytr[ix]\n\u001b[1;32m----> 6\u001b[0m logits \u001b[39m=\u001b[39m model(Xb)\n\u001b[0;32m      7\u001b[0m \u001b[39mprint\u001b[39m(\u001b[39mf\u001b[39m\u001b[39m'\u001b[39m\u001b[39m{\u001b[39;00mXb\u001b[39m.\u001b[39mshape\u001b[39m=}\u001b[39;00m\u001b[39m, \u001b[39m\u001b[39m{\u001b[39;00mblock_size\u001b[39m=}\u001b[39;00m\u001b[39m'\u001b[39m)\n\u001b[0;32m      8\u001b[0m \u001b[39mprint\u001b[39m(Xb) \u001b[39m# 4 examples, each 8 characters.\u001b[39;00m\n",
      "Cell \u001b[1;32mIn[64], line 9\u001b[0m, in \u001b[0;36mSequential.__call__\u001b[1;34m(self, x)\u001b[0m\n\u001b[0;32m      6\u001b[0m \u001b[39mdef\u001b[39;00m \u001b[39m__call__\u001b[39m(\u001b[39mself\u001b[39m, x):\n\u001b[0;32m      7\u001b[0m \t\u001b[39m# Given an input, call all the layers sequentially, then return that final output.\u001b[39;00m\n\u001b[0;32m      8\u001b[0m \t\u001b[39mfor\u001b[39;00m layer \u001b[39min\u001b[39;00m \u001b[39mself\u001b[39m\u001b[39m.\u001b[39mlayers:\n\u001b[1;32m----> 9\u001b[0m \t\tx \u001b[39m=\u001b[39m layer(x)\n\u001b[0;32m     10\u001b[0m \t\u001b[39mself\u001b[39m\u001b[39m.\u001b[39mout \u001b[39m=\u001b[39m x\n\u001b[0;32m     11\u001b[0m \t\u001b[39mreturn\u001b[39;00m \u001b[39mself\u001b[39m\u001b[39m.\u001b[39mout\n",
      "Cell \u001b[1;32mIn[50], line 11\u001b[0m, in \u001b[0;36mLinear.__call__\u001b[1;34m(self, x)\u001b[0m\n\u001b[0;32m     10\u001b[0m \u001b[39mdef\u001b[39;00m \u001b[39m__call__\u001b[39m(\u001b[39mself\u001b[39m, x):\n\u001b[1;32m---> 11\u001b[0m   \u001b[39mself\u001b[39m\u001b[39m.\u001b[39mout \u001b[39m=\u001b[39m x \u001b[39m@\u001b[39;49m \u001b[39mself\u001b[39;49m\u001b[39m.\u001b[39;49mweight\n\u001b[0;32m     12\u001b[0m   \u001b[39mif\u001b[39;00m \u001b[39mself\u001b[39m\u001b[39m.\u001b[39mbias \u001b[39mis\u001b[39;00m \u001b[39mnot\u001b[39;00m \u001b[39mNone\u001b[39;00m:\n\u001b[0;32m     13\u001b[0m     \u001b[39mself\u001b[39m\u001b[39m.\u001b[39mout \u001b[39m+\u001b[39m\u001b[39m=\u001b[39m \u001b[39mself\u001b[39m\u001b[39m.\u001b[39mbias\n",
      "\u001b[1;31mRuntimeError\u001b[0m: mat1 and mat2 shapes cannot be multiplied (4x80 and 30x200)"
     ]
    }
   ],
   "source": [
    "## Just setting up a 'scratch space' rough place where we can see what's happening in the model easily\n",
    "ix = torch.randint(0, Xtr.shape[0], (4,)) # batch of just 4 examples\n",
    "print(f'{ix=}')\n",
    "Xb, Yb = Xtr[ix], Ytr[ix]\n",
    "\n",
    "logits = model(Xb)\n",
    "print(f'{Xb.shape=}, {block_size=}')\n",
    "print(Xb) # 4 examples, each 8 characters."
   ]
  },
  {
   "cell_type": "code",
   "execution_count": null,
   "metadata": {},
   "outputs": [
    {
     "name": "stdout",
     "output_type": "stream",
     "text": [
      "Embedding : (4, 8, 10)\n",
      "FlattenConsecutive : (4, 80)\n",
      "Linear : (4, 200)\n",
      "BatchNorm1d : (4, 200)\n",
      "Tanh : (4, 200)\n",
      "Linear : (4, 27)\n"
     ]
    }
   ],
   "source": [
    "for layer in model.layers:\n",
    "\tprint(layer.__class__.__name__, ':', tuple(layer.out.shape))"
   ]
  },
  {
   "cell_type": "code",
   "execution_count": null,
   "metadata": {},
   "outputs": [
    {
     "ename": "AttributeError",
     "evalue": "'Embedding' object has no attribute 'out'",
     "output_type": "error",
     "traceback": [
      "\u001b[1;31m---------------------------------------------------------------------------\u001b[0m",
      "\u001b[1;31mAttributeError\u001b[0m                            Traceback (most recent call last)",
      "Cell \u001b[1;32mIn[42], line 1\u001b[0m\n\u001b[1;32m----> 1\u001b[0m model\u001b[39m.\u001b[39;49mlayers[\u001b[39m0\u001b[39;49m]\u001b[39m.\u001b[39;49mout\u001b[39m.\u001b[39mshape \u001b[39m# Output of embedding layer || Every char (for our block size of 8) is translated into a 10 dimensional vector\u001b[39;00m\n",
      "\u001b[1;31mAttributeError\u001b[0m: 'Embedding' object has no attribute 'out'"
     ]
    }
   ],
   "source": [
    "model.layers[0].out.shape # Output of embedding layer || Every char (for our block size of 8) is translated into a 10 dimensional vector"
   ]
  },
  {
   "cell_type": "code",
   "execution_count": null,
   "metadata": {},
   "outputs": [
    {
     "data": {
      "text/plain": [
       "torch.Size([4, 80])"
      ]
     },
     "execution_count": 104,
     "metadata": {},
     "output_type": "execute_result"
    }
   ],
   "source": [
    "model.layers[1].out.shape # Output of Flatten layer. Did exactly what it does lol."
   ]
  },
  {
   "cell_type": "code",
   "execution_count": null,
   "metadata": {},
   "outputs": [
    {
     "data": {
      "text/plain": [
       "torch.Size([4, 200])"
      ]
     },
     "execution_count": 105,
     "metadata": {},
     "output_type": "execute_result"
    }
   ],
   "source": [
    "model.layers[2].out.shape # Output of Linear Layer, i.e multiply the flattened 8 block size embed * weight matrix.\n"
   ]
  },
  {
   "attachments": {},
   "cell_type": "markdown",
   "metadata": {},
   "source": [
    "Behold... Pytorch matrix multiplication, and how we can do poggers stuff with it:"
   ]
  },
  {
   "cell_type": "code",
   "execution_count": null,
   "metadata": {},
   "outputs": [
    {
     "name": "stdout",
     "output_type": "stream",
     "text": [
      "torch.Size([4, 200])\n",
      "torch.Size([4, 6, 4, 200])\n"
     ]
    }
   ],
   "source": [
    "print((torch.randn(4, 80) @ torch.randn(80, 200) + torch.randn(200)).shape)\n",
    "# But look!\n",
    "print((torch.randn(4,6,4, 80) @ torch.randn(80, 200) + torch.randn(200)).shape)\n",
    "##  Basically, pytorch just ignores all the dimensions to the left (they're unchanged) and it only does matrix multiplication on the *last* dimension.\n",
    "# So we can do batches on batches, yo!"
   ]
  },
  {
   "cell_type": "code",
   "execution_count": null,
   "metadata": {},
   "outputs": [],
   "source": [
    "# 1 2 3 4 5 6 7 8 || So our block size 8 means 8 chars per training example\n",
    "\"\"\"\n",
    "Before, we would embed and then concat all of them together to make that\n",
    "(1,80). But we don't want it to flatten everything at once and multiply it all there -- the process of squishing the information is too quick.\n",
    "\n",
    "> Instead, we want to group the concats like this!\n",
    "\n",
    "(1 2) (3 4) (5 6) (7 8)\n",
    "\n",
    "So every 2 consecutive elements should be flattened out and then multiplied by a weight matrix.\n",
    "\n",
    "But we want each of these 4 groups to be processed in parallel.\n",
    "It's like a *batch dimension*.\n",
    "\n",
    "/// So back to the torch stuff.\n",
    "\n",
    "We basically don't want the (4,80) flattened going into the weight matrix straight away.\n",
    "Instead of our 8 chars at once, we'd want 2 characters going in, then getting flattened ('fused').\n",
    "\n",
    "I.e, our flattened thing would be 20 long. So we don't want an 80 flattened, we want a 20 flattened.\n",
    "So our weight matrix would be (20, 200).\n",
    "\n",
    "Cool!\n",
    "And since we don't want 80 to feed in anymore, we want the groups of 2 to feed in (each having 10 embed dim), i.e we'd want 20 to feed in. And since we have 4 batches of those 20s, well....\n",
    "We'd want to have a (4, 4, 20) flattened matrix thingy.\n",
    ">> This is: For each training example (4 examples in this case), we got the 4 groups (depending on our block size) of 2 characters (which are converted via embedding to each have 10 dimensional vector).\n",
    "\n",
    "\"\"\""
   ]
  },
  {
   "cell_type": "code",
   "execution_count": null,
   "metadata": {},
   "outputs": [
    {
     "name": "stdout",
     "output_type": "stream",
     "text": [
      "torch.Size([4, 4, 200])\n"
     ]
    }
   ],
   "source": [
    "print((torch.randn(4,4,20) @ torch.randn(20, 200) + torch.randn(200)).shape)\n",
    "# So you see, how the flattened embed (i.e each group of (1,2) (3,4) ...) are multipled through the weight matrix at the same time, but still remain separate in their own batches. Yay!!!\n",
    "\n",
    "\"\"\"\n",
    "> First dim: First batch dimension; number of examples (of some N context size abcdefgh (well, they're actually numbers but fuck you too))\n",
    "> Second dim: Second batch dimension: Refers to the 4 groups of pairs (a b) (c d) (e f) (g h) ... \n",
    "> Third dim: Ofc the embedded flattened version of the 2 chars (output of flatten layer). And this is multiplied with the weight.\n",
    "\n",
    "So let's get to changing the classes!\n",
    "\"\"\"\n"
   ]
  },
  {
   "cell_type": "code",
   "execution_count": null,
   "metadata": {},
   "outputs": [],
   "source": [
    "e = torch.randn(4, 8, 10) # from embed layer: goal is to make this (4, 4, 20) where consecutive 10d vectors are concatenated\n",
    "# Heyo! Python list indexing pog"
   ]
  },
  {
   "cell_type": "code",
   "execution_count": null,
   "metadata": {},
   "outputs": [
    {
     "name": "stdout",
     "output_type": "stream",
     "text": [
      "[0, 2, 4, 6, 8] [1, 3, 5, 7, 9]\n",
      "torch.Size([4, 4, 10]) torch.Size([4, 4, 10])\n"
     ]
    }
   ],
   "source": [
    "print(list(range(10))[::2], list(range(10))[1::2])\n",
    "# Hmmm. So we want to add 0+1's vectors, then 2+3's vectors...\n",
    "print(e[:, ::2, :].shape, e[:, 1::2, :].shape) # Okay. \n",
    "# So we're basically indexing into the even/odd chars with this hehe. Now, what if we just add them?"
   ]
  },
  {
   "cell_type": "code",
   "execution_count": null,
   "metadata": {},
   "outputs": [
    {
     "data": {
      "text/plain": [
       "torch.Size([4, 4, 20])"
      ]
     },
     "execution_count": 71,
     "metadata": {},
     "output_type": "execute_result"
    }
   ],
   "source": [
    "#let's concat them along the 2nd dimension!\n",
    "explicit = torch.concat([e[:, ::2, :], e[:, 1::2, :]], dim=2)\n",
    "explicit.shape"
   ]
  },
  {
   "cell_type": "code",
   "execution_count": null,
   "metadata": {},
   "outputs": [
    {
     "data": {
      "text/plain": [
       "tensor(True)"
      ]
     },
     "execution_count": 74,
     "metadata": {},
     "output_type": "execute_result"
    }
   ],
   "source": [
    "# Guess what mfer. View just so happens to do what we want lmao!\n",
    "\n",
    "(e.view(4,4,20) == explicit).all() # checks if all elements in tensor are true"
   ]
  },
  {
   "cell_type": "code",
   "execution_count": 1,
   "metadata": {},
   "outputs": [
    {
     "ename": "NameError",
     "evalue": "name 'torch' is not defined",
     "output_type": "error",
     "traceback": [
      "\u001b[1;31m---------------------------------------------------------------------------\u001b[0m",
      "\u001b[1;31mNameError\u001b[0m                                 Traceback (most recent call last)",
      "Cell \u001b[1;32mIn[1], line 2\u001b[0m\n\u001b[0;32m      1\u001b[0m \u001b[39m# Let's update our flatten class!\u001b[39;00m\n\u001b[1;32m----> 2\u001b[0m \u001b[39mclass\u001b[39;00m \u001b[39mFlattenConsecutive\u001b[39;00m: \u001b[39m# Because we start departing from the pytorch API classes here\u001b[39;00m\n\u001b[0;32m      3\u001b[0m \t\u001b[39m# We'd be making something like (4,8,10) into (4,4,20). Concatenate the last dimensions together through the second batch. \u001b[39;00m\n\u001b[0;32m      4\u001b[0m \t\u001b[39m# Remember, the whole point of this class is so we don't just Flatten the entire block size embeds at once, but slowly do it over time. \u001b[39;00m\n\u001b[0;32m      5\u001b[0m \t\u001b[39mdef\u001b[39;00m \u001b[39m__init__\u001b[39m(\u001b[39mself\u001b[39m, n):\n\u001b[0;32m      6\u001b[0m \t\t\u001b[39m# n is number of elements that are consecutive, that we want to concat into the last dimension of our output\u001b[39;00m\n\u001b[0;32m      7\u001b[0m \t\t\u001b[39mself\u001b[39m\u001b[39m.\u001b[39mn \u001b[39m=\u001b[39m n \n",
      "Cell \u001b[1;32mIn[1], line 9\u001b[0m, in \u001b[0;36mFlattenConsecutive\u001b[1;34m()\u001b[0m\n\u001b[0;32m      5\u001b[0m \u001b[39mdef\u001b[39;00m \u001b[39m__init__\u001b[39m(\u001b[39mself\u001b[39m, n):\n\u001b[0;32m      6\u001b[0m \t\u001b[39m# n is number of elements that are consecutive, that we want to concat into the last dimension of our output\u001b[39;00m\n\u001b[0;32m      7\u001b[0m \t\u001b[39mself\u001b[39m\u001b[39m.\u001b[39mn \u001b[39m=\u001b[39m n \n\u001b[1;32m----> 9\u001b[0m \u001b[39mdef\u001b[39;00m \u001b[39m__call__\u001b[39m(\u001b[39mself\u001b[39m, x: torch\u001b[39m.\u001b[39mTensor):\n\u001b[0;32m     10\u001b[0m \tB, T, C \u001b[39m=\u001b[39m x\u001b[39m.\u001b[39mshape  \u001b[39m# this is from the embedding matrix basically -- so C is actually the embedding length (e.g 10 dim). B is the batch size (# of training examples inputted), and T is the context length or block size. (I.e, are we using 3 or 8 characters (etc.) to predict the next one).\u001b[39;00m\n\u001b[0;32m     11\u001b[0m \t\u001b[39m# Ex: A (4,8,10) means that you have 4 examples, each example having a context length (block size) of 8 -- i.e you are using 8 characters to predict, and each character has been 10 dimensional embedded.\u001b[39;00m\n",
      "\u001b[1;31mNameError\u001b[0m: name 'torch' is not defined"
     ]
    }
   ],
   "source": [
    "# Let's update our flatten class!\n",
    "class FlattenConsecutive: # Because we start departing from the pytorch API classes here\n",
    "\t# We'd be making something like (4,8,10) into (4,4,20). Concatenate the last dimensions together through the second batch. \n",
    "\t# Remember, the whole point of this class is so we don't just Flatten the entire block size embeds at once, but slowly do it over time. \n",
    "\tdef __init__(self, n):\n",
    "\t\t# n is number of elements that are consecutive, that we want to concat into the last dimension of our output\n",
    "\t\tself.n = n \n",
    "\n",
    "\tdef __call__(self, x: torch.Tensor):\n",
    "\t\tB, T, C = x.shape  # this is from the embedding matrix basically -- so C is actually the embedding length (e.g 10 dim). B is the batch size (# of training examples inputted), and T is the context length or block size. (I.e, are we using 3 or 8 characters (etc.) to predict the next one).\n",
    "\t\t# Ex: A (4,8,10) means that you have 4 examples, each example having a context length (block size) of 8 -- i.e you are using 8 characters to predict, and each character has been 10 dimensional embedded.\n",
    "\t\t\n",
    "\t\tx = x.view(B, T//self.n, C*self.n) # could use -1 for 2nd dim, but karpathy likes being expicit in what to expect so you know where errors are coming from || E.g if T=blocksize=8, and n=2, 8//2 = 4. Pog. And C*2=10*2 = 20. We're just concating each 2 consecutive char embeddings together, and view does it in the way we want.\n",
    "\n",
    "\t\tif x.shape[1] == 1: # if 2nd dim is 1, then just return the 2D matrix instead and take out the 1 dim length || E.g it would go (4,8,10) -> (4,4,20) -> (4,2,40) -> (4,1,80) so we just take out the 1 because it's like '1' superchar. Look below for how we use the flattenconsecutives. See how we diffused the flattening over layers instead of doing it all at the beginning like with the flatten class way above?\n",
    "\t\t\tx = x.squeeze(1)  \n",
    "\t\tself.out = x  \n",
    "\t\treturn self.out\n",
    "\n",
    "\tdef parameters(self):\n",
    "\t\treturn []"
   ]
  },
  {
   "attachments": {},
   "cell_type": "markdown",
   "metadata": {},
   "source": [
    "So now let's try it out~!\n"
   ]
  },
  {
   "cell_type": "code",
   "execution_count": 121,
   "metadata": {},
   "outputs": [
    {
     "name": "stdout",
     "output_type": "stream",
     "text": [
      "22397\n"
     ]
    }
   ],
   "source": [
    "# New model initialisation with flattenconsecutive. I.e don't squish the 8 context into one layer ASAP, but diffuse it into it with pairs, then pairs of those pairs, then pairs of those pairs of those pairs (2^3).\n",
    "n_embd = 10 # the dimensionality of the character embedding vectors\n",
    "n_hidden = 68 # the number of neurons in the hidden layer of the MLP\n",
    "# 68 to roughly match the # params in our other model, so we can better gauge the effectiveness of the different architectures\n",
    "model =  Sequential([\n",
    "\tEmbedding(vocab_size, n_embd), \n",
    "\tFlattenConsecutive(2), Linear(n_embd * 2, n_hidden, bias=False), BatchNorm1d(n_hidden), Tanh(), # nembed * 2 linear layer because it's only receiving a size 20 embed thingy now, instead of our old size 80 (nemb*block_size).\n",
    "\tFlattenConsecutive(2), Linear(n_hidden * 2, n_hidden, bias=False), BatchNorm1d(n_hidden), Tanh(),\n",
    "\tFlattenConsecutive(2), Linear(n_hidden * 2, n_hidden, bias=False), BatchNorm1d(n_hidden), Tanh(),\n",
    "\tLinear(n_hidden, vocab_size)\n",
    "])\n",
    "\n",
    "# parameter init\n",
    "# parameter init\n",
    "with torch.no_grad():\n",
    "  model.layers[-1].weight *= 0.1 # last layer make less confident\n",
    "\n",
    "  \n",
    "parameters = model.parameters() # boom!\n",
    "print(sum(p.nelement() for p in parameters)) # number of parameters in total\n",
    "for p in parameters:\n",
    "\tp.requires_grad = True"
   ]
  },
  {
   "cell_type": "code",
   "execution_count": 122,
   "metadata": {},
   "outputs": [
    {
     "name": "stdout",
     "output_type": "stream",
     "text": [
      "ix=tensor([163687, 173446, 166496,  29384])\n",
      "Xb.shape=torch.Size([4, 8]), block_size=8\n",
      "tensor([[ 0,  0,  0,  0,  0,  0,  0, 19],\n",
      "        [ 0,  0,  0,  0,  0,  0,  9, 19],\n",
      "        [ 0, 13,  1, 11, 25, 14, 12,  5],\n",
      "        [ 0,  0, 20,  9,  1, 18, 18,  1]])\n"
     ]
    }
   ],
   "source": [
    "## Just setting up a 'scratch space' rough place where we can see what's happening in the model easily\n",
    "ix = torch.randint(0, Xtr.shape[0], (4,)) # batch of just 4 examples\n",
    "print(f'{ix=}')\n",
    "Xb, Yb = Xtr[ix], Ytr[ix]\n",
    "\n",
    "logits = model(Xb)\n",
    "print(f'{Xb.shape=}, {block_size=}')\n",
    "print(Xb) # 4 examples, each 8 characters.\n"
   ]
  },
  {
   "cell_type": "code",
   "execution_count": 123,
   "metadata": {},
   "outputs": [
    {
     "name": "stdout",
     "output_type": "stream",
     "text": [
      "Embedding : (4, 8, 10)\n",
      "FlattenConsecutive : (4, 4, 20)\n",
      "Linear : (4, 4, 68)\n",
      "BatchNorm1d : (4, 4, 68)\n",
      "Tanh : (4, 4, 68)\n",
      "FlattenConsecutive : (4, 2, 136)\n",
      "Linear : (4, 2, 68)\n",
      "BatchNorm1d : (4, 2, 68)\n",
      "Tanh : (4, 2, 68)\n",
      "FlattenConsecutive : (4, 136)\n",
      "Linear : (4, 68)\n",
      "BatchNorm1d : (4, 68)\n",
      "Tanh : (4, 68)\n",
      "Linear : (4, 27)\n",
      "136 20\n"
     ]
    }
   ],
   "source": [
    "def get_model_structure(model):\n",
    "\tfor layer in model.layers:\n",
    "\t\tprint(layer.__class__.__name__, ':', tuple(layer.out.shape))\n",
    "# see how first we flatten into (4,4,20), then ..., then we bring that new shit and then flatten it consecutively again into a 2, 400 (i.e these would be a 4 large context), and then blah, resets to 200 via the linear layer eating it, \n",
    "\n",
    "# Sometimes it runs properly, sometimes gives an error saying embed has no out. No fuckin idea why\n",
    "get_model_structure(model)\n",
    "print(n_hidden * 2, 2 *n_embd)\n"
   ]
  },
  {
   "cell_type": "code",
   "execution_count": 124,
   "metadata": {},
   "outputs": [
    {
     "name": "stdout",
     "output_type": "stream",
     "text": [
      "      0/  20000: 3.3010\n",
      "Embedding : (32, 8, 10)\n",
      "FlattenConsecutive : (32, 4, 20)\n",
      "Linear : (32, 4, 68)\n",
      "BatchNorm1d : (32, 4, 68)\n",
      "Tanh : (32, 4, 68)\n",
      "FlattenConsecutive : (32, 2, 136)\n",
      "Linear : (32, 2, 68)\n",
      "BatchNorm1d : (32, 2, 68)\n",
      "Tanh : (32, 2, 68)\n",
      "FlattenConsecutive : (32, 136)\n",
      "Linear : (32, 68)\n",
      "BatchNorm1d : (32, 68)\n",
      "Tanh : (32, 68)\n",
      "Linear : (32, 27)\n"
     ]
    }
   ],
   "source": [
    "# Train model if you want \n",
    "train_sequential_model(model)\n",
    "get_model_structure(model) # 32 because they get minibatched\n"
   ]
  },
  {
   "cell_type": "code",
   "execution_count": 125,
   "metadata": {},
   "outputs": [
    {
     "name": "stdout",
     "output_type": "stream",
     "text": [
      "train 3.278094530105591\n",
      "val 3.277949333190918\n"
     ]
    }
   ],
   "source": [
    "# put layers into eval mode (for batchnorm)\n",
    "for layer in layers:\n",
    "\tlayer.training = False\n",
    "\n",
    "# evaluate the loss\n",
    "@torch.no_grad() # this decorator disables gradient tracking inside pytorch\n",
    "def split_loss(split):\n",
    "  x,y = {\n",
    "    'train': (Xtr, Ytr),\n",
    "    'val': (Xdev, Ydev),\n",
    "    'test': (Xte, Yte),\n",
    "  }[split]\n",
    "  logits = model(x)\n",
    "  loss = F.cross_entropy(logits, y)\n",
    "  print(split, loss.item())\n",
    "\n",
    "split_loss('train')\n",
    "split_loss('val')"
   ]
  },
  {
   "attachments": {
    "image.png": {
     "image/png": "[encoded data removed]"
    }
   },
   "cell_type": "markdown",
   "metadata": {},
   "source": [
    "Basically, we implemented this but for 8 instead of 16.\n",
    "![image.png](attachment:image.png)"
   ]
  },
  {
   "attachments": {},
   "cell_type": "markdown",
   "metadata": {},
   "source": [
    "Okay, so we updated performance log -- karpathy ran the training code with the new model, I cba.\n",
    "\n",
    "flat -> hierarchical (22K params): train 1.941, val 2.029. So about the same as 3-8 context, but there's actually a bug in batchnorm now, even though the code still runs!! Aha!!\n",
    "\n",
    "## Fix bug in batchnorm1d\n",
    "\n",
    "So here's the issue, with a toy example"
   ]
  },
  {
   "cell_type": "code",
   "execution_count": 126,
   "metadata": {},
   "outputs": [
    {
     "data": {
      "text/plain": [
       "torch.Size([32, 4, 68])"
      ]
     },
     "execution_count": 126,
     "metadata": {},
     "output_type": "execute_result"
    }
   ],
   "source": [
    "e = torch.randn(32, 4, 68) # received input into  batchnorm\n",
    "emean = e.mean(0, keepdim=True) # 1,4,68\n",
    "evar = e.var(0, keepdim=True) # 1,4,68\n",
    "ehat = (e - emean) / torch.sqrt(evar + 1e-5) # 32, 4, 68\n",
    "ehat.shape # bru\n"
   ]
  },
  {
   "cell_type": "code",
   "execution_count": 129,
   "metadata": {},
   "outputs": [
    {
     "data": {
      "text/plain": [
       "torch.Size([1, 4, 68])"
      ]
     },
     "execution_count": 129,
     "metadata": {},
     "output_type": "execute_result"
    }
   ],
   "source": [
    "model.layers[3].running_mean.shape # So, this is odd, because running mean  should just be (1,68). \n"
   ]
  },
  {
   "cell_type": "code",
   "execution_count": 137,
   "metadata": {},
   "outputs": [
    {
     "data": {
      "text/plain": [
       "torch.Size([1, 1, 68])"
      ]
     },
     "execution_count": 137,
     "metadata": {},
     "output_type": "execute_result"
    }
   ],
   "source": [
    "# Can fix it with \n",
    "e = torch.randn(32, 4, 68) # received input into  batchnorm\n",
    "emean = e.mean((0,1), keepdim=True) # 1,1,68\n",
    "evar = e.var((0,1), keepdim=True) # 1,1,68\n",
    "ehat = (e - emean) / torch.sqrt(evar + 1e-5) # 32, 1, 68\n",
    "emean.shape # Nice. "
   ]
  },
  {
   "cell_type": "code",
   "execution_count": 143,
   "metadata": {},
   "outputs": [],
   "source": [
    "class BatchNorm1d:\n",
    "  \n",
    "  def __init__(self, dim, eps=1e-5, momentum=0.1):\n",
    "    self.eps = eps\n",
    "    self.momentum = momentum\n",
    "    self.training = True\n",
    "    # parameters (trained with backprop)\n",
    "    self.gamma = torch.ones(dim)\n",
    "    self.beta = torch.zeros(dim)\n",
    "    # buffers (trained with a running 'momentum update')\n",
    "    self.running_mean = torch.zeros(dim)\n",
    "    self.running_var = torch.ones(dim)\n",
    "  \n",
    "  def __call__(self, x):\n",
    "    # calculate the forward pass\n",
    "    if self.training: # checks 2d/3d. Bit different from pytorch implementation: We assume the last dim is what we want, it assumes first dim (dim 1) is what we want.\n",
    "      if x.ndim == 2:\n",
    "        dim = 0\n",
    "      elif x.ndim == 3:\n",
    "        dim = (0,1)\n",
    "      xmean = x.mean(dim, keepdim=True) # batch mean\n",
    "      xvar = x.var(dim, keepdim=True) # batch variance\n",
    "    else:\n",
    "      xmean = self.running_mean\n",
    "      xvar = self.running_var\n",
    "    xhat = (x - xmean) / torch.sqrt(xvar + self.eps) # normalize to unit variance\n",
    "    self.out = self.gamma * xhat + self.beta\n",
    "    # update the buffers\n",
    "    if self.training:\n",
    "      with torch.no_grad():\n",
    "        self.running_mean = (1 - self.momentum) * self.running_mean + self.momentum * xmean\n",
    "        self.running_var = (1 - self.momentum) * self.running_var + self.momentum * xvar\n",
    "    return self.out\n",
    "  \n",
    "  def parameters(self):\n",
    "    return [self.gamma, self.beta]\n"
   ]
  },
  {
   "cell_type": "code",
   "execution_count": 144,
   "metadata": {},
   "outputs": [
    {
     "name": "stdout",
     "output_type": "stream",
     "text": [
      "22397\n"
     ]
    }
   ],
   "source": [
    "# New model initialisation with flattenconsecutive. I.e don't squish the 8 context into one layer ASAP, but diffuse it into it with pairs, then pairs of those pairs, then pairs of those pairs of those pairs (2^3).\n",
    "n_embd = 10 # the dimensionality of the character embedding vectors\n",
    "n_hidden = 68 # the number of neurons in the hidden layer of the MLP\n",
    "# 68 to roughly match the # params in our other model, so we can better gauge the effectiveness of the different architectures\n",
    "model =  Sequential([\n",
    "\tEmbedding(vocab_size, n_embd), \n",
    "\tFlattenConsecutive(2), Linear(n_embd * 2, n_hidden, bias=False), BatchNorm1d(n_hidden), Tanh(),\n",
    "\tFlattenConsecutive(2), Linear(n_hidden * 2, n_hidden, bias=False), BatchNorm1d(n_hidden), Tanh(),\n",
    "\tFlattenConsecutive(2), Linear(n_hidden * 2, n_hidden, bias=False), BatchNorm1d(n_hidden), Tanh(),\n",
    "\tLinear(n_hidden, vocab_size)\n",
    "])\n",
    "\n",
    "# parameter init\n",
    "# parameter init\n",
    "with torch.no_grad():\n",
    "  model.layers[-1].weight *= 0.1 # last layer make less confident\n",
    "\n",
    "  \n",
    "parameters = model.parameters() # boom!\n",
    "print(sum(p.nelement() for p in parameters)) # number of parameters in total\n",
    "for p in parameters:\n",
    "\tp.requires_grad = True"
   ]
  },
  {
   "cell_type": "code",
   "execution_count": 145,
   "metadata": {},
   "outputs": [
    {
     "name": "stdout",
     "output_type": "stream",
     "text": [
      "      0/  20000: 3.2982\n",
      "torch.Size([1, 1, 68])\n",
      "train 3.280322551727295\n",
      "val 3.280872106552124\n"
     ]
    }
   ],
   "source": [
    "# Cool, so let's retrain\n",
    "train_sequential_model(model) # imagine this didn't break at first step; let's take karpathy's val/loss\n",
    "print(model.layers[3].running_mean.shape) # Cool! Running mean is fixed! \n",
    "split_loss('train')\n",
    "split_loss('val')\n",
    "\n",
    "## Performance log updated!!, fix bug in batchnorm: train 1.912, val 2.022"
   ]
  },
  {
   "attachments": {},
   "cell_type": "markdown",
   "metadata": {},
   "source": [
    "Now let's scale up our WaveNet!!!"
   ]
  },
  {
   "cell_type": "code",
   "execution_count": 150,
   "metadata": {},
   "outputs": [],
   "source": [
    "torch.manual_seed(42);"
   ]
  },
  {
   "cell_type": "code",
   "execution_count": 151,
   "metadata": {},
   "outputs": [
    {
     "name": "stdout",
     "output_type": "stream",
     "text": [
      "76579\n"
     ]
    }
   ],
   "source": [
    "## Boooom! Yeah, we basically just increased our embed size to 24 haha\n",
    "n_embd = 24 \n",
    "n_hidden = 128 \n",
    "model =  Sequential([\n",
    "\tEmbedding(vocab_size, n_embd), \n",
    "\tFlattenConsecutive(2), Linear(n_embd * 2, n_hidden, bias=False), BatchNorm1d(n_hidden), Tanh(),\n",
    "\tFlattenConsecutive(2), Linear(n_hidden * 2, n_hidden, bias=False), BatchNorm1d(n_hidden), Tanh(),\n",
    "\tFlattenConsecutive(2), Linear(n_hidden * 2, n_hidden, bias=False), BatchNorm1d(n_hidden), Tanh(),\n",
    "\tLinear(n_hidden, vocab_size)\n",
    "])\n",
    "\n",
    "# parameter init\n",
    "# parameter init\n",
    "with torch.no_grad():\n",
    "  model.layers[-1].weight *= 0.1 # last layer make less confident\n",
    "  \n",
    "parameters = model.parameters() # boom!\n",
    "print(sum(p.nelement() for p in parameters)) # number of parameters in total\n",
    "for p in parameters:\n",
    "\tp.requires_grad = True"
   ]
  },
  {
   "cell_type": "code",
   "execution_count": 154,
   "metadata": {},
   "outputs": [
    {
     "name": "stdout",
     "output_type": "stream",
     "text": [
      "      0/  20000: 3.2481\n",
      "   1000/  20000: 2.1492\n",
      "   2000/  20000: 1.8624\n",
      "   3000/  20000: 2.1689\n",
      "   4000/  20000: 2.1611\n",
      "   5000/  20000: 2.2298\n",
      "   6000/  20000: 2.0086\n",
      "   7000/  20000: 2.5093\n",
      "   8000/  20000: 2.3162\n",
      "   9000/  20000: 1.9915\n",
      "  10000/  20000: 1.9011\n",
      "  11000/  20000: 2.0888\n",
      "  12000/  20000: 2.6927\n",
      "  13000/  20000: 2.3011\n",
      "  14000/  20000: 2.4395\n",
      "  15000/  20000: 2.1827\n",
      "  16000/  20000: 2.2994\n",
      "  17000/  20000: 2.1462\n",
      "  18000/  20000: 1.9062\n",
      "  19000/  20000: 1.9464\n",
      "torch.Size([1, 1, 128])\n",
      "train 2.0421669483184814\n",
      "val 2.091167688369751\n"
     ]
    }
   ],
   "source": [
    "train_sequential_model(model) # imagine this didn't break at first step; let's take karpathy's val/loss\n",
    "split_loss('train')\n",
    "split_loss('val')\n",
    "\n",
    "## Anyways, so karpathy's vals are taken here:\n",
    "# scale up the network: n_embd 24, n_hidden 128 (76K params): train 1.769, val 1.993\n",
    "\n",
    "## Note, that if you were to actually take off the break in train and really train it, it takes a lot longer to train compared to the other models!! Just because there's so many more parameters, yeah. Sheeesh"
   ]
  },
  {
   "cell_type": "code",
   "execution_count": null,
   "metadata": {},
   "outputs": [],
   "source": []
  }
 ],
 "metadata": {
  "kernelspec": {
   "display_name": "venv",
   "language": "python",
   "name": "python3"
  },
  "language_info": {
   "codemirror_mode": {
    "name": "ipython",
    "version": 3
   },
   "file_extension": ".py",
   "mimetype": "text/x-python",
   "name": "python",
   "nbconvert_exporter": "python",
   "pygments_lexer": "ipython3",
   "version": "3.9.5"
  },
  "orig_nbformat": 4,
  "vscode": {
   "interpreter": {
    "hash": "c8a31c3d3c58cfe49314f156da5c5377d35db16854b5a4a4800d645f76ea86e2"
   }
  }
 },
 "nbformat": 4,
 "nbformat_minor": 2
}
